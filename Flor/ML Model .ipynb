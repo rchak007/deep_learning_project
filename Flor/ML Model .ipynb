{
 "cells": [
  {
   "cell_type": "code",
   "execution_count": 13,
   "id": "9a0545e6-ad05-46cd-9c19-f3ca3bb176fd",
   "metadata": {},
   "outputs": [
    {
     "name": "stdout",
     "output_type": "stream",
     "text": [
      "/Users/elizabethcomstock/opt/anaconda3/bin/python3\n"
     ]
    }
   ],
   "source": [
    "!which python3"
   ]
  },
  {
   "cell_type": "markdown",
   "id": "0bac2cb3-603d-4815-81f5-ceec3afc8020",
   "metadata": {},
   "source": [
    "# PROJECT REQUIREMENTS: THIS MODEL FAILED :/"
   ]
  },
  {
   "cell_type": "code",
   "execution_count": 14,
   "id": "b5d769b0-bb84-4cbd-8bbb-bbc1a33c1593",
   "metadata": {},
   "outputs": [],
   "source": [
    "#!pip install pandas_datareader"
   ]
  },
  {
   "cell_type": "code",
   "execution_count": 15,
   "id": "66bd62f3-7892-45e1-8731-dddc2bd16d85",
   "metadata": {},
   "outputs": [],
   "source": [
    "#!pip3 install seaborn"
   ]
  },
  {
   "cell_type": "code",
   "execution_count": null,
   "id": "d4ca6c53-31bd-4c4d-af45-9a2b385c33e2",
   "metadata": {},
   "outputs": [],
   "source": []
  },
  {
   "cell_type": "markdown",
   "id": "48ccf1f6-8d3b-406f-8a1a-ff15690f9124",
   "metadata": {},
   "source": [
    "# INSTRUCTIONS FOR ML"
   ]
  },
  {
   "cell_type": "markdown",
   "id": "f6d2bcd8-6e2f-42c0-8e2c-4717edcb2845",
   "metadata": {},
   "source": [
    "<p> Ok. After many failed attempts I have decided on Seaborn. Same as always lets start with some libraries. Import tablib didnt work well here so we had to import using finta library and then use the TA features in that.</p>"
   ]
  },
  {
   "cell_type": "code",
   "execution_count": 17,
   "id": "976fb8de-b49a-40de-b062-b7d8020bbc86",
   "metadata": {},
   "outputs": [],
   "source": [
    "# Import Libraries \n",
    "\n",
    "import pandas as pd \n",
    "import joblib\n",
    "import pandas_datareader.data as web\n",
    "import numpy as np\n",
    "import matplotlib.pyplot as plt\n",
    "import datetime\n",
    "import time\n",
    "\n"
   ]
  },
  {
   "cell_type": "code",
   "execution_count": 18,
   "id": "fb50256b-3ac6-4243-ac4b-05145a97dd3e",
   "metadata": {},
   "outputs": [
    {
     "data": {
      "text/html": [
       "<style>.container { width:100% !important; }</style>"
      ],
      "text/plain": [
       "<IPython.core.display.HTML object>"
      ]
     },
     "metadata": {},
     "output_type": "display_data"
    }
   ],
   "source": [
    "from IPython.core.display import display, HTML\n",
    "display(HTML(\"<style>.container { width:100% !important; }</style>\"))\n",
    "\n",
    "# for pandas_datareader, otherwise it might have issues, sometimes there is some version mismatch\n",
    "pd.core.common.is_list_like = pd.api.types.is_list_like\n",
    "\n",
    "# make pandas to print dataframes nicely\n",
    "pd.set_option('expand_frame_repr', False)  \n",
    "\n",
    "#newest yahoo API \n",
    "import yfinance as yahoo_finance\n",
    "%matplotlib inline"
   ]
  },
  {
   "cell_type": "markdown",
   "id": "ef54cc16-24fd-433f-a340-8aead7b5aaa1",
   "metadata": {},
   "source": [
    "<p> Note: Notice that this code is the same code in our TI_Calculations Excersise"
   ]
  },
  {
   "cell_type": "code",
   "execution_count": 19,
   "id": "29f6b8b5-abe9-401a-8661-882b64e074b6",
   "metadata": {},
   "outputs": [],
   "source": [
    "# Pick your STOCK Ticker\n",
    "ticker = 'AAPL'\n",
    "\n",
    "# you can modify time for dataset import here:\n",
    "start_time = datetime.datetime(2017, 10, 1)\n",
    "\n",
    "# and here: end_time = datetime.datetime(2019, 1, 20)\n",
    "end_time = datetime.datetime.now().date().isoformat() "
   ]
  },
  {
   "cell_type": "markdown",
   "id": "57e4518b-4590-40af-b6ee-3c78e5642e85",
   "metadata": {},
   "source": [
    "# Function Junction: Lets defining some functions "
   ]
  },
  {
   "cell_type": "code",
   "execution_count": 20,
   "id": "2e22eff9-a675-4963-ab34-c4098249f77b",
   "metadata": {},
   "outputs": [],
   "source": [
    "# pull data\n",
    "def get_data(ticker):\n",
    "    \n",
    "    # from yahoo finance which gives only daily historical data\n",
    "    connected = False\n",
    "    while not connected:\n",
    "        try:\n",
    "            df = web.get_data_yahoo(ticker, start=start_time, end=end_time)\n",
    "            connected = True\n",
    "            print('connected to yahoo')\n",
    "        except Exception as e:\n",
    "            print(\"type error: \" + str(e))\n",
    "            time.sleep( 5 )\n",
    "            pass   \n",
    "\n",
    "    # use numerical integer index instead of date    \n",
    "    df = df.reset_index()\n",
    "    \n",
    "    return df"
   ]
  },
  {
   "cell_type": "code",
   "execution_count": 21,
   "id": "072f56ce-dbe6-421c-aa89-ea831991806f",
   "metadata": {},
   "outputs": [
    {
     "name": "stdout",
     "output_type": "stream",
     "text": [
      "connected to yahoo\n",
      "        Date       High        Low       Open      Close      Volume  Adj Close\n",
      "0 2017-10-02  38.612499  38.180000  38.564999  38.452499  74795200.0  36.698429\n",
      "1 2017-10-03  38.772499  38.477501  38.502499  38.619999  64921200.0  36.858295\n",
      "2 2017-10-04  38.465000  38.115002  38.407501  38.369999  80655200.0  36.619701\n",
      "3 2017-10-05  38.860001  38.512501  38.544998  38.847500  85135200.0  37.075420\n",
      "4 2017-10-06  38.872501  38.639999  38.742500  38.825001  69630400.0  37.053932\n"
     ]
    }
   ],
   "source": [
    "# Display data by defining the user defined variable. Standard \"df\" is used here:\n",
    "df = get_data(ticker)\n",
    "\n",
    "# Lets See what we got. use print to display\n",
    "print(df.head(5))"
   ]
  },
  {
   "cell_type": "markdown",
   "id": "ba728361-62c4-4225-8f19-02ea01748cc4",
   "metadata": {},
   "source": [
    "# COMPUTE TECHNICAL INDICATORS: EMA ATR ADX RSI MACD Bollinger Band\n",
    "<p>Every day the team wanted there was no consensus as to what each team member wanted so I just ploted them all. If you read TI_Calculations notebook you dont need to ask me which indicator is here. <i>Poquito esfuerso,</i> folks. </p>"
   ]
  },
  {
   "cell_type": "code",
   "execution_count": 22,
   "id": "5a349c9b-6516-431f-b610-ebab2a760e48",
   "metadata": {},
   "outputs": [],
   "source": [
    "# ----------------------------------------Library wont import so we are doing a hard install\n",
    "# https://nhancv.medium.com/macbook-pro-m1-homebrew-install-error-7170e4816894\n",
    "# !pip install TA-Lib"
   ]
  },
  {
   "cell_type": "code",
   "execution_count": 23,
   "id": "5f43e3a8-7d90-433e-be2d-9f2415d35f3e",
   "metadata": {},
   "outputs": [],
   "source": [
    "# import talib as ta\n",
    "\n",
    "\n",
    "# Initial imports\n",
    "from pathlib import Path\n",
    "from sklearn.ensemble import RandomForestClassifier\n",
    "from sklearn.preprocessing import StandardScaler\n",
    "from sklearn.model_selection import train_test_split\n",
    "from sklearn.metrics import confusion_matrix, accuracy_score, classification_report\n",
    "%matplotlib inline\n",
    "\n",
    "# Needed for decision tree visualization\n",
    "#import pydotplus\n",
    "from IPython.display import Image\n",
    "\n",
    "# ImportError: dlopen(/Users/elizabethcomstock/opt/anaconda3/lib/python3.8/site-packages/talib/_ta_lib.cpython-38-darwin.so, 2): Symbol not found: _TA_ACOS\n",
    "#  Referenced from: /Users/elizabethcomstock/opt/anaconda3/lib/python3.8/site-packages/talib/_ta_lib.cpython-38-darwin.so\n",
    " # Expected in: flat namespace\n",
    "# in /Users/elizabethcomstock/opt/anaconda3/lib/python3.8/site-packages/talib/_ta_lib.cpython-38-darwin.so"
   ]
  },
  {
   "cell_type": "code",
   "execution_count": 24,
   "id": "33be92e7-d4cd-449a-ac30-362d2f429ed3",
   "metadata": {},
   "outputs": [],
   "source": [
    "# The team had varying dates that they wanted to explore. So I plotted many to accomidate there requests.\n",
    "\n",
    "def compute_technical_indicators(df):\n",
    "    # Note the EMA is plotted by days EMA5 or EMA10. This label helps id the timeperiod for the calculation of TI.\n",
    "    df['EMA5'] = talib.EMA(df['Adj Close'].values, timeperiod=5)\n",
    "    df['EMA10'] = talib.EMA(df['Adj Close'].values, timeperiod=10)\n",
    "    df['EMA15'] = talib.EMA(df['Adj Close'].values, timeperiod=15)\n",
    "    df['EMA20'] = talib.EMA(df['Adj Close'].values, timeperiod=10)\n",
    "    df['EMA30'] = talib.EMA(df['Adj Close'].values, timeperiod=30)\n",
    "    df['EMA40'] = talib.EMA(df['Adj Close'].values, timeperiod=40)\n",
    "    df['EMA50'] = talib.EMA(df['Adj Close'].values, timeperiod=50)\n",
    "\n",
    "    df['EMA60'] = talib.EMA(df['Adj Close'].values, timeperiod=60)\n",
    "    df['EMA70'] = talib.EMA(df['Adj Close'].values, timeperiod=70)\n",
    "    df['EMA80'] = talib.EMA(df['Adj Close'].values, timeperiod=80)\n",
    "    df['EMA90'] = talib.EMA(df['Adj Close'].values, timeperiod=90)\n",
    "    \n",
    "    df['EMA100'] = talib.EMA(df['Adj Close'].values, timeperiod=100)\n",
    "    df['EMA150'] = talib.EMA(df['Adj Close'].values, timeperiod=150)\n",
    "    df['EMA200'] = talib.EMA(df['Adj Close'].values, timeperiod=200)\n",
    "\n",
    "    df['upperBB'], df['middleBB'], df['lowerBB'] = talib.BBANDS(df['Adj Close'].values, timeperiod=20, nbdevup=2, nbdevdn=2, matype=0)\n",
    "\n",
    "    df['SAR'] = talib.SAR(df['High'].values, df['Low'].values, acceleration=0.02, maximum=0.2)\n",
    "\n",
    "    df['RSI'] = talib.RSI(df['Adj Close'].values, timeperiod=14)\n",
    "\n",
    "    df.tail()\n",
    "\n",
    "    return df\n",
    "# This should have rendered a dataset that labels each column with the technical indicators (TI) numeric values.\n"
   ]
  },
  {
   "cell_type": "code",
   "execution_count": null,
   "id": "6cc5fd69-1ab4-49d8-83fb-1e341076d75a",
   "metadata": {},
   "outputs": [],
   "source": []
  },
  {
   "cell_type": "markdown",
   "id": "6d6e9940-fe72-4119-b455-01d91902c448",
   "metadata": {},
   "source": [
    "# EMA Buy Sell Indicators\n",
    "<p>EMA indicators along side the existing candlestick formations. Exponential Moving Average (EMA) is similar to Simple Moving Average (SMA), measuring trend direction over a period of time. However, whereas SMA simply calculates an average of price data, EMA applies more weight to data that is more current. Because of its unique calculation, EMA will follow prices more closely than a corresponding SMA.</p><li>\n",
    "    <h1>How this indicator works:</h1>\n",
    "<p>Keep in mind that EMA is generally more sensitive to price movement. This can be a double-edged sword. On one side, it can help you identify trends earlier than an SMA would. On the flip side, the EMA will probably experience more short-term changes than a corresponding SMA.\n",
    " <li> \n",
    "<p>Use the EMA to determine trend direction, and trade in that direction. When the EMA rises, you may want to consider buying when prices dip near or just below the EMA. When the EMA falls, you may consider selling when prices rally towards or just above the EMA.</p>\n",
    "<li>\n",
    "<p>Moving averages can also indicate support and resistance areas. A rising EMA tends to support the price action, while a falling EMA tends to provide resistance to price action. This reinforces the strategy of buying when the price is near the rising EMA and selling when the price is near the falling EMA.</p>\n",
    "   \n",
    "<h2>WARNING</h2><p>All moving averages, including the EMA, are not designed to identify a trade at the exact bottom and top. Moving averages may help you trade in the general direction of a trend, but with a delay at the entry and exit points. The EMA has a shorter delay than the SMA with the same period.</p> <i>(Fidelity.com)</i>"
   ]
  },
  {
   "cell_type": "code",
   "execution_count": 25,
   "id": "e035d505-b6e9-46ec-bec7-61553be13437",
   "metadata": {},
   "outputs": [],
   "source": [
    "# These are the signals that would have trained our Buy Sell indicators.\n",
    "# When Above we Buy. When Below Sell\n",
    "\n",
    "# When the EMA crosses the 0 threshhold Above we \n",
    "def compute_features(df):\n",
    "    # computes features for forest decisions\n",
    "    df['aboveEMA5'] = np.where(df['Adj Close'] > df['EMA5'], 1, -1)\n",
    "    df['aboveEMA10'] = np.where(df['Adj Close'] > df['EMA10'], 1, -1)\n",
    "    df['aboveEMA15'] = np.where(df['Adj Close'] > df['EMA15'], 1, -1)\n",
    "    df['aboveEMA20'] = np.where(df['Adj Close'] > df['EMA20'], 1, -1)\n",
    "    df['aboveEMA30'] = np.where(df['Adj Close'] > df['EMA30'], 1, -1)\n",
    "    df['aboveEMA40'] = np.where(df['Adj Close'] > df['EMA40'], 1, -1)\n",
    "    \n",
    "    df['aboveEMA50'] = np.where(df['Adj Close'] > df['EMA50'], 1, -1)\n",
    "    df['aboveEMA60'] = np.where(df['Adj Close'] > df['EMA60'], 1, -1)\n",
    "    df['aboveEMA70'] = np.where(df['Adj Close'] > df['EMA70'], 1, -1)\n",
    "    df['aboveEMA80'] = np.where(df['Adj Close'] > df['EMA80'], 1, -1)\n",
    "    df['aboveEMA90'] = np.where(df['Adj Close'] > df['EMA90'], 1, -1)\n",
    "    \n",
    "    df['aboveEMA100'] = np.where(df['Adj Close'] > df['EMA100'], 1, -1)\n",
    "    df['aboveEMA150'] = np.where(df['Adj Close'] > df['EMA150'], 1, -1)\n",
    "    df['aboveEMA200'] = np.where(df['Adj Close'] > df['EMA200'], 1, -1)\n",
    "\n",
    "    df['aboveUpperBB'] = np.where(df['Adj Close'] > df['upperBB'], 1, -1)\n",
    "    df['belowLowerBB'] = np.where(df['Adj Close'] < df['lowerBB'], 1, -1)\n",
    "    \n",
    "    df['aboveSAR'] = np.where(df['Adj Close'] > df['SAR'], 1, -1)\n",
    "   \n",
    "    df['oversoldRSI'] = np.where(df['RSI'] < 30, 1, -1)\n",
    "    df['overboughtRSI'] = np.where(df['RSI'] > 70, 1, -1)\n",
    "\n",
    "\n",
    "    # very important - cleanup NaN values, otherwise prediction does not work\n",
    "    df=df.fillna(0).copy()\n",
    "    \n",
    "    df.tail()\n",
    "\n",
    "    return df"
   ]
  },
  {
   "cell_type": "markdown",
   "id": "6f151c6f-d6b7-485f-9487-0b4981bf9d74",
   "metadata": {},
   "source": [
    "# ERRORS \n",
    "<p> Due to the error with an improper installation of a library and bc I did not create an env for this specific project, I installed Tenserflow for a previous attemp at this project and Kernels began to die. Ta-Lib, a library that is widely referenced in many research papers does not seem to work on an M1. there is some sort of failure when reading the file \" or creating the wheel\". \n",
    "    \n",
    "    I am unsure of what this means. However having done my due diligence in asking my tutor, my TA, my proffessor, and my own research we can give up on making this work. <li> Henceforth, the code will be theoretical and visualized with graphs made in R or pulled from the internet to illustrate what SHOULD have happened if the library had imported properly and the code had worked. Note: Also tried it in Colab which indicated that it was supported of this library and had necessary dependencies but I was not successful with this solution either.</p> "
   ]
  },
  {
   "cell_type": "code",
   "execution_count": 26,
   "id": "45522a72-ca73-42a4-ad59-303bd9c97bff",
   "metadata": {},
   "outputs": [],
   "source": [
    "def compute_technical_indicators(df):\n",
    "    \n",
    "    df['EMA10'] = talib.EMA(df['Adj Close'].values, timeperiod=10)\n",
    "    df['EMA30'] = talib.EMA(df['Adj Close'].values, timeperiod=30)\n",
    "    df['ATR'] = talib.ATR(df['High'].values, df['Low'].values, df['Adj Close'].values, timeperiod=14)\n",
    "    df['ADX'] = talib.ADX(df['High'].values, df['Low'].values, df['Adj Close'].values, timeperiod=14)\n",
    "    df['RSI'] = talib.RSI(df['Adj Close'].values, timeperiod=14)\n",
    "    macd, macdsignal, macdhist = talib.MACD(df['Adj Close'].values, fastperiod=12, slowperiod=26, signalperiod=9)\n",
    "    df['MACD'] = macd\n",
    "    df['MACDsignal'] = macdsignal\n",
    "    \n",
    "#df.tail()\n",
    "\n",
    "#return df"
   ]
  },
  {
   "cell_type": "code",
   "execution_count": null,
   "id": "84054803-6836-4bfb-bfcb-cdd193cf32d5",
   "metadata": {},
   "outputs": [],
   "source": []
  },
  {
   "cell_type": "code",
   "execution_count": 27,
   "id": "73112c83-c981-4999-929c-794568575eb2",
   "metadata": {},
   "outputs": [],
   "source": [
    "def compute_technical_indicators(df):\n",
    "    df['EMA5'] = ta.EMA(df['Adj Close'].values, timeperiod=5)\n",
    "    df['EMA10'] = ta.EMA(df['Adj Close'].values, timeperiod=10)\n",
    "    df['EMA15'] = ta.EMA(df['Adj Close'].values, timeperiod=15)\n",
    "    df['EMA20'] = ta.EMA(df['Adj Close'].values, timeperiod=10)\n",
    "    df['EMA30'] = ta.EMA(df['Adj Close'].values, timeperiod=30)\n",
    "    df['EMA40'] = ta.EMA(df['Adj Close'].values, timeperiod=40)\n",
    "    df['EMA50'] = ta.EMA(df['Adj Close'].values, timeperiod=50)\n",
    "\n",
    "    df['EMA60'] = ta.EMA(df['Adj Close'].values, timeperiod=60)\n",
    "    df['EMA70'] = ta.EMA(df['Adj Close'].values, timeperiod=70)\n",
    "    df['EMA80'] = ta.EMA(df['Adj Close'].values, timeperiod=80)\n",
    "    df['EMA90'] = ta.EMA(df['Adj Close'].values, timeperiod=90)\n",
    "    \n",
    "    df['EMA100'] = ta.EMA(df['Adj Close'].values, timeperiod=100)\n",
    "    df['EMA150'] = ta.EMA(df['Adj Close'].values, timeperiod=150)\n",
    "    df['EMA200'] = ta.EMA(df['Adj Close'].values, timeperiod=200)\n",
    "\n",
    "    df['upperBB'], df['middleBB'], df['lowerBB'] = ta.BBANDS(df['Adj Close'].values, timeperiod=20, nbdevup=2, nbdevdn=2, matype=0)\n",
    "\n",
    "    df['SAR'] = ta.SAR(df['High'].values, df['Low'].values, acceleration=0.02, maximum=0.2)\n",
    "\n",
    "    df['RSI'] = ta.RSI(df['Adj Close'].values, timeperiod=14)\n",
    "\n",
    "    df.tail()\n",
    "\n",
    "#    return df"
   ]
  },
  {
   "cell_type": "code",
   "execution_count": null,
   "id": "231019b0-5f21-48b3-9a53-5448538c940e",
   "metadata": {},
   "outputs": [],
   "source": []
  },
  {
   "cell_type": "code",
   "execution_count": 28,
   "id": "e9965235-4846-4b0b-bb34-02d63af0c6c8",
   "metadata": {},
   "outputs": [],
   "source": [
    "def compute_features(df):\n",
    "    # computes features for forest decisions\n",
    "    df['aboveEMA5'] = np.where(df['Adj Close'] > df['EMA5'], 1, -1)\n",
    "    df['aboveEMA10'] = np.where(df['Adj Close'] > df['EMA10'], 1, -1)\n",
    "    df['aboveEMA15'] = np.where(df['Adj Close'] > df['EMA15'], 1, -1)\n",
    "    df['aboveEMA20'] = np.where(df['Adj Close'] > df['EMA20'], 1, -1)\n",
    "    df['aboveEMA30'] = np.where(df['Adj Close'] > df['EMA30'], 1, -1)\n",
    "    df['aboveEMA40'] = np.where(df['Adj Close'] > df['EMA40'], 1, -1)\n",
    "    \n",
    "    df['aboveEMA50'] = np.where(df['Adj Close'] > df['EMA50'], 1, -1)\n",
    "    df['aboveEMA60'] = np.where(df['Adj Close'] > df['EMA60'], 1, -1)\n",
    "    df['aboveEMA70'] = np.where(df['Adj Close'] > df['EMA70'], 1, -1)\n",
    "    df['aboveEMA80'] = np.where(df['Adj Close'] > df['EMA80'], 1, -1)\n",
    "    df['aboveEMA90'] = np.where(df['Adj Close'] > df['EMA90'], 1, -1)\n",
    "    \n",
    "    df['aboveEMA100'] = np.where(df['Adj Close'] > df['EMA100'], 1, -1)\n",
    "    df['aboveEMA150'] = np.where(df['Adj Close'] > df['EMA150'], 1, -1)\n",
    "    df['aboveEMA200'] = np.where(df['Adj Close'] > df['EMA200'], 1, -1)\n",
    "\n",
    "    df['aboveUpperBB'] = np.where(df['Adj Close'] > df['upperBB'], 1, -1)\n",
    "    df['belowLowerBB'] = np.where(df['Adj Close'] < df['lowerBB'], 1, -1)\n",
    "    \n",
    "    df['aboveSAR'] = np.where(df['Adj Close'] > df['SAR'], 1, -1)\n",
    "   \n",
    "    df['oversoldRSI'] = np.where(df['RSI'] < 30, 1, -1)\n",
    "    df['overboughtRSI'] = np.where(df['RSI'] > 70, 1, -1)"
   ]
  },
  {
   "cell_type": "code",
   "execution_count": null,
   "id": "5527bc72-b044-407b-8f69-2dc2b5a657e3",
   "metadata": {},
   "outputs": [],
   "source": []
  },
  {
   "cell_type": "code",
   "execution_count": 29,
   "id": "617ea223-9ac0-4ac6-afb1-3e6086228e06",
   "metadata": {},
   "outputs": [
    {
     "data": {
      "text/html": [
       "<div>\n",
       "<style scoped>\n",
       "    .dataframe tbody tr th:only-of-type {\n",
       "        vertical-align: middle;\n",
       "    }\n",
       "\n",
       "    .dataframe tbody tr th {\n",
       "        vertical-align: top;\n",
       "    }\n",
       "\n",
       "    .dataframe thead th {\n",
       "        text-align: right;\n",
       "    }\n",
       "</style>\n",
       "<table border=\"1\" class=\"dataframe\">\n",
       "  <thead>\n",
       "    <tr style=\"text-align: right;\">\n",
       "      <th></th>\n",
       "      <th>Date</th>\n",
       "      <th>High</th>\n",
       "      <th>Low</th>\n",
       "      <th>Open</th>\n",
       "      <th>Close</th>\n",
       "      <th>Volume</th>\n",
       "      <th>Adj Close</th>\n",
       "    </tr>\n",
       "  </thead>\n",
       "  <tbody>\n",
       "    <tr>\n",
       "      <th>964</th>\n",
       "      <td>2021-08-02</td>\n",
       "      <td>146.949997</td>\n",
       "      <td>145.250000</td>\n",
       "      <td>146.360001</td>\n",
       "      <td>145.520004</td>\n",
       "      <td>62880000.0</td>\n",
       "      <td>145.302307</td>\n",
       "    </tr>\n",
       "    <tr>\n",
       "      <th>965</th>\n",
       "      <td>2021-08-03</td>\n",
       "      <td>148.039993</td>\n",
       "      <td>145.179993</td>\n",
       "      <td>145.809998</td>\n",
       "      <td>147.360001</td>\n",
       "      <td>64660800.0</td>\n",
       "      <td>147.139542</td>\n",
       "    </tr>\n",
       "    <tr>\n",
       "      <th>966</th>\n",
       "      <td>2021-08-04</td>\n",
       "      <td>147.789993</td>\n",
       "      <td>146.279999</td>\n",
       "      <td>147.270004</td>\n",
       "      <td>146.949997</td>\n",
       "      <td>56368300.0</td>\n",
       "      <td>146.730164</td>\n",
       "    </tr>\n",
       "    <tr>\n",
       "      <th>967</th>\n",
       "      <td>2021-08-05</td>\n",
       "      <td>147.839996</td>\n",
       "      <td>146.169998</td>\n",
       "      <td>146.979996</td>\n",
       "      <td>147.059998</td>\n",
       "      <td>46397700.0</td>\n",
       "      <td>146.839996</td>\n",
       "    </tr>\n",
       "    <tr>\n",
       "      <th>968</th>\n",
       "      <td>2021-08-06</td>\n",
       "      <td>147.110001</td>\n",
       "      <td>145.630005</td>\n",
       "      <td>146.350006</td>\n",
       "      <td>146.139999</td>\n",
       "      <td>54067400.0</td>\n",
       "      <td>146.139999</td>\n",
       "    </tr>\n",
       "  </tbody>\n",
       "</table>\n",
       "</div>"
      ],
      "text/plain": [
       "          Date        High         Low        Open       Close      Volume   Adj Close\n",
       "964 2021-08-02  146.949997  145.250000  146.360001  145.520004  62880000.0  145.302307\n",
       "965 2021-08-03  148.039993  145.179993  145.809998  147.360001  64660800.0  147.139542\n",
       "966 2021-08-04  147.789993  146.279999  147.270004  146.949997  56368300.0  146.730164\n",
       "967 2021-08-05  147.839996  146.169998  146.979996  147.059998  46397700.0  146.839996\n",
       "968 2021-08-06  147.110001  145.630005  146.350006  146.139999  54067400.0  146.139999"
      ]
     },
     "execution_count": 29,
     "metadata": {},
     "output_type": "execute_result"
    }
   ],
   "source": [
    " # very important - cleanup NaN values, otherwise prediction does not work\n",
    "df=df.fillna(0).copy()\n",
    "df.tail()\n"
   ]
  },
  {
   "cell_type": "code",
   "execution_count": 30,
   "id": "447f3bf9-c98e-421b-b294-e7d907d8f4e4",
   "metadata": {},
   "outputs": [],
   "source": [
    "def plot_train_data(df):\n",
    "    # plot price\n",
    "    plt.figure(figsize=(15,2.5))\n",
    "    plt.title('Stock data ' + str(ticker))\n",
    "    plt.plot(df['Date'], df['Adj Close'])\n",
    "    #plt.title('Price chart (Adj Close) ' + str(ticker))\n",
    "    plt.show()\n",
    "    return None"
   ]
  },
  {
   "cell_type": "markdown",
   "id": "953bf81b-20d2-4d1d-bc93-b35bddf6bd88",
   "metadata": {},
   "source": [
    "# Targets"
   ]
  },
  {
   "cell_type": "code",
   "execution_count": 31,
   "id": "388ad6fb-50ea-4b0b-9942-beaebfde362f",
   "metadata": {},
   "outputs": [],
   "source": [
    "def define_target_condition(df):\n",
    " \n",
    "    # price higher later - bad predictive results\n",
    "    #df['target_cls'] = np.where(df['Adj Close'].shift(-34) > df['Adj Close'], 1, 0)    \n",
    "    \n",
    "    # price above trend multiple days later\n",
    "    df['target_cls'] = np.where(df['Adj Close'].shift(-55) > df.EMA150.shift(-55), 1, 0)\n",
    "\n",
    "    # important, remove NaN values\n",
    "    df=df.fillna(0).copy()\n",
    "    \n",
    "    df.tail()\n",
    "    \n",
    "    return df"
   ]
  },
  {
   "cell_type": "markdown",
   "id": "2d29703a-4e13-4826-a004-32b29e9a7f37",
   "metadata": {},
   "source": [
    "# Train"
   ]
  },
  {
   "cell_type": "code",
   "execution_count": 32,
   "id": "fc3676d0-162f-4511-8617-b14c2999985c",
   "metadata": {},
   "outputs": [],
   "source": [
    "def splitting_and_training(df):\n",
    "    # predictors when above sell when below buy\n",
    "    predictors_list = ['aboveSAR','aboveUpperBB','belowLowerBB','RSI','oversoldRSI','overboughtRSI',\n",
    "                       'aboveEMA5','aboveEMA10','aboveEMA15','aboveEMA20','aboveEMA30','aboveEMA40','aboveEMA50',\n",
    "                       'aboveEMA60','aboveEMA70','aboveEMA80','aboveEMA90',\n",
    "                       'aboveEMA100']\n",
    "    \n",
    "    \n",
    "    # __features__\n",
    "    X = df[predictors_list].fillna(0)\n",
    "    X.tail()\n",
    "\n",
    "    # __targets__\n",
    "    y_cls = df.target_cls.fillna(0)\n",
    "    y_cls.tail(10)\n",
    "\n",
    "    # __train test split__\n",
    "    from sklearn.model_selection import train_test_split\n",
    "    y=y_cls\n",
    "    X_cls_train, X_cls_test, y_cls_train, y_cls_test = train_test_split(X, y, test_size=0.3, random_state=432, stratify=y)\n",
    "\n",
    "    print (X_cls_train.shape, y_cls_train.shape)\n",
    "    print (X_cls_test.shape, y_cls_test.shape)\n",
    "\n",
    "    # __RANDOM FOREST __       - retrainable - warm_start\n",
    "    from sklearn.ensemble import RandomForestClassifier\n",
    "\n",
    "    #Create a Gaussian Classifier - incremental training - warm_start=True\n",
    "    clf=RandomForestClassifier(n_estimators=500, criterion='gini', max_depth=20, min_samples_leaf=10, \n",
    "                               n_jobs=-1, warm_start=True)\n",
    "\n",
    "    # __ACTUAL TRAINING __\n",
    "    clf = clf.fit(X_cls_train, y_cls_train)\n",
    "    clf\n",
    "\n",
    "    # __making accuracy report__\n",
    "    # ideally should be getting better with each round\n",
    "    y_cls_pred = clf.predict(X_cls_test)\n",
    "\n",
    "    from sklearn.metrics import classification_report\n",
    "    report = classification_report(y_cls_test, y_cls_pred)\n",
    "    print(report)\n",
    "\n",
    "    return clf"
   ]
  },
  {
   "cell_type": "code",
   "execution_count": 33,
   "id": "6f947856-3531-4a12-9df6-8402d727683d",
   "metadata": {},
   "outputs": [],
   "source": [
    "def plot_train_data(df):\n",
    "    # plot price\n",
    "    plt.figure(figsize=(15,2.5))\n",
    "    plt.title('Stock data ' + str(ticker))\n",
    "    plt.plot(df['Date'], df['Adj Close'])\n",
    "    #plt.title('Price chart (Adj Close) ' + str(ticker))\n",
    "    plt.show()\n",
    "    return None"
   ]
  },
  {
   "cell_type": "code",
   "execution_count": 34,
   "id": "29d02d06-1119-4fec-ae9c-d7c4ce87189e",
   "metadata": {},
   "outputs": [],
   "source": [
    "# Target"
   ]
  },
  {
   "cell_type": "code",
   "execution_count": 35,
   "id": "1392bb5e-eb92-41b7-bf64-91df8e80798e",
   "metadata": {},
   "outputs": [],
   "source": [
    "def define_target_condition(df):\n",
    " \n",
    "    # price higher later - bad predictive results\n",
    "    #df['target_cls'] = np.where(df['Adj Close'].shift(-34) > df['Adj Close'], 1, 0)    \n",
    "    \n",
    "    # price above trend multiple days later\n",
    "    df['target_cls'] = np.where(df['Adj Close'].shift(-55) > df.EMA150.shift(-55), 1, 0)\n",
    "\n",
    "    # important, remove NaN values\n",
    "    df=df.fillna(0).copy()\n",
    "    \n",
    "    df.tail()\n",
    "    \n",
    "    return df"
   ]
  },
  {
   "cell_type": "markdown",
   "id": "5a3eb49b-abd2-43b7-b3d4-55ec3e21c937",
   "metadata": {},
   "source": [
    "# Train and Test"
   ]
  },
  {
   "cell_type": "code",
   "execution_count": 48,
   "id": "ea3d7e11-2e37-43fc-b7ba-4bd3c580f088",
   "metadata": {},
   "outputs": [],
   "source": [
    "def splitting_and_training(df):\n",
    "    # __predictors__\n",
    "    predictors_list = ['aboveSAR','aboveUpperBB','belowLowerBB','RSI','oversoldRSI','overboughtRSI',\n",
    "                       'aboveEMA5','aboveEMA10','aboveEMA15','aboveEMA20','aboveEMA30','aboveEMA40','aboveEMA50',\n",
    "                       'aboveEMA60','aboveEMA70','aboveEMA80','aboveEMA90',\n",
    "                       'aboveEMA100']\n",
    "    \n",
    "    \n",
    "    # __features__\n",
    "    X = df[predictors_list].fillna(0)\n",
    "    X.tail()\n",
    "\n",
    "    # __targets__\n",
    "    y_cls = df.target_cls.fillna(0)\n",
    "    y_cls.tail(10)\n",
    "\n",
    "    # __train test split__\n",
    "    from sklearn.model_selection import train_test_split\n",
    "    y=y_cls\n",
    "    X_cls_train, X_cls_test, y_cls_train, y_cls_test = train_test_split(X, y, test_size=0.3, random_state=432, stratify=y)\n",
    "\n",
    "    print (X_cls_train.shape, y_cls_train.shape)\n",
    "    print (X_cls_test.shape, y_cls_test.shape)\n",
    "\n",
    "    # __RANDOM FOREST __       - retrainable - warm_start\n",
    "    from sklearn.ensemble import RandomForestClassifier\n",
    "\n",
    "    #Create a Gaussian Classifier - incremental training - warm_start=True\n",
    "    clf=RandomForestClassifier(n_estimators=500, criterion='gini', max_depth=20, min_samples_leaf=10, \n",
    "                               n_jobs=-1, warm_start=True)\n",
    "\n",
    "    # __ACTUAL TRAINING __\n",
    "    clf = clf.fit(X_cls_train, y_cls_train)\n",
    "    clf\n",
    "\n",
    "    # __making accuracy report__\n",
    "    # ideally should be getting better with each round\n",
    "    y_cls_pred = clf.predict(X_cls_test)\n",
    "\n",
    "    from sklearn.metrics import classification_report\n",
    "    report = classification_report(y_cls_test, y_cls_pred)\n",
    "    print(report)\n",
    "\n",
    "    return clf"
   ]
  },
  {
   "cell_type": "code",
   "execution_count": 49,
   "id": "c742e2a1-839f-4730-bd68-0222215b1bdd",
   "metadata": {},
   "outputs": [],
   "source": [
    "# get trained classifier\n",
    "#clf = splitting_and_training(df)"
   ]
  },
  {
   "cell_type": "code",
   "execution_count": 50,
   "id": "530bfdb6-d047-472c-89b5-b4113cc9eb3e",
   "metadata": {},
   "outputs": [],
   "source": [
    "#plot_train_data(df)"
   ]
  },
  {
   "cell_type": "code",
   "execution_count": 51,
   "id": "1bca1275-3398-4613-b84d-ce845f2678ee",
   "metadata": {},
   "outputs": [],
   "source": [
    "#df"
   ]
  },
  {
   "cell_type": "code",
   "execution_count": 52,
   "id": "027e9be5-481e-48a4-8b75-a2918ca4461e",
   "metadata": {},
   "outputs": [],
   "source": [
    "def predict_timeseries(df, clf):\n",
    "    \n",
    "    # making sure we have good dimensions\n",
    "    # column will be rewritten later\n",
    "    df['Buy'] = df['target_cls']\n",
    "    \n",
    "    for i in range(len(df)):\n",
    "        X_cls_valid = [[df['aboveSAR'][i],df['aboveUpperBB'][i],df['belowLowerBB'][i],\n",
    "                        df['RSI'][i],df['oversoldRSI'][i],df['overboughtRSI'][i],\n",
    "                        df['aboveEMA5'][i],df['aboveEMA10'][i],df['aboveEMA15'][i],df['aboveEMA20'][i],\n",
    "                        df['aboveEMA30'][i],df['aboveEMA40'][i],df['aboveEMA50'][i],\n",
    "                        df['aboveEMA60'][i],df['aboveEMA70'][i],df['aboveEMA80'][i],df['aboveEMA90'][i],\n",
    "                        df['aboveEMA100'][i]]]    \n",
    "\n",
    "        y_cls_pred_valid = clf.predict(X_cls_valid)\n",
    "        df['Buy'][i] = y_cls_pred_valid[0].copy()\n",
    "\n",
    "    print(df.head())    \n",
    "        \n",
    "    return df"
   ]
  },
  {
   "cell_type": "code",
   "execution_count": 53,
   "id": "6a01a7d1-6a42-4cfd-9f21-1770107ab39d",
   "metadata": {},
   "outputs": [],
   "source": [
    "def plot_stock_prediction(df, ticker):\n",
    "    # plot  values and significant levels\n",
    "    plt.figure(figsize=(20,7))\n",
    "    plt.title('Predictive model ' + str(ticker))\n",
    "    plt.plot(df['Date'], df['Adj Close'], label='High', alpha=0.2)\n",
    "\n",
    "    plt.plot(df['Date'], df['EMA10'], label='EMA10', alpha=0.2)\n",
    "    plt.plot(df['Date'], df['EMA20'], label='EMA20', alpha=0.2)\n",
    "    plt.plot(df['Date'], df['EMA30'], label='EMA30', alpha=0.2)\n",
    "    plt.plot(df['Date'], df['EMA40'], label='EMA40', alpha=0.2)\n",
    "    plt.plot(df['Date'], df['EMA50'], label='EMA50', alpha=0.2)\n",
    "    plt.plot(df['Date'], df['EMA100'], label='EMA100', alpha=0.2)\n",
    "    plt.plot(df['Date'], df['EMA150'], label='EMA150', alpha=0.99)\n",
    "    plt.plot(df['Date'], df['EMA200'], label='EMA200', alpha=0.2)\n",
    "\n",
    "\n",
    "    plt.scatter(df['Date'], df['Buy']*df['Adj Close'], label='Buy', marker='^', color='magenta', alpha=0.15)\n",
    "    #lt.scatter(df.index, df['sell_sig'], label='Sell', marker='v')\n",
    "\n",
    "    plt.legend()\n",
    "\n",
    "    plt.show()\n",
    "\n",
    "    return None "
   ]
  },
  {
   "cell_type": "code",
   "execution_count": 54,
   "id": "34649245-a4da-4245-aecc-83cd47bacead",
   "metadata": {},
   "outputs": [],
   "source": [
    "def save_model(clf):\n",
    "    import joblib\n",
    "\n",
    "    joblib.dump(clf, \"./random_forest.joblib\")\n",
    "\n",
    "    return None"
   ]
  },
  {
   "cell_type": "markdown",
   "id": "51450130-939c-442c-9c86-fb71e1c59637",
   "metadata": {},
   "source": [
    "# Training Sequence"
   ]
  },
  {
   "cell_type": "code",
   "execution_count": 55,
   "id": "91dd2360-965b-457c-9e7e-7fd99720f248",
   "metadata": {},
   "outputs": [],
   "source": [
    "# training stock data\n",
    "tickers = ['AAPL'] "
   ]
  },
  {
   "cell_type": "code",
   "execution_count": 56,
   "id": "8c874448-3d45-4b65-bd01-d67f3c5dcd9a",
   "metadata": {},
   "outputs": [
    {
     "name": "stdout",
     "output_type": "stream",
     "text": [
      "connected to yahoo\n"
     ]
    },
    {
     "data": {
      "image/png": "[encoded data removed]",
      "text/plain": [
       "<Figure size 1080x180 with 1 Axes>"
      ]
     },
     "metadata": {
      "needs_background": "light"
     },
     "output_type": "display_data"
    },
    {
     "ename": "NameError",
     "evalue": "name 'ta' is not defined",
     "output_type": "error",
     "traceback": [
      "\u001b[0;31m---------------------------------------------------------------------------\u001b[0m",
      "\u001b[0;31mNameError\u001b[0m                                 Traceback (most recent call last)",
      "\u001b[0;32m<ipython-input-56-2b151d9df3ee>\u001b[0m in \u001b[0;36m<module>\u001b[0;34m\u001b[0m\n\u001b[1;32m      3\u001b[0m     \u001b[0mdf\u001b[0m \u001b[0;34m=\u001b[0m \u001b[0mget_data\u001b[0m\u001b[0;34m(\u001b[0m\u001b[0mticker\u001b[0m\u001b[0;34m)\u001b[0m\u001b[0;34m\u001b[0m\u001b[0;34m\u001b[0m\u001b[0m\n\u001b[1;32m      4\u001b[0m     \u001b[0mplot_train_data\u001b[0m\u001b[0;34m(\u001b[0m\u001b[0mdf\u001b[0m\u001b[0;34m)\u001b[0m\u001b[0;34m\u001b[0m\u001b[0;34m\u001b[0m\u001b[0m\n\u001b[0;32m----> 5\u001b[0;31m     \u001b[0mdf\u001b[0m \u001b[0;34m=\u001b[0m \u001b[0mcompute_technical_indicators\u001b[0m\u001b[0;34m(\u001b[0m\u001b[0mdf\u001b[0m\u001b[0;34m)\u001b[0m\u001b[0;34m\u001b[0m\u001b[0;34m\u001b[0m\u001b[0m\n\u001b[0m\u001b[1;32m      6\u001b[0m     \u001b[0mdf\u001b[0m \u001b[0;34m=\u001b[0m \u001b[0mcompute_features\u001b[0m\u001b[0;34m(\u001b[0m\u001b[0mdf\u001b[0m\u001b[0;34m)\u001b[0m\u001b[0;34m\u001b[0m\u001b[0;34m\u001b[0m\u001b[0m\n\u001b[1;32m      7\u001b[0m     \u001b[0mdf\u001b[0m\u001b[0;34m=\u001b[0m\u001b[0mdefine_target_condition\u001b[0m\u001b[0;34m(\u001b[0m\u001b[0mdf\u001b[0m\u001b[0;34m)\u001b[0m\u001b[0;34m\u001b[0m\u001b[0;34m\u001b[0m\u001b[0m\n",
      "\u001b[0;32m<ipython-input-27-27caca4e9ab6>\u001b[0m in \u001b[0;36mcompute_technical_indicators\u001b[0;34m(df)\u001b[0m\n\u001b[1;32m      1\u001b[0m \u001b[0;32mdef\u001b[0m \u001b[0mcompute_technical_indicators\u001b[0m\u001b[0;34m(\u001b[0m\u001b[0mdf\u001b[0m\u001b[0;34m)\u001b[0m\u001b[0;34m:\u001b[0m\u001b[0;34m\u001b[0m\u001b[0;34m\u001b[0m\u001b[0m\n\u001b[0;32m----> 2\u001b[0;31m     \u001b[0mdf\u001b[0m\u001b[0;34m[\u001b[0m\u001b[0;34m'EMA5'\u001b[0m\u001b[0;34m]\u001b[0m \u001b[0;34m=\u001b[0m \u001b[0mta\u001b[0m\u001b[0;34m.\u001b[0m\u001b[0mEMA\u001b[0m\u001b[0;34m(\u001b[0m\u001b[0mdf\u001b[0m\u001b[0;34m[\u001b[0m\u001b[0;34m'Adj Close'\u001b[0m\u001b[0;34m]\u001b[0m\u001b[0;34m.\u001b[0m\u001b[0mvalues\u001b[0m\u001b[0;34m,\u001b[0m \u001b[0mtimeperiod\u001b[0m\u001b[0;34m=\u001b[0m\u001b[0;36m5\u001b[0m\u001b[0;34m)\u001b[0m\u001b[0;34m\u001b[0m\u001b[0;34m\u001b[0m\u001b[0m\n\u001b[0m\u001b[1;32m      3\u001b[0m     \u001b[0mdf\u001b[0m\u001b[0;34m[\u001b[0m\u001b[0;34m'EMA10'\u001b[0m\u001b[0;34m]\u001b[0m \u001b[0;34m=\u001b[0m \u001b[0mta\u001b[0m\u001b[0;34m.\u001b[0m\u001b[0mEMA\u001b[0m\u001b[0;34m(\u001b[0m\u001b[0mdf\u001b[0m\u001b[0;34m[\u001b[0m\u001b[0;34m'Adj Close'\u001b[0m\u001b[0;34m]\u001b[0m\u001b[0;34m.\u001b[0m\u001b[0mvalues\u001b[0m\u001b[0;34m,\u001b[0m \u001b[0mtimeperiod\u001b[0m\u001b[0;34m=\u001b[0m\u001b[0;36m10\u001b[0m\u001b[0;34m)\u001b[0m\u001b[0;34m\u001b[0m\u001b[0;34m\u001b[0m\u001b[0m\n\u001b[1;32m      4\u001b[0m     \u001b[0mdf\u001b[0m\u001b[0;34m[\u001b[0m\u001b[0;34m'EMA15'\u001b[0m\u001b[0;34m]\u001b[0m \u001b[0;34m=\u001b[0m \u001b[0mta\u001b[0m\u001b[0;34m.\u001b[0m\u001b[0mEMA\u001b[0m\u001b[0;34m(\u001b[0m\u001b[0mdf\u001b[0m\u001b[0;34m[\u001b[0m\u001b[0;34m'Adj Close'\u001b[0m\u001b[0;34m]\u001b[0m\u001b[0;34m.\u001b[0m\u001b[0mvalues\u001b[0m\u001b[0;34m,\u001b[0m \u001b[0mtimeperiod\u001b[0m\u001b[0;34m=\u001b[0m\u001b[0;36m15\u001b[0m\u001b[0;34m)\u001b[0m\u001b[0;34m\u001b[0m\u001b[0;34m\u001b[0m\u001b[0m\n\u001b[1;32m      5\u001b[0m     \u001b[0mdf\u001b[0m\u001b[0;34m[\u001b[0m\u001b[0;34m'EMA20'\u001b[0m\u001b[0;34m]\u001b[0m \u001b[0;34m=\u001b[0m \u001b[0mta\u001b[0m\u001b[0;34m.\u001b[0m\u001b[0mEMA\u001b[0m\u001b[0;34m(\u001b[0m\u001b[0mdf\u001b[0m\u001b[0;34m[\u001b[0m\u001b[0;34m'Adj Close'\u001b[0m\u001b[0;34m]\u001b[0m\u001b[0;34m.\u001b[0m\u001b[0mvalues\u001b[0m\u001b[0;34m,\u001b[0m \u001b[0mtimeperiod\u001b[0m\u001b[0;34m=\u001b[0m\u001b[0;36m10\u001b[0m\u001b[0;34m)\u001b[0m\u001b[0;34m\u001b[0m\u001b[0;34m\u001b[0m\u001b[0m\n",
      "\u001b[0;31mNameError\u001b[0m: name 'ta' is not defined"
     ]
    }
   ],
   "source": [
    "for ticker in tickers:\n",
    "\n",
    "    df = get_data(ticker)\n",
    "    plot_train_data(df)\n",
    "    df = compute_technical_indicators(df)\n",
    "    df = compute_features(df)\n",
    "    df=define_target_condition(df)\n",
    "\n",
    "    clf = splitting_and_training(df)\n",
    "\n",
    "    save_model(clf)\n",
    "    \n",
    "    # commenting out saves time during training\n",
    "    #df = predict_timeseries(df, clf)\n",
    "    #plot_stock_prediction(df, ticker)"
   ]
  },
  {
   "cell_type": "markdown",
   "id": "f834a658-bce6-4328-a5dc-959c387ff903",
   "metadata": {},
   "source": [
    "# Predictions"
   ]
  },
  {
   "cell_type": "code",
   "execution_count": 58,
   "id": "8c335a87-b822-4992-980e-87e83a00c135",
   "metadata": {},
   "outputs": [],
   "source": [
    "#ticker='BP'\n",
    "#ticker='ABBV'\n",
    "#ticker='GILD'\n",
    "#ticker='NGG'\n",
    "ticker='AAPL'"
   ]
  },
  {
   "cell_type": "code",
   "execution_count": null,
   "id": "a2c570da-de05-4b7c-a270-b7e43013b490",
   "metadata": {},
   "outputs": [],
   "source": [
    "# load classifier, no need to initialize the loaded_rf\n",
    "loaded_clf = joblib.load(\"./random_forest.joblib\")\n",
    "clf = loaded_clf"
   ]
  },
  {
   "cell_type": "code",
   "execution_count": null,
   "id": "d75c7568-96ff-4a6a-b65f-a6db6ba35a6b",
   "metadata": {},
   "outputs": [],
   "source": [
    "new_df = get_data(ticker)"
   ]
  },
  {
   "cell_type": "code",
   "execution_count": null,
   "id": "e129ce6d-d231-4962-93f8-421833b3aece",
   "metadata": {},
   "outputs": [],
   "source": [
    "new_df = compute_technical_indicators(new_df)"
   ]
  },
  {
   "cell_type": "code",
   "execution_count": null,
   "id": "e9f11745-34fe-4029-9d6f-e81ab07ccfb1",
   "metadata": {},
   "outputs": [],
   "source": [
    "new_df = compute_features(new_df)"
   ]
  },
  {
   "cell_type": "code",
   "execution_count": null,
   "id": "96fdd2d8-b815-43dc-88dc-a093c0b0969d",
   "metadata": {},
   "outputs": [],
   "source": [
    "new_df=define_target_condition(new_df)"
   ]
  },
  {
   "cell_type": "code",
   "execution_count": null,
   "id": "18b9c5d4-a9df-48ff-87b9-4b34a079e680",
   "metadata": {},
   "outputs": [],
   "source": [
    "new_df = predict_timeseries(new_df, clf)"
   ]
  },
  {
   "cell_type": "code",
   "execution_count": null,
   "id": "2f83450b-60fe-41ee-9dd7-bb7ff3d22297",
   "metadata": {},
   "outputs": [],
   "source": [
    "Below plots are showing predictions on unseen dataset. When the triangle overlay is on the price data, it means buy. When the triangle is on the zero level, it means, don't buy. This model is pretty much giving only long signals, but cen be extrapolated to sell signals as well.\n",
    "\n",
    "So the Buy signal means, that the model thinks that in n days (here 55 days) the price will be above specific Exponencial Moving Average (here was trained to be above 150 EMA in 55 days).\n",
    "\n",
    "We see that the model is giving some false positive signals (of course it is), but not that many actually. It just sometimes expects trend reversal too early, but if we are using this as an investing advisor for long term hold or long term swing trades, the signals provided by the model are very nice."
   ]
  },
  {
   "cell_type": "code",
   "execution_count": null,
   "id": "606c33c7-1421-400c-b15a-701b884c74f6",
   "metadata": {},
   "outputs": [],
   "source": [
    "plot_stock_prediction(new_df, ticker)"
   ]
  },
  {
   "cell_type": "code",
   "execution_count": null,
   "id": "f93d311d-2a0e-4a77-b3cb-eb1fbd64975e",
   "metadata": {},
   "outputs": [],
   "source": [
    "# zoom in on the data\n",
    "temp_df = new_df[-700:]"
   ]
  },
  {
   "cell_type": "code",
   "execution_count": null,
   "id": "6cbeaacf-8a9e-4d5b-bb43-ff3c00ca92ed",
   "metadata": {},
   "outputs": [],
   "source": [
    "plot_stock_prediction(temp_df, ticker)"
   ]
  },
  {
   "cell_type": "code",
   "execution_count": null,
   "id": "bc2b0ca0-2a05-4fbb-bd31-3efa8aca9876",
   "metadata": {},
   "outputs": [],
   "source": []
  }
 ],
 "metadata": {
  "kernelspec": {
   "display_name": "Python 3",
   "language": "python",
   "name": "python3"
  },
  "language_info": {
   "codemirror_mode": {
    "name": "ipython",
    "version": 3
   },
   "file_extension": ".py",
   "mimetype": "text/x-python",
   "name": "python",
   "nbconvert_exporter": "python",
   "pygments_lexer": "ipython3",
   "version": "3.8.6"
  }
 },
 "nbformat": 4,
 "nbformat_minor": 5
}
