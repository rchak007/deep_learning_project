{
  "nbformat": 4,
  "nbformat_minor": 0,
  "metadata": {
    "colab": {
      "name": "LSTM-appl.ipynb",
      "provenance": [],
      "authorship_tag": "ABX9TyOcO6xGWHf8kCKBtqB8uOjL",
      "include_colab_link": true
    },
    "kernelspec": {
      "name": "python3",
      "display_name": "Python 3"
    },
    "language_info": {
      "name": "python"
    }
  },
  "cells": [
    {
      "cell_type": "markdown",
      "metadata": {
        "id": "view-in-github",
        "colab_type": "text"
      },
      "source": [
        "<a href=\"https://colab.research.google.com/github/dschirmerii/fintechbootcamp-Project_2/blob/main/LSTM_appl.ipynb\" target=\"_parent\"><img src=\"https://colab.research.google.com/assets/colab-badge.svg\" alt=\"Open In Colab\"/></a>"
      ]
    },
    {
      "cell_type": "code",
      "metadata": {
        "colab": {
          "base_uri": "https://localhost:8080/"
        },
        "id": "92efWOWLc_A3",
        "outputId": "34c916db-3d72-48e6-fcf3-05fc98194d66"
      },
      "source": [
        "!pip install yahoo-finance"
      ],
      "execution_count": 1,
      "outputs": [
        {
          "output_type": "stream",
          "text": [
            "Requirement already satisfied: yahoo-finance in /usr/local/lib/python3.7/dist-packages (1.4.0)\n",
            "Requirement already satisfied: pytz in /usr/local/lib/python3.7/dist-packages (from yahoo-finance) (2018.9)\n",
            "Requirement already satisfied: simplejson in /usr/local/lib/python3.7/dist-packages (from yahoo-finance) (3.17.3)\n"
          ],
          "name": "stdout"
        }
      ]
    },
    {
      "cell_type": "code",
      "metadata": {
        "id": "obIjXSGnZK0f"
      },
      "source": [
        "import pandas as pd\n",
        "import numpy as np \n",
        "import matplotlib.pyplot as plt\n",
        "import pandas_datareader as web\n",
        "import yahoo_finance as yf\n",
        "import datetime as dt\n",
        "from sklearn.preprocessing import MinMaxScaler\n",
        "from tensorflow.keras.models import Sequential \n",
        "from tensorflow.keras.layers import Dense, Dropout, LSTM\n",
        "import os"
      ],
      "execution_count": 2,
      "outputs": []
    },
    {
      "cell_type": "code",
      "metadata": {
        "id": "NYeUPRBpZSP5"
      },
      "source": [
        "company='AAPL'"
      ],
      "execution_count": 3,
      "outputs": []
    },
    {
      "cell_type": "code",
      "metadata": {
        "id": "F-IYY18MZUEe"
      },
      "source": [
        "start= dt.datetime(2016,1,1)"
      ],
      "execution_count": 24,
      "outputs": []
    },
    {
      "cell_type": "code",
      "metadata": {
        "id": "Ao1yYeI6ZWPE"
      },
      "source": [
        "end= dt.datetime(2021,1,1)"
      ],
      "execution_count": 26,
      "outputs": []
    },
    {
      "cell_type": "code",
      "metadata": {
        "id": "ElchnlFVZWMR"
      },
      "source": [
        "data=web.DataReader(\"AAPL\", \"av-daily\", start=start,\n",
        "               end=end,\n",
        "               api_key=os.getenv('ALPHAVANTAGE_API_KEY'))"
      ],
      "execution_count": 27,
      "outputs": []
    },
    {
      "cell_type": "code",
      "metadata": {
        "colab": {
          "base_uri": "https://localhost:8080/",
          "height": 206
        },
        "id": "hrpLzgQcjRab",
        "outputId": "f91a6eec-2cfd-42af-9c2e-3b60182a0495"
      },
      "source": [
        "data.head()"
      ],
      "execution_count": 28,
      "outputs": [
        {
          "output_type": "execute_result",
          "data": {
            "text/html": [
              "<div>\n",
              "<style scoped>\n",
              "    .dataframe tbody tr th:only-of-type {\n",
              "        vertical-align: middle;\n",
              "    }\n",
              "\n",
              "    .dataframe tbody tr th {\n",
              "        vertical-align: top;\n",
              "    }\n",
              "\n",
              "    .dataframe thead th {\n",
              "        text-align: right;\n",
              "    }\n",
              "</style>\n",
              "<table border=\"1\" class=\"dataframe\">\n",
              "  <thead>\n",
              "    <tr style=\"text-align: right;\">\n",
              "      <th></th>\n",
              "      <th>open</th>\n",
              "      <th>high</th>\n",
              "      <th>low</th>\n",
              "      <th>close</th>\n",
              "      <th>volume</th>\n",
              "    </tr>\n",
              "  </thead>\n",
              "  <tbody>\n",
              "    <tr>\n",
              "      <th>2016-01-04</th>\n",
              "      <td>102.61</td>\n",
              "      <td>105.368</td>\n",
              "      <td>102.00</td>\n",
              "      <td>105.35</td>\n",
              "      <td>67649387</td>\n",
              "    </tr>\n",
              "    <tr>\n",
              "      <th>2016-01-05</th>\n",
              "      <td>105.75</td>\n",
              "      <td>105.850</td>\n",
              "      <td>102.41</td>\n",
              "      <td>102.71</td>\n",
              "      <td>55790992</td>\n",
              "    </tr>\n",
              "    <tr>\n",
              "      <th>2016-01-06</th>\n",
              "      <td>100.56</td>\n",
              "      <td>102.370</td>\n",
              "      <td>99.87</td>\n",
              "      <td>100.70</td>\n",
              "      <td>68457388</td>\n",
              "    </tr>\n",
              "    <tr>\n",
              "      <th>2016-01-07</th>\n",
              "      <td>98.68</td>\n",
              "      <td>100.130</td>\n",
              "      <td>96.43</td>\n",
              "      <td>96.45</td>\n",
              "      <td>81094428</td>\n",
              "    </tr>\n",
              "    <tr>\n",
              "      <th>2016-01-08</th>\n",
              "      <td>98.55</td>\n",
              "      <td>99.110</td>\n",
              "      <td>96.76</td>\n",
              "      <td>96.96</td>\n",
              "      <td>70798016</td>\n",
              "    </tr>\n",
              "  </tbody>\n",
              "</table>\n",
              "</div>"
            ],
            "text/plain": [
              "              open     high     low   close    volume\n",
              "2016-01-04  102.61  105.368  102.00  105.35  67649387\n",
              "2016-01-05  105.75  105.850  102.41  102.71  55790992\n",
              "2016-01-06  100.56  102.370   99.87  100.70  68457388\n",
              "2016-01-07   98.68  100.130   96.43   96.45  81094428\n",
              "2016-01-08   98.55   99.110   96.76   96.96  70798016"
            ]
          },
          "metadata": {
            "tags": []
          },
          "execution_count": 28
        }
      ]
    },
    {
      "cell_type": "code",
      "metadata": {
        "id": "vK5N1iIwZWJg"
      },
      "source": [
        "# Prepare the data"
      ],
      "execution_count": 29,
      "outputs": []
    },
    {
      "cell_type": "code",
      "metadata": {
        "id": "z8hh2mM2ZWHJ"
      },
      "source": [
        "scaler = MinMaxScaler(feature_range=(0,1))"
      ],
      "execution_count": 30,
      "outputs": []
    },
    {
      "cell_type": "code",
      "metadata": {
        "id": "j3R-yw62ZWEu"
      },
      "source": [
        "scaled_data=scaler.fit_transform(data['close'].values.reshape(-1,1))"
      ],
      "execution_count": 31,
      "outputs": []
    },
    {
      "cell_type": "code",
      "metadata": {
        "id": "OJomkV8hZWCH"
      },
      "source": [
        "prediction_days=60"
      ],
      "execution_count": 32,
      "outputs": []
    },
    {
      "cell_type": "code",
      "metadata": {
        "id": "UN7cPjxKZV_n"
      },
      "source": [
        "x_train=[]"
      ],
      "execution_count": 33,
      "outputs": []
    },
    {
      "cell_type": "code",
      "metadata": {
        "id": "Pkd-HkncZV8y"
      },
      "source": [
        "y_train=[]"
      ],
      "execution_count": 34,
      "outputs": []
    },
    {
      "cell_type": "code",
      "metadata": {
        "id": "_oZnuMRoZpFg"
      },
      "source": [
        "for x in range(prediction_days, len(scaled_data)):\n",
        "    x_train.append(scaled_data[x-prediction_days:x, 0])\n",
        "    y_train.append(scaled_data[x,0])\n",
        "\n",
        "x_train, y_train= np.array(x_train), np.array(y_train)\n",
        "x_train=np.reshape(x_train, (x_train.shape[0],x_train.shape[1],1))"
      ],
      "execution_count": 35,
      "outputs": []
    },
    {
      "cell_type": "code",
      "metadata": {
        "id": "PHPdJH63ZpDC"
      },
      "source": [
        "#build the model"
      ],
      "execution_count": 36,
      "outputs": []
    },
    {
      "cell_type": "code",
      "metadata": {
        "id": "DuJ5pCT5ZpAh"
      },
      "source": [
        "model = Sequential()"
      ],
      "execution_count": 37,
      "outputs": []
    },
    {
      "cell_type": "code",
      "metadata": {
        "id": "7Wd6wNV5Zo97"
      },
      "source": [
        "model.add(LSTM(units=50, return_sequences=True, input_shape=(x_train.shape[1],1)))\n",
        "model.add(Dropout(0.2))\n",
        "model.add(LSTM(units=50, return_sequences=True))\n",
        "model.add(Dropout(0.2))\n",
        "model.add(LSTM(units=50))\n",
        "model.add(Dropout(0.2))\n",
        "model.add(Dense(units=1)) # prediction of the next closing\n",
        "model.compile(optimizer='adam', loss='mean_squared_error')"
      ],
      "execution_count": 38,
      "outputs": []
    },
    {
      "cell_type": "code",
      "metadata": {
        "colab": {
          "base_uri": "https://localhost:8080/"
        },
        "id": "8zuNTStxZo7V",
        "outputId": "d6e9ec76-a4ac-4b44-95be-2e8e675dd407"
      },
      "source": [
        "model.fit(x_train, y_train, epochs=25, batch_size=32)\n"
      ],
      "execution_count": 39,
      "outputs": [
        {
          "output_type": "stream",
          "text": [
            "Epoch 1/25\n",
            "38/38 [==============================] - 8s 85ms/step - loss: 0.0172\n",
            "Epoch 2/25\n",
            "38/38 [==============================] - 3s 85ms/step - loss: 0.0072\n",
            "Epoch 3/25\n",
            "38/38 [==============================] - 3s 84ms/step - loss: 0.0057\n",
            "Epoch 4/25\n",
            "38/38 [==============================] - 3s 85ms/step - loss: 0.0051\n",
            "Epoch 5/25\n",
            "38/38 [==============================] - 3s 84ms/step - loss: 0.0052\n",
            "Epoch 6/25\n",
            "38/38 [==============================] - 3s 84ms/step - loss: 0.0055\n",
            "Epoch 7/25\n",
            "38/38 [==============================] - 3s 85ms/step - loss: 0.0035\n",
            "Epoch 8/25\n",
            "38/38 [==============================] - 3s 85ms/step - loss: 0.0034\n",
            "Epoch 9/25\n",
            "38/38 [==============================] - 3s 84ms/step - loss: 0.0039\n",
            "Epoch 10/25\n",
            "38/38 [==============================] - 3s 85ms/step - loss: 0.0032\n",
            "Epoch 11/25\n",
            "38/38 [==============================] - 3s 85ms/step - loss: 0.0036\n",
            "Epoch 12/25\n",
            "38/38 [==============================] - 3s 85ms/step - loss: 0.0030\n",
            "Epoch 13/25\n",
            "38/38 [==============================] - 3s 84ms/step - loss: 0.0033\n",
            "Epoch 14/25\n",
            "38/38 [==============================] - 3s 83ms/step - loss: 0.0034\n",
            "Epoch 15/25\n",
            "38/38 [==============================] - 3s 84ms/step - loss: 0.0032\n",
            "Epoch 16/25\n",
            "38/38 [==============================] - 3s 86ms/step - loss: 0.0042\n",
            "Epoch 17/25\n",
            "38/38 [==============================] - 3s 84ms/step - loss: 0.0029\n",
            "Epoch 18/25\n",
            "38/38 [==============================] - 3s 83ms/step - loss: 0.0027\n",
            "Epoch 19/25\n",
            "38/38 [==============================] - 3s 83ms/step - loss: 0.0038\n",
            "Epoch 20/25\n",
            "38/38 [==============================] - 3s 81ms/step - loss: 0.0026\n",
            "Epoch 21/25\n",
            "38/38 [==============================] - 3s 82ms/step - loss: 0.0028\n",
            "Epoch 22/25\n",
            "38/38 [==============================] - 3s 81ms/step - loss: 0.0027\n",
            "Epoch 23/25\n",
            "38/38 [==============================] - 3s 82ms/step - loss: 0.0026\n",
            "Epoch 24/25\n",
            "38/38 [==============================] - 3s 82ms/step - loss: 0.0036\n",
            "Epoch 25/25\n",
            "38/38 [==============================] - 3s 83ms/step - loss: 0.0028\n"
          ],
          "name": "stdout"
        },
        {
          "output_type": "execute_result",
          "data": {
            "text/plain": [
              "<tensorflow.python.keras.callbacks.History at 0x7f2548b9d6d0>"
            ]
          },
          "metadata": {
            "tags": []
          },
          "execution_count": 39
        }
      ]
    },
    {
      "cell_type": "code",
      "metadata": {
        "id": "hRFBft5yZo4s"
      },
      "source": [
        "#Testing the Model"
      ],
      "execution_count": 40,
      "outputs": []
    },
    {
      "cell_type": "code",
      "metadata": {
        "id": "8q2_I3-LZo0t"
      },
      "source": [
        "test_start=dt.datetime(2021,1,1)"
      ],
      "execution_count": 43,
      "outputs": []
    },
    {
      "cell_type": "code",
      "metadata": {
        "id": "fcRvtanEaCC6"
      },
      "source": [
        "test_end=dt.datetime.now()"
      ],
      "execution_count": 44,
      "outputs": []
    },
    {
      "cell_type": "code",
      "metadata": {
        "id": "4-rs-wS3aCAi"
      },
      "source": [
        "test_data=web.DataReader(company, \"av-daily\", start=start,\n",
        "               end=end,\n",
        "               api_key=os.getenv('ALPHAVANTAGE_API_KEY'))"
      ],
      "execution_count": 45,
      "outputs": []
    },
    {
      "cell_type": "code",
      "metadata": {
        "id": "tnI-OuMUaB9z"
      },
      "source": [
        "actual_prices=test_data['close'].values"
      ],
      "execution_count": 46,
      "outputs": []
    },
    {
      "cell_type": "code",
      "metadata": {
        "id": "SC4fS-2raB7U"
      },
      "source": [
        "total_dataset=pd.concat((data['close'],test_data['close']),axis=0)\n"
      ],
      "execution_count": 47,
      "outputs": []
    },
    {
      "cell_type": "code",
      "metadata": {
        "id": "PHbTUVS2aB4r"
      },
      "source": [
        "model_inputs=total_dataset[len(total_dataset)-len(test_data)-prediction_days:].values"
      ],
      "execution_count": 48,
      "outputs": []
    },
    {
      "cell_type": "code",
      "metadata": {
        "id": "CwYe_xPZaB1-"
      },
      "source": [
        "model_inputs=model_inputs.reshape(-1,1)"
      ],
      "execution_count": 49,
      "outputs": []
    },
    {
      "cell_type": "code",
      "metadata": {
        "id": "znCgToCzaK7p"
      },
      "source": [
        "model_inputs=scaler.transform(model_inputs)"
      ],
      "execution_count": 50,
      "outputs": []
    },
    {
      "cell_type": "code",
      "metadata": {
        "id": "dswz049qaK5Q"
      },
      "source": [
        "# Make Predictions on Test Data"
      ],
      "execution_count": 51,
      "outputs": []
    },
    {
      "cell_type": "code",
      "metadata": {
        "id": "6ht4VIqxaK2Z"
      },
      "source": [
        "x_test=[]\n"
      ],
      "execution_count": 52,
      "outputs": []
    },
    {
      "cell_type": "code",
      "metadata": {
        "id": "I_6wWvPPaKyt"
      },
      "source": [
        "for x in range(prediction_days, len(model_inputs)):\n",
        "    x_test.append(model_inputs[x-prediction_days:x,0])"
      ],
      "execution_count": 53,
      "outputs": []
    },
    {
      "cell_type": "code",
      "metadata": {
        "id": "xLP9AkPNaKvs"
      },
      "source": [
        "x_test=np.array(x_test)"
      ],
      "execution_count": 54,
      "outputs": []
    },
    {
      "cell_type": "code",
      "metadata": {
        "id": "8KEcue_SaWrN"
      },
      "source": [
        "x_test= np.reshape(x_test,(x_test.shape[0],x_test.shape[1],1))"
      ],
      "execution_count": 55,
      "outputs": []
    },
    {
      "cell_type": "code",
      "metadata": {
        "id": "wv9E9vsxaWpI"
      },
      "source": [
        "predicted_prices=model.predict(x_test)"
      ],
      "execution_count": 56,
      "outputs": []
    },
    {
      "cell_type": "code",
      "metadata": {
        "id": "DJQSDUVJaWmo"
      },
      "source": [
        "predicted_prices=scaler.inverse_transform(predicted_prices)"
      ],
      "execution_count": 57,
      "outputs": []
    },
    {
      "cell_type": "code",
      "metadata": {
        "id": "-wF0dxhWaWkS"
      },
      "source": [
        "# Plot"
      ],
      "execution_count": 58,
      "outputs": []
    },
    {
      "cell_type": "code",
      "metadata": {
        "colab": {
          "base_uri": "https://localhost:8080/",
          "height": 295
        },
        "id": "4P13n3DAaWg_",
        "outputId": "cc5fc8fd-5420-4b60-e2e9-2f172c720993"
      },
      "source": [
        "plt.plot(actual_prices, color='black',label=f'Actual {company} Prices')\n",
        "plt.plot(predicted_prices,color='green',label=f'Predicted {company} Price')\n",
        "plt.title(f'{company} Share Prices')\n",
        "plt.xlabel('Time')\n",
        "plt.ylabel(f'{company} Share Price')\n",
        "plt.legend()\n",
        "plt.show()"
      ],
      "execution_count": 59,
      "outputs": [
        {
          "output_type": "display_data",
          "data": {
            "image/png": "[encoded data removed]",
            "text/plain": [
              "<Figure size 432x288 with 1 Axes>"
            ]
          },
          "metadata": {
            "tags": [],
            "needs_background": "light"
          }
        }
      ]
    },
    {
      "cell_type": "code",
      "metadata": {
        "id": "XlrFiCb1afYd"
      },
      "source": [
        "# Predicting next Day"
      ],
      "execution_count": 60,
      "outputs": []
    },
    {
      "cell_type": "code",
      "metadata": {
        "id": "NgTkSV6CafV6"
      },
      "source": [
        "real_data=[model_inputs[len(model_inputs)+ 1- prediction_days:len(model_inputs),0]]"
      ],
      "execution_count": 65,
      "outputs": []
    },
    {
      "cell_type": "code",
      "metadata": {
        "id": "DboFnY4zafTi"
      },
      "source": [
        "real_data=np.array(real_data)"
      ],
      "execution_count": 66,
      "outputs": []
    },
    {
      "cell_type": "code",
      "metadata": {
        "id": "2134xGheafQg"
      },
      "source": [
        "real_data=np.reshape(real_data, (real_data.shape[0],real_data.shape[1],1))"
      ],
      "execution_count": 67,
      "outputs": []
    },
    {
      "cell_type": "code",
      "metadata": {
        "id": "LuBHoXHrafN3"
      },
      "source": [
        "prediction=model.predict(real_data)"
      ],
      "execution_count": 68,
      "outputs": []
    },
    {
      "cell_type": "code",
      "metadata": {
        "id": "-Z8Mzyk8aobv"
      },
      "source": [
        "prediction=scaler.inverse_transform(prediction)"
      ],
      "execution_count": 69,
      "outputs": []
    },
    {
      "cell_type": "code",
      "metadata": {
        "id": "W75tEQUwaoaC"
      },
      "source": [
        "# Next day prediction"
      ],
      "execution_count": 70,
      "outputs": []
    },
    {
      "cell_type": "code",
      "metadata": {
        "colab": {
          "base_uri": "https://localhost:8080/"
        },
        "id": "aSDwJralaoXN",
        "outputId": "ad7bfbc0-37ab-4557-aec0-9430bb0fdc50"
      },
      "source": [
        "print(f'Prediction:{prediction}')"
      ],
      "execution_count": 71,
      "outputs": [
        {
          "output_type": "stream",
          "text": [
            "Prediction:[[128.24287]]\n"
          ],
          "name": "stdout"
        }
      ]
    },
    {
      "cell_type": "code",
      "metadata": {
        "id": "FblcHkRBjEKp"
      },
      "source": [
        ""
      ],
      "execution_count": null,
      "outputs": []
    }
  ]
}
