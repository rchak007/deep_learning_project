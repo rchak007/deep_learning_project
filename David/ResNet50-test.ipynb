{
  "nbformat": 4,
  "nbformat_minor": 0,
  "metadata": {
    "colab": {
      "name": "ResNet50.ipynb",
      "provenance": [],
      "collapsed_sections": [],
      "machine_shape": "hm",
      "authorship_tag": "ABX9TyNyaCaDJFMwQxUcNQziNCSb",
      "include_colab_link": true
    },
    "kernelspec": {
      "name": "python3",
      "display_name": "Python 3"
    },
    "language_info": {
      "name": "python"
    },
    "accelerator": "GPU"
  },
  "cells": [
    {
      "cell_type": "markdown",
      "metadata": {
        "id": "view-in-github",
        "colab_type": "text"
      },
      "source": [
        "<a href=\"https://colab.research.google.com/github/dschirmerii/fintechbootcamp-Project_2/blob/main/ResNet50.ipynb\" target=\"_parent\"><img src=\"https://colab.research.google.com/assets/colab-badge.svg\" alt=\"Open In Colab\"/></a>"
      ]
    },
    {
      "cell_type": "code",
      "metadata": {
        "colab": {
          "base_uri": "https://localhost:8080/"
        },
        "id": "YSfWhn9ERU5q",
        "outputId": "8056020a-e9e4-437b-9c79-1c8e9a31e177"
      },
      "source": [
        "gpu_info = !nvidia-smi\n",
        "gpu_info = '\\n'.join(gpu_info)\n",
        "if gpu_info.find('failed') >= 0:\n",
        "  print('Select the Runtime > \"Change runtime type\" menu to enable a GPU accelerator, ')\n",
        "  print('and then re-execute this cell.')\n",
        "else:\n",
        "  print(gpu_info)"
      ],
      "execution_count": 1,
      "outputs": [
        {
          "output_type": "stream",
          "text": [
            "Fri Aug  6 17:44:16 2021       \n",
            "+-----------------------------------------------------------------------------+\n",
            "| NVIDIA-SMI 470.42.01    Driver Version: 460.32.03    CUDA Version: 11.2     |\n",
            "|-------------------------------+----------------------+----------------------+\n",
            "| GPU  Name        Persistence-M| Bus-Id        Disp.A | Volatile Uncorr. ECC |\n",
            "| Fan  Temp  Perf  Pwr:Usage/Cap|         Memory-Usage | GPU-Util  Compute M. |\n",
            "|                               |                      |               MIG M. |\n",
            "|===============================+======================+======================|\n",
            "|   0  Tesla P100-PCIE...  Off  | 00000000:00:04.0 Off |                    0 |\n",
            "| N/A   43C    P0    28W / 250W |      0MiB / 16280MiB |      0%      Default |\n",
            "|                               |                      |                  N/A |\n",
            "+-------------------------------+----------------------+----------------------+\n",
            "                                                                               \n",
            "+-----------------------------------------------------------------------------+\n",
            "| Processes:                                                                  |\n",
            "|  GPU   GI   CI        PID   Type   Process name                  GPU Memory |\n",
            "|        ID   ID                                                   Usage      |\n",
            "|=============================================================================|\n",
            "|  No running processes found                                                 |\n",
            "+-----------------------------------------------------------------------------+\n"
          ],
          "name": "stdout"
        }
      ]
    },
    {
      "cell_type": "code",
      "metadata": {
        "colab": {
          "base_uri": "https://localhost:8080/"
        },
        "id": "m04cDXSvRU0C",
        "outputId": "a3ae9e9a-cc6d-40bc-8982-396307230816"
      },
      "source": [
        "from psutil import virtual_memory\n",
        "ram_gb = virtual_memory().total / 1e9\n",
        "print('Your runtime has {:.1f} gigabytes of available RAM\\n'.format(ram_gb))\n",
        "\n",
        "if ram_gb < 20:\n",
        "  print('To enable a high-RAM runtime, select the Runtime > \"Change runtime type\"')\n",
        "  print('menu, and then select High-RAM in the Runtime shape dropdown. Then, ')\n",
        "  print('re-execute this cell.')\n",
        "else:\n",
        "  print('You are using a high-RAM runtime!')"
      ],
      "execution_count": 2,
      "outputs": [
        {
          "output_type": "stream",
          "text": [
            "Your runtime has 27.3 gigabytes of available RAM\n",
            "\n",
            "You are using a high-RAM runtime!\n"
          ],
          "name": "stdout"
        }
      ]
    },
    {
      "cell_type": "code",
      "metadata": {
        "id": "FrKOYR5CRUsO",
        "colab": {
          "base_uri": "https://localhost:8080/"
        },
        "outputId": "813f4110-14b7-486e-f30c-8bb7fbbf27a8"
      },
      "source": [
        "from google.colab import drive\n",
        "drive.mount('/content/drive')"
      ],
      "execution_count": 3,
      "outputs": [
        {
          "output_type": "stream",
          "text": [
            "Drive already mounted at /content/drive; to attempt to forcibly remount, call drive.mount(\"/content/drive\", force_remount=True).\n"
          ],
          "name": "stdout"
        }
      ]
    },
    {
      "cell_type": "code",
      "metadata": {
        "colab": {
          "base_uri": "https://localhost:8080/"
        },
        "id": "GmqDKUZC1Yle",
        "outputId": "4aa0c1da-bceb-4517-cf13-15d5ee088cab"
      },
      "source": [
        "! pip install split-folders"
      ],
      "execution_count": 4,
      "outputs": [
        {
          "output_type": "stream",
          "text": [
            "Requirement already satisfied: split-folders in /usr/local/lib/python3.7/dist-packages (0.4.3)\n"
          ],
          "name": "stdout"
        }
      ]
    },
    {
      "cell_type": "code",
      "metadata": {
        "colab": {
          "base_uri": "https://localhost:8080/"
        },
        "id": "sdZSUcaS51-7",
        "outputId": "5ae38069-a3e2-473d-fd13-056021b56638"
      },
      "source": [
        "!pip install q keras==1.2.2"
      ],
      "execution_count": 5,
      "outputs": [
        {
          "output_type": "stream",
          "text": [
            "Requirement already satisfied: q in /usr/local/lib/python3.7/dist-packages (2.6)\n",
            "Requirement already satisfied: keras==1.2.2 in /usr/local/lib/python3.7/dist-packages (1.2.2)\n",
            "Requirement already satisfied: six in /usr/local/lib/python3.7/dist-packages (from keras==1.2.2) (1.15.0)\n",
            "Requirement already satisfied: theano in /usr/local/lib/python3.7/dist-packages (from keras==1.2.2) (1.0.5)\n",
            "Requirement already satisfied: pyyaml in /usr/local/lib/python3.7/dist-packages (from keras==1.2.2) (3.13)\n",
            "Requirement already satisfied: numpy>=1.9.1 in /usr/local/lib/python3.7/dist-packages (from theano->keras==1.2.2) (1.19.5)\n",
            "Requirement already satisfied: scipy>=0.14 in /usr/local/lib/python3.7/dist-packages (from theano->keras==1.2.2) (1.4.1)\n"
          ],
          "name": "stdout"
        }
      ]
    },
    {
      "cell_type": "code",
      "metadata": {
        "id": "Vkxqxp9mRlO9",
        "colab": {
          "base_uri": "https://localhost:8080/"
        },
        "outputId": "9c6d4fbe-935b-429d-f6e7-51baca87ccef"
      },
      "source": [
        "# importing libaries\n",
        "import pandas as pd\n",
        "import splitfolders\n",
        "import keras,os\n",
        "from keras.models import Sequential\n",
        "from keras.layers import Dense, Convolution2D, MaxPooling2D , Flatten\n",
        "from keras.preprocessing.image import ImageDataGenerator\n",
        "import numpy as np\n",
        "import matplotlib.pyplot as plt\n",
        "import matplotlib.image as mpimg\n",
        "import cv2\n",
        "import tensorflow as tf\n",
        "import os\n",
        "import numpy as np\n",
        "import shutil\n",
        "from keras.preprocessing.image import ImageDataGenerator, load_img, img_to_array, array_to_img"
      ],
      "execution_count": 6,
      "outputs": [
        {
          "output_type": "stream",
          "text": [
            "Using TensorFlow backend.\n"
          ],
          "name": "stderr"
        }
      ]
    },
    {
      "cell_type": "code",
      "metadata": {
        "id": "u5QATIOcRlLq",
        "colab": {
          "base_uri": "https://localhost:8080/"
        },
        "outputId": "fac56c6d-66da-4fe0-d634-a704b58ae1ff"
      },
      "source": [
        "cd /content/drive/MyDrive/Project 2"
      ],
      "execution_count": 7,
      "outputs": [
        {
          "output_type": "stream",
          "text": [
            "/content/drive/MyDrive/Project 2\n"
          ],
          "name": "stdout"
        }
      ]
    },
    {
      "cell_type": "code",
      "metadata": {
        "id": "eq4dvs9YduUx",
        "colab": {
          "base_uri": "https://localhost:8080/"
        },
        "outputId": "72af85a0-29a3-49f3-a5e7-ec2d20a21b14"
      },
      "source": [
        "trdata = ImageDataGenerator()\n",
        "traindata = trdata.flow_from_directory(directory=\"./output/train\",target_size=(224,224))\n",
        "vldata=ImageDataGenerator()\n",
        "valdata=vldata.flow_from_directory(directory=\"./output/val\", target_size=(224,224))"
      ],
      "execution_count": 8,
      "outputs": [
        {
          "output_type": "stream",
          "text": [
            "Found 799 images belonging to 2 classes.\n",
            "Found 201 images belonging to 2 classes.\n"
          ],
          "name": "stdout"
        }
      ]
    },
    {
      "cell_type": "code",
      "metadata": {
        "id": "YisbMWWwiCKH"
      },
      "source": [
        "Traindata = ImageDataGenerator( preprocessing_function=tf.keras.applications.resnet.preprocess_input)\n",
        "Valdata = ImageDataGenerator( preprocessing_function=tf.keras.applications.resnet.preprocess_input)"
      ],
      "execution_count": 9,
      "outputs": []
    },
    {
      "cell_type": "code",
      "metadata": {
        "id": "ddDhqVUmG9Ui"
      },
      "source": [
        "# Import the base model\n",
        "from tensorflow.keras.applications import ResNet50\n",
        "\n",
        "model = ResNet50(input_shape=(224, 224,3), include_top=False)"
      ],
      "execution_count": 10,
      "outputs": []
    },
    {
      "cell_type": "code",
      "metadata": {
        "id": "V1QC7qbq18oz"
      },
      "source": [
        "from tensorflow.keras.applications import ResNet50\n",
        "from tensorflow.python.keras.models import Sequential\n",
        "from tensorflow.python.keras.layers import Dense, Flatten, GlobalAveragePooling2D, Dropout, BatchNormalization\n",
        "from tensorflow.keras.initializers import RandomNormal, Constant"
      ],
      "execution_count": 11,
      "outputs": []
    },
    {
      "cell_type": "code",
      "metadata": {
        "id": "aGFXKXRF13Np"
      },
      "source": [
        "Conv_Base = ResNet50(include_top = False, input_shape = (224,224, 3),weights='imagenet')"
      ],
      "execution_count": 12,
      "outputs": []
    },
    {
      "cell_type": "code",
      "metadata": {
        "id": "8hUE9oIe130Z"
      },
      "source": [
        "Conv_Base.trainable = False"
      ],
      "execution_count": 13,
      "outputs": []
    },
    {
      "cell_type": "code",
      "metadata": {
        "id": "--SnkFYXHEuk"
      },
      "source": [
        "# Build and compile the Model \n",
        "\n",
        "\n",
        "model = Sequential()\n",
        "model.add(Conv_Base)\n",
        "BatchNormalization()\n",
        "model.add(Flatten())\n",
        "model.add(Dense(units = 256, activation = 'relu'))\n",
        "BatchNormalization(\n",
        "        momentum=0.95, \n",
        "        epsilon=0.005,\n",
        "        beta_initializer=RandomNormal(mean=0.0, stddev=0.05), \n",
        "        gamma_initializer=Constant(value=0.9)\n",
        "    )\n",
        "# model.add(Dropout(0.2))\n",
        "model.add(Dense(units = 1, activation = 'softmax'))"
      ],
      "execution_count": 14,
      "outputs": []
    },
    {
      "cell_type": "code",
      "metadata": {
        "id": "er3zEh3v8U2u"
      },
      "source": [
        "metric = tf.keras.metrics.binary_accuracy"
      ],
      "execution_count": 15,
      "outputs": []
    },
    {
      "cell_type": "code",
      "metadata": {
        "id": "MpAIIJbWHJdo"
      },
      "source": [
        "# Compile the model\n",
        "model.compile(optimizer = 'Adam', loss = 'binary_crossentropy', metrics =metric)"
      ],
      "execution_count": 16,
      "outputs": []
    },
    {
      "cell_type": "code",
      "metadata": {
        "id": "kfSU-32nHMAl",
        "colab": {
          "base_uri": "https://localhost:8080/"
        },
        "outputId": "ad435985-814a-44ae-c5b9-00165d130e87"
      },
      "source": [
        "# Fiting the Model\n",
        "resnet_history = model.fit(traindata,batch_size=32,steps_per_epoch=25, validation_data=valdata, validation_steps=6,epochs=50)"
      ],
      "execution_count": 17,
      "outputs": [
        {
          "output_type": "stream",
          "text": [
            "Epoch 1/50\n",
            "25/25 [==============================] - 452s 18s/step - loss: 6.0730 - binary_accuracy: 0.5000 - val_loss: 0.7387 - val_binary_accuracy: 0.5000\n",
            "Epoch 2/50\n",
            "25/25 [==============================] - 22s 930ms/step - loss: 0.7903 - binary_accuracy: 0.5000 - val_loss: 0.7995 - val_binary_accuracy: 0.5000\n",
            "Epoch 3/50\n",
            "25/25 [==============================] - 22s 922ms/step - loss: 0.7452 - binary_accuracy: 0.5000 - val_loss: 0.7156 - val_binary_accuracy: 0.5000\n",
            "Epoch 4/50\n",
            "25/25 [==============================] - 22s 927ms/step - loss: 0.7134 - binary_accuracy: 0.5000 - val_loss: 0.7057 - val_binary_accuracy: 0.5000\n",
            "Epoch 5/50\n",
            "25/25 [==============================] - 22s 918ms/step - loss: 0.7069 - binary_accuracy: 0.5000 - val_loss: 0.7051 - val_binary_accuracy: 0.5000\n",
            "Epoch 6/50\n",
            "25/25 [==============================] - 22s 914ms/step - loss: 0.7049 - binary_accuracy: 0.5000 - val_loss: 0.7138 - val_binary_accuracy: 0.5000\n",
            "Epoch 7/50\n",
            "25/25 [==============================] - 22s 922ms/step - loss: 0.7049 - binary_accuracy: 0.5000 - val_loss: 0.6976 - val_binary_accuracy: 0.5000\n",
            "Epoch 8/50\n",
            "25/25 [==============================] - 22s 912ms/step - loss: 0.7030 - binary_accuracy: 0.5000 - val_loss: 0.6987 - val_binary_accuracy: 0.5000\n",
            "Epoch 9/50\n",
            "25/25 [==============================] - 22s 915ms/step - loss: 0.7030 - binary_accuracy: 0.5000 - val_loss: 0.7011 - val_binary_accuracy: 0.5000\n",
            "Epoch 10/50\n",
            "25/25 [==============================] - 22s 923ms/step - loss: 0.7237 - binary_accuracy: 0.5000 - val_loss: 0.7063 - val_binary_accuracy: 0.5000\n",
            "Epoch 11/50\n",
            "25/25 [==============================] - 22s 911ms/step - loss: 0.7232 - binary_accuracy: 0.5000 - val_loss: 0.7103 - val_binary_accuracy: 0.5000\n",
            "Epoch 12/50\n",
            "25/25 [==============================] - 22s 907ms/step - loss: 0.7337 - binary_accuracy: 0.5000 - val_loss: 0.7076 - val_binary_accuracy: 0.5000\n",
            "Epoch 13/50\n",
            "25/25 [==============================] - 22s 921ms/step - loss: 0.7424 - binary_accuracy: 0.5000 - val_loss: 0.7164 - val_binary_accuracy: 0.5000\n",
            "Epoch 14/50\n",
            "25/25 [==============================] - 22s 913ms/step - loss: 0.7436 - binary_accuracy: 0.5000 - val_loss: 0.7866 - val_binary_accuracy: 0.5000\n",
            "Epoch 15/50\n",
            "25/25 [==============================] - 22s 909ms/step - loss: 0.7549 - binary_accuracy: 0.5000 - val_loss: 0.7348 - val_binary_accuracy: 0.5000\n",
            "Epoch 16/50\n",
            "25/25 [==============================] - 22s 927ms/step - loss: 0.7442 - binary_accuracy: 0.5000 - val_loss: 0.7090 - val_binary_accuracy: 0.5000\n",
            "Epoch 17/50\n",
            "25/25 [==============================] - 22s 912ms/step - loss: 0.7313 - binary_accuracy: 0.5000 - val_loss: 0.7286 - val_binary_accuracy: 0.5000\n",
            "Epoch 18/50\n",
            "25/25 [==============================] - 22s 918ms/step - loss: 0.7278 - binary_accuracy: 0.5000 - val_loss: 0.7221 - val_binary_accuracy: 0.5000\n",
            "Epoch 19/50\n",
            "25/25 [==============================] - 22s 923ms/step - loss: 0.7241 - binary_accuracy: 0.5000 - val_loss: 0.7359 - val_binary_accuracy: 0.5000\n",
            "Epoch 20/50\n",
            "25/25 [==============================] - 22s 925ms/step - loss: 0.7201 - binary_accuracy: 0.5000 - val_loss: 0.7026 - val_binary_accuracy: 0.5000\n",
            "Epoch 21/50\n",
            "25/25 [==============================] - 22s 908ms/step - loss: 0.7216 - binary_accuracy: 0.5000 - val_loss: 0.7266 - val_binary_accuracy: 0.5000\n",
            "Epoch 22/50\n",
            "25/25 [==============================] - 22s 909ms/step - loss: 0.7124 - binary_accuracy: 0.5000 - val_loss: 0.7045 - val_binary_accuracy: 0.5000\n",
            "Epoch 23/50\n",
            "25/25 [==============================] - 22s 931ms/step - loss: 0.7086 - binary_accuracy: 0.5000 - val_loss: 0.7120 - val_binary_accuracy: 0.5000\n",
            "Epoch 24/50\n",
            "25/25 [==============================] - 22s 906ms/step - loss: 0.7149 - binary_accuracy: 0.5000 - val_loss: 0.7236 - val_binary_accuracy: 0.5000\n",
            "Epoch 25/50\n",
            "25/25 [==============================] - 22s 908ms/step - loss: 0.7298 - binary_accuracy: 0.5000 - val_loss: 0.7249 - val_binary_accuracy: 0.5000\n",
            "Epoch 26/50\n",
            "25/25 [==============================] - 22s 930ms/step - loss: 0.7312 - binary_accuracy: 0.5000 - val_loss: 0.7158 - val_binary_accuracy: 0.5000\n",
            "Epoch 27/50\n",
            "25/25 [==============================] - 22s 915ms/step - loss: 0.7517 - binary_accuracy: 0.5000 - val_loss: 0.7193 - val_binary_accuracy: 0.5000\n",
            "Epoch 28/50\n",
            "25/25 [==============================] - 22s 906ms/step - loss: 0.7394 - binary_accuracy: 0.5000 - val_loss: 0.7184 - val_binary_accuracy: 0.5000\n",
            "Epoch 29/50\n",
            "25/25 [==============================] - 22s 931ms/step - loss: 0.7306 - binary_accuracy: 0.5000 - val_loss: 0.7271 - val_binary_accuracy: 0.5000\n",
            "Epoch 30/50\n",
            "25/25 [==============================] - 22s 912ms/step - loss: 0.7183 - binary_accuracy: 0.5000 - val_loss: 0.7032 - val_binary_accuracy: 0.5000\n",
            "Epoch 31/50\n",
            "25/25 [==============================] - 22s 908ms/step - loss: 0.7244 - binary_accuracy: 0.5000 - val_loss: 0.7042 - val_binary_accuracy: 0.5000\n",
            "Epoch 32/50\n",
            "25/25 [==============================] - 22s 929ms/step - loss: 0.7108 - binary_accuracy: 0.5000 - val_loss: 0.7002 - val_binary_accuracy: 0.5000\n",
            "Epoch 33/50\n",
            "25/25 [==============================] - 22s 919ms/step - loss: 0.7232 - binary_accuracy: 0.5000 - val_loss: 0.7060 - val_binary_accuracy: 0.5000\n",
            "Epoch 34/50\n",
            "25/25 [==============================] - 22s 923ms/step - loss: 0.7111 - binary_accuracy: 0.5000 - val_loss: 0.6985 - val_binary_accuracy: 0.5000\n",
            "Epoch 35/50\n",
            "25/25 [==============================] - 22s 909ms/step - loss: 0.7021 - binary_accuracy: 0.5000 - val_loss: 0.6992 - val_binary_accuracy: 0.5000\n",
            "Epoch 36/50\n",
            "25/25 [==============================] - 22s 916ms/step - loss: 0.7065 - binary_accuracy: 0.5000 - val_loss: 0.6997 - val_binary_accuracy: 0.5000\n",
            "Epoch 37/50\n",
            "25/25 [==============================] - 22s 925ms/step - loss: 0.7104 - binary_accuracy: 0.5000 - val_loss: 0.6973 - val_binary_accuracy: 0.5000\n",
            "Epoch 38/50\n",
            "25/25 [==============================] - 22s 914ms/step - loss: 0.7118 - binary_accuracy: 0.5000 - val_loss: 0.7194 - val_binary_accuracy: 0.5000\n",
            "Epoch 39/50\n",
            "25/25 [==============================] - 22s 918ms/step - loss: 0.7066 - binary_accuracy: 0.5000 - val_loss: 0.6968 - val_binary_accuracy: 0.5000\n",
            "Epoch 40/50\n",
            "25/25 [==============================] - 22s 924ms/step - loss: 0.7122 - binary_accuracy: 0.5000 - val_loss: 0.7129 - val_binary_accuracy: 0.5000\n",
            "Epoch 41/50\n",
            "25/25 [==============================] - 22s 913ms/step - loss: 0.7039 - binary_accuracy: 0.5000 - val_loss: 0.6969 - val_binary_accuracy: 0.5000\n",
            "Epoch 42/50\n",
            "25/25 [==============================] - 22s 913ms/step - loss: 0.7014 - binary_accuracy: 0.5000 - val_loss: 0.6999 - val_binary_accuracy: 0.5000\n",
            "Epoch 43/50\n",
            "25/25 [==============================] - 22s 920ms/step - loss: 0.6995 - binary_accuracy: 0.5000 - val_loss: 0.6984 - val_binary_accuracy: 0.5000\n",
            "Epoch 44/50\n",
            "25/25 [==============================] - 22s 907ms/step - loss: 0.6971 - binary_accuracy: 0.5000 - val_loss: 0.6965 - val_binary_accuracy: 0.5000\n",
            "Epoch 45/50\n",
            "25/25 [==============================] - 22s 913ms/step - loss: 0.6995 - binary_accuracy: 0.5000 - val_loss: 0.6986 - val_binary_accuracy: 0.5000\n",
            "Epoch 46/50\n",
            "25/25 [==============================] - 22s 931ms/step - loss: 0.7043 - binary_accuracy: 0.5000 - val_loss: 0.7032 - val_binary_accuracy: 0.5000\n",
            "Epoch 47/50\n",
            "25/25 [==============================] - 22s 913ms/step - loss: 0.7009 - binary_accuracy: 0.5000 - val_loss: 0.7041 - val_binary_accuracy: 0.5000\n",
            "Epoch 48/50\n",
            "25/25 [==============================] - 22s 919ms/step - loss: 0.6996 - binary_accuracy: 0.5000 - val_loss: 0.6977 - val_binary_accuracy: 0.5000\n",
            "Epoch 49/50\n",
            "25/25 [==============================] - 22s 926ms/step - loss: 0.6972 - binary_accuracy: 0.5000 - val_loss: 0.6945 - val_binary_accuracy: 0.5000\n",
            "Epoch 50/50\n",
            "25/25 [==============================] - 22s 932ms/step - loss: 0.6955 - binary_accuracy: 0.5000 - val_loss: 0.6944 - val_binary_accuracy: 0.5000\n"
          ],
          "name": "stdout"
        }
      ]
    },
    {
      "cell_type": "code",
      "metadata": {
        "id": "GxqWA3Wd1lAz"
      },
      "source": [
        "epochs=50"
      ],
      "execution_count": 21,
      "outputs": []
    },
    {
      "cell_type": "code",
      "metadata": {
        "id": "3IywccLFSkAf",
        "colab": {
          "base_uri": "https://localhost:8080/",
          "height": 563
        },
        "outputId": "a845a494-9498-476e-e820-5cb9bda79f39"
      },
      "source": [
        "train_acc = resnet_history.history['binary_accuracy']\n",
        "val_acc = resnet_history.history['val_binary_accuracy']\n",
        "train_loss = resnet_history.history['loss']\n",
        "val_loss = resnet_history.history['val_loss']\n",
        "No_Of_Epochs = range(epochs)\n",
        "\n",
        "plt.plot(No_Of_Epochs, train_acc, marker = 'o', color = 'blue', markersize = 12, \n",
        "                 linewidth = 2, label = 'Training Accuracy')\n",
        "plt.plot(No_Of_Epochs, val_acc, marker = '.', color = 'red', markersize = 12, \n",
        "                 linewidth = 2, label = 'Validation Accuracy')\n",
        "\n",
        "plt.title('Training Accuracy and Testing Accuracy w.r.t Number of Epochs')\n",
        "\n",
        "plt.legend()\n",
        "\n",
        "plt.figure()\n",
        "\n",
        "plt.plot(No_Of_Epochs, train_loss, marker = 'o', color = 'blue', markersize = 12, \n",
        "                 linewidth = 2, label = 'Training Loss')\n",
        "plt.plot(No_Of_Epochs, val_acc, marker = '.', color = 'red', markersize = 12, \n",
        "                 linewidth = 2, label = 'Validation Loss')\n",
        "\n",
        "plt.title('Training Loss and Testing Loss w.r.t Number of Epochs')\n",
        "\n",
        "plt.legend()\n",
        "\n"
      ],
      "execution_count": 24,
      "outputs": [
        {
          "output_type": "execute_result",
          "data": {
            "text/plain": [
              "<matplotlib.legend.Legend at 0x7f83502d8d90>"
            ]
          },
          "metadata": {
            "tags": []
          },
          "execution_count": 24
        },
        {
          "output_type": "display_data",
          "data": {
            "image/png": "[encoded data removed]",
            "text/plain": [
              "<Figure size 432x288 with 1 Axes>"
            ]
          },
          "metadata": {
            "tags": [],
            "needs_background": "light"
          }
        },
        {
          "output_type": "display_data",
          "data": {
            "image/png": "[encoded data removed]",
            "text/plain": [
              "<Figure size 432x288 with 1 Axes>"
            ]
          },
          "metadata": {
            "tags": [],
            "needs_background": "light"
          }
        }
      ]
    },
    {
      "cell_type": "code",
      "metadata": {
        "id": "FNEbtIgY1ly3"
      },
      "source": [
        ""
      ],
      "execution_count": null,
      "outputs": []
    }
  ]
}
