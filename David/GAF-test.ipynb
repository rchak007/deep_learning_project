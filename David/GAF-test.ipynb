{
  "nbformat": 4,
  "nbformat_minor": 0,
  "metadata": {
    "colab": {
      "name": "GAF2.ipynb",
      "provenance": [],
      "collapsed_sections": [],
      "machine_shape": "hm",
      "authorship_tag": "ABX9TyM7CgmZp57MM+BlOVHNZmjG",
      "include_colab_link": true
    },
    "kernelspec": {
      "name": "python3",
      "display_name": "Python 3"
    },
    "language_info": {
      "name": "python"
    },
    "accelerator": "GPU"
  },
  "cells": [
    {
      "cell_type": "markdown",
      "metadata": {
        "id": "view-in-github",
        "colab_type": "text"
      },
      "source": [
        "<a href=\"https://colab.research.google.com/github/dschirmerii/fintechbootcamp-Project_2/blob/main/GAF2.ipynb\" target=\"_parent\"><img src=\"https://colab.research.google.com/assets/colab-badge.svg\" alt=\"Open In Colab\"/></a>"
      ]
    },
    {
      "cell_type": "code",
      "metadata": {
        "colab": {
          "base_uri": "https://localhost:8080/"
        },
        "id": "3spmBduuod_5",
        "outputId": "534f56ce-7b3f-446e-e1af-356305b4952a"
      },
      "source": [
        "from google.colab import drive\n",
        "drive.mount('/content/drive')"
      ],
      "execution_count": 1,
      "outputs": [
        {
          "output_type": "stream",
          "text": [
            "Mounted at /content/drive\n"
          ],
          "name": "stdout"
        }
      ]
    },
    {
      "cell_type": "code",
      "metadata": {
        "colab": {
          "base_uri": "https://localhost:8080/"
        },
        "id": "PPmij7INnzL4",
        "outputId": "b72c88a4-1c5b-4e05-c699-4f5dfd86d45f"
      },
      "source": [
        "! pip install pyts"
      ],
      "execution_count": 2,
      "outputs": [
        {
          "output_type": "stream",
          "text": [
            "Collecting pyts\n",
            "  Downloading pyts-0.11.0-py3-none-any.whl (2.5 MB)\n",
            "\u001b[K     |████████████████████████████████| 2.5 MB 5.0 MB/s \n",
            "\u001b[?25hRequirement already satisfied: numpy>=1.17.5 in /usr/local/lib/python3.7/dist-packages (from pyts) (1.19.5)\n",
            "Requirement already satisfied: scipy>=1.3.0 in /usr/local/lib/python3.7/dist-packages (from pyts) (1.4.1)\n",
            "Requirement already satisfied: scikit-learn>=0.22.1 in /usr/local/lib/python3.7/dist-packages (from pyts) (0.22.2.post1)\n",
            "Requirement already satisfied: numba>=0.48.0 in /usr/local/lib/python3.7/dist-packages (from pyts) (0.51.2)\n",
            "Requirement already satisfied: joblib>=0.12 in /usr/local/lib/python3.7/dist-packages (from pyts) (1.0.1)\n",
            "Requirement already satisfied: llvmlite<0.35,>=0.34.0.dev0 in /usr/local/lib/python3.7/dist-packages (from numba>=0.48.0->pyts) (0.34.0)\n",
            "Requirement already satisfied: setuptools in /usr/local/lib/python3.7/dist-packages (from numba>=0.48.0->pyts) (57.2.0)\n",
            "Installing collected packages: pyts\n",
            "Successfully installed pyts-0.11.0\n"
          ],
          "name": "stdout"
        }
      ]
    },
    {
      "cell_type": "code",
      "metadata": {
        "id": "v6TFYFRMl5T1"
      },
      "source": [
        "from fastai.vision import *\n",
        "from fastai.vision import ItemsList\n",
        "import numpy as np\n",
        "import matplotlib.pyplot as plt\n",
        "from pyts.image import GramianAngularField\n",
        "import pandas as pd\n",
        "# Math\n",
        "import math\n",
        "import numpy as np\n",
        "from datetime import datetime, timedelta\n",
        "import scipy"
      ],
      "execution_count": 3,
      "outputs": []
    },
    {
      "cell_type": "code",
      "metadata": {
        "id": "wcHI285Ol-UF"
      },
      "source": [
        "bs = 64\n",
        "n_classes = 3\n",
        "n_samples = 28"
      ],
      "execution_count": 4,
      "outputs": []
    },
    {
      "cell_type": "code",
      "metadata": {
        "id": "d7d4rafWl-Rh"
      },
      "source": [
        "def tabulate(x, y, f):\n",
        "    \"\"\"Return a table of f(x, y). Useful for the Gram-like operations.\"\"\"\n",
        "    return np.vectorize(f)(*np.meshgrid(x, y, sparse=True))\n",
        "def cos_sum(a, b):\n",
        "    \"\"\"To work with tabulate.\"\"\"\n",
        "    return(math.cos(a+b))\n",
        "\n",
        "class GAF:\n",
        "\n",
        "    def __init__(self):\n",
        "        pass\n",
        "    def __call__(self, serie):\n",
        "        \"\"\"Compute the Gramian Angular Field of an image\"\"\"\n",
        "        # Min-Max scaling\n",
        "        min_ = np.amin(serie)\n",
        "        max_ = np.amax(serie)\n",
        "        scaled_serie = (2*serie - max_ - min_)/(max_ - min_)\n",
        "\n",
        "        # Floating point inaccuracy!\n",
        "        scaled_serie = np.where(scaled_serie >= 1., 1., scaled_serie)\n",
        "        scaled_serie = np.where(scaled_serie <= -1., -1., scaled_serie)\n",
        "          # Polar encoding\n",
        "        phi = np.arccos(scaled_serie)\n",
        "        # Note! The computation of r is not necessary\n",
        "        r = np.linspace(0, 1, len(scaled_serie))\n",
        "\n",
        "        # GAF Computation (every term of the matrix)\n",
        "        gaf = tabulate(phi, phi, cos_sum)\n",
        "\n",
        "        return(gaf, phi, r, scaled_serie)"
      ],
      "execution_count": 5,
      "outputs": []
    },
    {
      "cell_type": "code",
      "metadata": {
        "colab": {
          "base_uri": "https://localhost:8080/"
        },
        "id": "m5Uip9Kjl-OX",
        "outputId": "80e336ec-ee87-424a-aa71-ca8a7d913334"
      },
      "source": [
        "# Toy dataset\n",
        "X = np.linspace(0,1,num=n_samples) **2\n",
        "gaf = GAF()\n",
        "g, _,_,_ = gaf(X)\n",
        "print(g.shape)"
      ],
      "execution_count": 6,
      "outputs": [
        {
          "output_type": "stream",
          "text": [
            "(28, 28)\n"
          ],
          "name": "stdout"
        }
      ]
    },
    {
      "cell_type": "code",
      "metadata": {
        "colab": {
          "base_uri": "https://localhost:8080/",
          "height": 481
        },
        "id": "zrReGqDwl-Lx",
        "outputId": "d1e41658-9c21-4f55-9a58-3d42b1c87b65"
      },
      "source": [
        "# Show the results for the first time series\n",
        "plt.figure(figsize=(16, 8))\n",
        "plt.subplot(121)\n",
        "plt.plot(X)\n",
        "plt.title(\"Original\", fontsize=16)\n",
        "plt.subplot(122)\n",
        "plt.imshow(g, cmap='rainbow', origin='lower')\n",
        "plt.title(\"GAF\", fontsize=16)"
      ],
      "execution_count": 7,
      "outputs": [
        {
          "output_type": "execute_result",
          "data": {
            "text/plain": [
              "Text(0.5, 1.0, 'GAF')"
            ]
          },
          "metadata": {
            "tags": []
          },
          "execution_count": 7
        },
        {
          "output_type": "display_data",
          "data": {
            "image/png": "[encoded data removed]",
            "text/plain": [
              "<Figure size 1152x576 with 2 Axes>"
            ]
          },
          "metadata": {
            "tags": [],
            "needs_background": "light"
          }
        }
      ]
    },
    {
      "cell_type": "code",
      "metadata": {
        "colab": {
          "base_uri": "https://localhost:8080/"
        },
        "id": "g2gK4ItNl-I5",
        "outputId": "d95378b5-7a0e-4202-94f0-3bae1d8cb49f"
      },
      "source": [
        "aapl = pd.read_csv('/content/drive/MyDrive/Project 2/data/aapl.csv', parse_dates=['Date'], index_col=[1])\n",
        "print(aapl.head().T)"
      ],
      "execution_count": 8,
      "outputs": [
        {
          "output_type": "stream",
          "text": [
            "Date          2017-01-04    2017-01-05  ...    2017-01-09    2017-01-10\n",
            "Unnamed: 0  9.094000e+03  9.095000e+03  ...  9.097000e+03  9.098000e+03\n",
            "Open        2.896250e+01  2.898000e+01  ...  2.948750e+01  2.969250e+01\n",
            "High        2.912750e+01  2.921500e+01  ...  2.985750e+01  2.984500e+01\n",
            "Low         2.893750e+01  2.895250e+01  ...  2.948500e+01  2.957500e+01\n",
            "Close       2.900500e+01  2.915250e+01  ...  2.974750e+01  2.977750e+01\n",
            "Adj Close   2.738269e+01  2.752194e+01  ...  2.808366e+01  2.811198e+01\n",
            "Volume      8.447240e+07  8.877440e+07  ...  1.342476e+08  9.784840e+07\n",
            "\n",
            "[7 rows x 5 columns]\n"
          ],
          "name": "stdout"
        }
      ]
    },
    {
      "cell_type": "code",
      "metadata": {
        "id": "gwvfd1gaGBi1"
      },
      "source": [
        "aapl.drop(columns=['Unnamed: 0'],inplace=True)"
      ],
      "execution_count": 9,
      "outputs": []
    },
    {
      "cell_type": "code",
      "metadata": {
        "colab": {
          "base_uri": "https://localhost:8080/",
          "height": 237
        },
        "id": "gNikwV85G10h",
        "outputId": "fc7531ad-1334-4f2a-b130-4376078a44cd"
      },
      "source": [
        "aapl.head()"
      ],
      "execution_count": 10,
      "outputs": [
        {
          "output_type": "execute_result",
          "data": {
            "text/html": [
              "<div>\n",
              "<style scoped>\n",
              "    .dataframe tbody tr th:only-of-type {\n",
              "        vertical-align: middle;\n",
              "    }\n",
              "\n",
              "    .dataframe tbody tr th {\n",
              "        vertical-align: top;\n",
              "    }\n",
              "\n",
              "    .dataframe thead th {\n",
              "        text-align: right;\n",
              "    }\n",
              "</style>\n",
              "<table border=\"1\" class=\"dataframe\">\n",
              "  <thead>\n",
              "    <tr style=\"text-align: right;\">\n",
              "      <th></th>\n",
              "      <th>Open</th>\n",
              "      <th>High</th>\n",
              "      <th>Low</th>\n",
              "      <th>Close</th>\n",
              "      <th>Adj Close</th>\n",
              "      <th>Volume</th>\n",
              "    </tr>\n",
              "    <tr>\n",
              "      <th>Date</th>\n",
              "      <th></th>\n",
              "      <th></th>\n",
              "      <th></th>\n",
              "      <th></th>\n",
              "      <th></th>\n",
              "      <th></th>\n",
              "    </tr>\n",
              "  </thead>\n",
              "  <tbody>\n",
              "    <tr>\n",
              "      <th>2017-01-04</th>\n",
              "      <td>28.962500</td>\n",
              "      <td>29.127501</td>\n",
              "      <td>28.937500</td>\n",
              "      <td>29.004999</td>\n",
              "      <td>27.382690</td>\n",
              "      <td>84472400</td>\n",
              "    </tr>\n",
              "    <tr>\n",
              "      <th>2017-01-05</th>\n",
              "      <td>28.980000</td>\n",
              "      <td>29.215000</td>\n",
              "      <td>28.952499</td>\n",
              "      <td>29.152500</td>\n",
              "      <td>27.521944</td>\n",
              "      <td>88774400</td>\n",
              "    </tr>\n",
              "    <tr>\n",
              "      <th>2017-01-06</th>\n",
              "      <td>29.195000</td>\n",
              "      <td>29.540001</td>\n",
              "      <td>29.117500</td>\n",
              "      <td>29.477501</td>\n",
              "      <td>27.828764</td>\n",
              "      <td>127007600</td>\n",
              "    </tr>\n",
              "    <tr>\n",
              "      <th>2017-01-09</th>\n",
              "      <td>29.487499</td>\n",
              "      <td>29.857500</td>\n",
              "      <td>29.485001</td>\n",
              "      <td>29.747499</td>\n",
              "      <td>28.083660</td>\n",
              "      <td>134247600</td>\n",
              "    </tr>\n",
              "    <tr>\n",
              "      <th>2017-01-10</th>\n",
              "      <td>29.692499</td>\n",
              "      <td>29.844999</td>\n",
              "      <td>29.575001</td>\n",
              "      <td>29.777500</td>\n",
              "      <td>28.111979</td>\n",
              "      <td>97848400</td>\n",
              "    </tr>\n",
              "  </tbody>\n",
              "</table>\n",
              "</div>"
            ],
            "text/plain": [
              "                 Open       High        Low      Close  Adj Close     Volume\n",
              "Date                                                                        \n",
              "2017-01-04  28.962500  29.127501  28.937500  29.004999  27.382690   84472400\n",
              "2017-01-05  28.980000  29.215000  28.952499  29.152500  27.521944   88774400\n",
              "2017-01-06  29.195000  29.540001  29.117500  29.477501  27.828764  127007600\n",
              "2017-01-09  29.487499  29.857500  29.485001  29.747499  28.083660  134247600\n",
              "2017-01-10  29.692499  29.844999  29.575001  29.777500  28.111979   97848400"
            ]
          },
          "metadata": {
            "tags": []
          },
          "execution_count": 10
        }
      ]
    },
    {
      "cell_type": "code",
      "metadata": {
        "colab": {
          "base_uri": "https://localhost:8080/"
        },
        "id": "9X5xBZIDl-GP",
        "outputId": "b5da94c5-2403-4730-ca0d-99ea01a1527d"
      },
      "source": [
        "aapl['Value'] = (aapl['High']+aapl['Low'])/2.0\n",
        "y = aapl['Value']\n",
        "ahead = y.shift(-1)\n",
        "new_y = 100.0*(ahead/y-1)\n",
        "y = pd.qcut(new_y, 3,labels=False).dropna().astype('int')\n",
        "print(y.head(10), aapl['Value'].head(10))"
      ],
      "execution_count": 11,
      "outputs": [
        {
          "output_type": "stream",
          "text": [
            "Date\n",
            "2017-01-04    1\n",
            "2017-01-05    2\n",
            "2017-01-06    2\n",
            "2017-01-09    1\n",
            "2017-01-10    1\n",
            "2017-01-11    0\n",
            "2017-01-12    1\n",
            "2017-01-13    1\n",
            "2017-01-17    2\n",
            "2017-01-18    0\n",
            "Name: Value, dtype: int64 Date\n",
            "2017-01-04    29.032501\n",
            "2017-01-05    29.083749\n",
            "2017-01-06    29.328750\n",
            "2017-01-09    29.671250\n",
            "2017-01-10    29.710000\n",
            "2017-01-11    29.816250\n",
            "2017-01-12    29.688750\n",
            "2017-01-13    29.803750\n",
            "2017-01-17    29.807499\n",
            "2017-01-18    30.026250\n",
            "Name: Value, dtype: float64\n"
          ],
          "name": "stdout"
        }
      ]
    },
    {
      "cell_type": "code",
      "metadata": {
        "colab": {
          "base_uri": "https://localhost:8080/"
        },
        "id": "P0EBCphb5VHe",
        "outputId": "e0071585-8c18-4d62-c2b0-48e5cee8ec4c"
      },
      "source": [
        "ls"
      ],
      "execution_count": 12,
      "outputs": [
        {
          "output_type": "stream",
          "text": [
            "\u001b[0m\u001b[01;34mdrive\u001b[0m/  \u001b[01;34msample_data\u001b[0m/\n"
          ],
          "name": "stdout"
        }
      ]
    },
    {
      "cell_type": "code",
      "metadata": {
        "colab": {
          "base_uri": "https://localhost:8080/"
        },
        "id": "XVeyudbHl-Dp",
        "outputId": "17730f09-b942-4c89-e751-a8f115ca99b2"
      },
      "source": [
        "path = Path('/content/drive/MyDrive/Project 2/data')\n",
        "print(path.ls())"
      ],
      "execution_count": 13,
      "outputs": [
        {
          "output_type": "stream",
          "text": [
            "[PosixPath('/content/drive/MyDrive/Project 2/data/aapl.csv'), PosixPath('/content/drive/MyDrive/Project 2/data/Bullish'), PosixPath('/content/drive/MyDrive/Project 2/data/Bearish'), PosixPath('/content/drive/MyDrive/Project 2/data/Neutral'), PosixPath('/content/drive/MyDrive/Project 2/data/models')]\n"
          ],
          "name": "stdout"
        }
      ]
    },
    {
      "cell_type": "code",
      "metadata": {
        "colab": {
          "base_uri": "https://localhost:8080/"
        },
        "id": "VOcyZ6zvMzDR",
        "outputId": "80282f0c-52a8-44b5-8188-4fc3d2c04651"
      },
      "source": [
        "cd /content/drive/MyDrive/Project 2/data"
      ],
      "execution_count": 14,
      "outputs": [
        {
          "output_type": "stream",
          "text": [
            "/content/drive/MyDrive/Project 2/data\n"
          ],
          "name": "stdout"
        }
      ]
    },
    {
      "cell_type": "code",
      "metadata": {
        "id": "k7HEOfzsl-Az"
      },
      "source": [
        "# import cv2\n",
        "# for i in range(n_samples, len(y)):\n",
        "#     index = y.index[i]\n",
        "#     start = y.index[i-n_samples]\n",
        "#     series = aapl[start:index].Value[:n_samples]\n",
        "#     img, _,_,_  = gaf(series.values)\n",
        "#     img = (1+img)*255/2.0\n",
        "#     img = img.astype('int').reshape(n_samples, n_samples, 1)\n",
        "    \n",
        "    \n",
        "  \n",
        "#     if y[index] == 0:\n",
        "#         file = f'./Bearish/{index.date()}.png'\n",
        "#         #print(f'Write bearish to : {file}')\n",
        "#         cv2.imwrite(file, img)\n",
        "#     elif y[index] == 1:\n",
        "#         file = f'./Neutral/{index.date()}.png'\n",
        "#         #print(f'Write neutral to : {file}')\n",
        "#         cv2.imwrite(file, img)\n",
        "#     else:\n",
        "#         file = f'./Bullish/{index.date()}.png'\n",
        "#         cv2.imwrite(file, img)"
      ],
      "execution_count": 15,
      "outputs": []
    },
    {
      "cell_type": "code",
      "metadata": {
        "id": "KPHZ0IHxl996"
      },
      "source": [
        "il=ImageList.from_folder(path)\n"
      ],
      "execution_count": 16,
      "outputs": []
    },
    {
      "cell_type": "code",
      "metadata": {
        "colab": {
          "base_uri": "https://localhost:8080/"
        },
        "id": "vYytCwx1l97S",
        "outputId": "bac93541-6a66-4699-b63c-5e13f1a6e212"
      },
      "source": [
        "il.items[0]"
      ],
      "execution_count": 17,
      "outputs": [
        {
          "output_type": "execute_result",
          "data": {
            "text/plain": [
              "PosixPath('/content/drive/MyDrive/Project 2/data/Bullish/2017-02-14.png')"
            ]
          },
          "metadata": {
            "tags": []
          },
          "execution_count": 17
        }
      ]
    },
    {
      "cell_type": "code",
      "metadata": {
        "id": "UB-j6eZ_l94k"
      },
      "source": [
        "defaults.cmap='binary'"
      ],
      "execution_count": 18,
      "outputs": []
    },
    {
      "cell_type": "code",
      "metadata": {
        "colab": {
          "base_uri": "https://localhost:8080/"
        },
        "id": "NCSoad8Il916",
        "outputId": "1d98c37a-3873-4e53-f62f-90ba6a6ae098"
      },
      "source": [
        "il"
      ],
      "execution_count": 19,
      "outputs": [
        {
          "output_type": "execute_result",
          "data": {
            "text/plain": [
              "ImageList (1123 items)\n",
              "Image (3, 28, 28),Image (3, 28, 28),Image (3, 28, 28),Image (3, 28, 28),Image (3, 28, 28)\n",
              "Path: /content/drive/MyDrive/Project 2/data"
            ]
          },
          "metadata": {
            "tags": []
          },
          "execution_count": 19
        }
      ]
    },
    {
      "cell_type": "code",
      "metadata": {
        "colab": {
          "base_uri": "https://localhost:8080/",
          "height": 194
        },
        "id": "70DgWAaKl9zC",
        "outputId": "003ee29d-be36-48dc-af32-0c9a4812d67b"
      },
      "source": [
        "il[0].show()"
      ],
      "execution_count": 20,
      "outputs": [
        {
          "output_type": "display_data",
          "data": {
            "image/png": "[encoded data removed]",
            "text/plain": [
              "<Figure size 216x216 with 1 Axes>"
            ]
          },
          "metadata": {
            "tags": [],
            "needs_background": "light"
          }
        }
      ]
    },
    {
      "cell_type": "code",
      "metadata": {
        "id": "DdzO10-Vl9wi"
      },
      "source": [
        "sd = il.split_by_rand_pct(valid_pct = 0.2)"
      ],
      "execution_count": 21,
      "outputs": []
    },
    {
      "cell_type": "code",
      "metadata": {
        "colab": {
          "base_uri": "https://localhost:8080/"
        },
        "id": "uZHlYQFHl9t0",
        "outputId": "20721a26-0d25-4b5a-b3f7-d811f8c6d60e"
      },
      "source": [
        "sd"
      ],
      "execution_count": 22,
      "outputs": [
        {
          "output_type": "execute_result",
          "data": {
            "text/plain": [
              "ItemLists;\n",
              "\n",
              "Train: ImageList (899 items)\n",
              "Image (3, 28, 28),Image (3, 28, 28),Image (3, 28, 28),Image (3, 28, 28),Image (3, 28, 28)\n",
              "Path: /content/drive/MyDrive/Project 2/data;\n",
              "\n",
              "Valid: ImageList (224 items)\n",
              "Image (3, 28, 28),Image (3, 28, 28),Image (3, 28, 28),Image (3, 28, 28),Image (3, 28, 28)\n",
              "Path: /content/drive/MyDrive/Project 2/data;\n",
              "\n",
              "Test: None"
            ]
          },
          "metadata": {
            "tags": []
          },
          "execution_count": 22
        }
      ]
    },
    {
      "cell_type": "code",
      "metadata": {
        "id": "BYC358Ovl9rb"
      },
      "source": [
        "ll = sd.label_from_folder()"
      ],
      "execution_count": 23,
      "outputs": []
    },
    {
      "cell_type": "code",
      "metadata": {
        "colab": {
          "base_uri": "https://localhost:8080/"
        },
        "id": "3EngnT0Jl9oO",
        "outputId": "29c74735-ef8e-4e10-c642-d42f72ce45f5"
      },
      "source": [
        "ll"
      ],
      "execution_count": 24,
      "outputs": [
        {
          "output_type": "execute_result",
          "data": {
            "text/plain": [
              "LabelLists;\n",
              "\n",
              "Train: LabelList (899 items)\n",
              "x: ImageList\n",
              "Image (3, 28, 28),Image (3, 28, 28),Image (3, 28, 28),Image (3, 28, 28),Image (3, 28, 28)\n",
              "y: CategoryList\n",
              "Bullish,Bullish,Bullish,Bullish,Bullish\n",
              "Path: /content/drive/MyDrive/Project 2/data;\n",
              "\n",
              "Valid: LabelList (224 items)\n",
              "x: ImageList\n",
              "Image (3, 28, 28),Image (3, 28, 28),Image (3, 28, 28),Image (3, 28, 28),Image (3, 28, 28)\n",
              "y: CategoryList\n",
              "Bullish,Neutral,Neutral,Bearish,Bearish\n",
              "Path: /content/drive/MyDrive/Project 2/data;\n",
              "\n",
              "Test: None"
            ]
          },
          "metadata": {
            "tags": []
          },
          "execution_count": 24
        }
      ]
    },
    {
      "cell_type": "code",
      "metadata": {
        "id": "YnLEyxcUl9iy"
      },
      "source": [
        "x,y = ll.train[0]"
      ],
      "execution_count": 25,
      "outputs": []
    },
    {
      "cell_type": "code",
      "metadata": {
        "id": "KofqkzZDmo84",
        "colab": {
          "base_uri": "https://localhost:8080/",
          "height": 211
        },
        "outputId": "a2aa5bfa-f038-4884-d49f-a8d0e1de4bb8"
      },
      "source": [
        "x.show()\n",
        "print(y,x.shape)"
      ],
      "execution_count": 26,
      "outputs": [
        {
          "output_type": "stream",
          "text": [
            "Bullish torch.Size([3, 28, 28])\n"
          ],
          "name": "stdout"
        },
        {
          "output_type": "display_data",
          "data": {
            "image/png": "[encoded data removed]",
            "text/plain": [
              "<Figure size 216x216 with 1 Axes>"
            ]
          },
          "metadata": {
            "tags": [],
            "needs_background": "light"
          }
        }
      ]
    },
    {
      "cell_type": "code",
      "metadata": {
        "id": "MG0WBAu6mo58"
      },
      "source": [
        "bs = 128"
      ],
      "execution_count": 27,
      "outputs": []
    },
    {
      "cell_type": "code",
      "metadata": {
        "id": "1KjqGd2wmo3R"
      },
      "source": [
        "# not using imagenet_stats because not using pretrained model\n",
        "data = ll.databunch(bs=bs).normalize()"
      ],
      "execution_count": 28,
      "outputs": []
    },
    {
      "cell_type": "code",
      "metadata": {
        "id": "_HkP0am-mo0f"
      },
      "source": [
        "x,y = data.train_ds[0]"
      ],
      "execution_count": 29,
      "outputs": []
    },
    {
      "cell_type": "code",
      "metadata": {
        "id": "kC6Hz7u-mox5",
        "colab": {
          "base_uri": "https://localhost:8080/",
          "height": 211
        },
        "outputId": "3f177ea5-870d-4725-dda6-d3bcf6e7416d"
      },
      "source": [
        "x.show()\n",
        "print(y)"
      ],
      "execution_count": 30,
      "outputs": [
        {
          "output_type": "stream",
          "text": [
            "Bullish\n"
          ],
          "name": "stdout"
        },
        {
          "output_type": "display_data",
          "data": {
            "image/png": "[encoded data removed]",
            "text/plain": [
              "<Figure size 216x216 with 1 Axes>"
            ]
          },
          "metadata": {
            "tags": [],
            "needs_background": "light"
          }
        }
      ]
    },
    {
      "cell_type": "code",
      "metadata": {
        "id": "4cyRCl6kmou4",
        "colab": {
          "base_uri": "https://localhost:8080/",
          "height": 466
        },
        "outputId": "f2372165-2309-494e-ec6c-911d8cca6a67"
      },
      "source": [
        "def _plot(i,j,ax): data.train_ds[0][0].show(ax, cmap='gray')\n",
        "plot_multi(_plot, 3, 3, figsize=(8,8))"
      ],
      "execution_count": 31,
      "outputs": [
        {
          "output_type": "display_data",
          "data": {
            "image/png": "[encoded data removed]",
            "text/plain": [
              "<Figure size 576x576 with 9 Axes>"
            ]
          },
          "metadata": {
            "tags": [],
            "needs_background": "light"
          }
        }
      ]
    },
    {
      "cell_type": "code",
      "metadata": {
        "id": "VWkgIRtEmzHN",
        "colab": {
          "base_uri": "https://localhost:8080/"
        },
        "outputId": "c17d6859-85ac-45c6-e431-657652d74264"
      },
      "source": [
        "xb,yb = data.one_batch()\n",
        "xb.shape,yb.shape"
      ],
      "execution_count": 32,
      "outputs": [
        {
          "output_type": "execute_result",
          "data": {
            "text/plain": [
              "(torch.Size([128, 3, 28, 28]), torch.Size([128]))"
            ]
          },
          "metadata": {
            "tags": []
          },
          "execution_count": 32
        }
      ]
    },
    {
      "cell_type": "code",
      "metadata": {
        "id": "twQCVf9ZmzEh",
        "colab": {
          "base_uri": "https://localhost:8080/",
          "height": 369
        },
        "outputId": "ec077220-9690-4bdb-febf-55c8eb791f36"
      },
      "source": [
        "data.show_batch(rows=3, figsize=(5,5))"
      ],
      "execution_count": 33,
      "outputs": [
        {
          "output_type": "display_data",
          "data": {
            "image/png": "[encoded data removed]",
            "text/plain": [
              "<Figure size 360x360 with 9 Axes>"
            ]
          },
          "metadata": {
            "tags": [],
            "needs_background": "light"
          }
        }
      ]
    },
    {
      "cell_type": "code",
      "metadata": {
        "id": "0aPpqP1hmzB0"
      },
      "source": [
        "#Basic CNN"
      ],
      "execution_count": 34,
      "outputs": []
    },
    {
      "cell_type": "code",
      "metadata": {
        "id": "CbgBRqt4my-v"
      },
      "source": [
        "def conv(ni,nf): return nn.Conv2d(ni, nf, kernel_size=3, stride=2, padding=1)"
      ],
      "execution_count": 35,
      "outputs": []
    },
    {
      "cell_type": "code",
      "metadata": {
        "id": "Qd-763fzmy7Q"
      },
      "source": [
        "model = nn.Sequential(\n",
        "    conv(3, 8), # 14\n",
        "    nn.BatchNorm2d(8),\n",
        "    nn.ReLU(),\n",
        "    conv(8, 16), # 7\n",
        "    nn.BatchNorm2d(16),\n",
        "    nn.ReLU(),\n",
        "    conv(16, 32), # 4\n",
        "    nn.BatchNorm2d(32),\n",
        "    nn.ReLU(),\n",
        "    conv(32, 16), # 2\n",
        "    nn.BatchNorm2d(16),\n",
        "    nn.ReLU(),\n",
        "    conv(16, n_classes), # 1\n",
        "    nn.BatchNorm2d(n_classes),\n",
        "    Flatten()     # remove (1,1) grid\n",
        ")"
      ],
      "execution_count": 39,
      "outputs": []
    },
    {
      "cell_type": "code",
      "metadata": {
        "id": "VwaKBYC0my3J"
      },
      "source": [
        "learn = Learner(data, model, loss_func = nn.CrossEntropyLoss, metrics=accuracy)"
      ],
      "execution_count": 40,
      "outputs": []
    },
    {
      "cell_type": "code",
      "metadata": {
        "id": "m0fHyNJumyxZ",
        "colab": {
          "base_uri": "https://localhost:8080/",
          "height": 763
        },
        "outputId": "726bfa70-0fb9-4478-8ded-80aaa4de7579"
      },
      "source": [
        "learn.summary()"
      ],
      "execution_count": 41,
      "outputs": [
        {
          "output_type": "execute_result",
          "data": {
            "application/vnd.google.colaboratory.intrinsic+json": {
              "type": "string"
            },
            "text/plain": [
              "Sequential\n",
              "======================================================================\n",
              "Layer (type)         Output Shape         Param #    Trainable \n",
              "======================================================================\n",
              "Conv2d               [8, 14, 14]          224        True      \n",
              "______________________________________________________________________\n",
              "BatchNorm2d          [8, 14, 14]          16         True      \n",
              "______________________________________________________________________\n",
              "ReLU                 [8, 14, 14]          0          False     \n",
              "______________________________________________________________________\n",
              "Conv2d               [16, 7, 7]           1,168      True      \n",
              "______________________________________________________________________\n",
              "BatchNorm2d          [16, 7, 7]           32         True      \n",
              "______________________________________________________________________\n",
              "ReLU                 [16, 7, 7]           0          False     \n",
              "______________________________________________________________________\n",
              "Conv2d               [32, 4, 4]           4,640      True      \n",
              "______________________________________________________________________\n",
              "BatchNorm2d          [32, 4, 4]           64         True      \n",
              "______________________________________________________________________\n",
              "ReLU                 [32, 4, 4]           0          False     \n",
              "______________________________________________________________________\n",
              "Conv2d               [16, 2, 2]           4,624      True      \n",
              "______________________________________________________________________\n",
              "BatchNorm2d          [16, 2, 2]           32         True      \n",
              "______________________________________________________________________\n",
              "ReLU                 [16, 2, 2]           0          False     \n",
              "______________________________________________________________________\n",
              "Conv2d               [3, 1, 1]            435        True      \n",
              "______________________________________________________________________\n",
              "BatchNorm2d          [3, 1, 1]            6          True      \n",
              "______________________________________________________________________\n",
              "Flatten              [3]                  0          False     \n",
              "______________________________________________________________________\n",
              "\n",
              "Total params: 11,241\n",
              "Total trainable params: 11,241\n",
              "Total non-trainable params: 0\n",
              "Optimized with 'torch.optim.adam.Adam', betas=(0.9, 0.99)\n",
              "Using true weight decay as discussed in https://www.fast.ai/2018/07/02/adam-weight-decay/ \n",
              "Loss function : CrossEntropyLoss\n",
              "======================================================================\n",
              "Callbacks functions applied "
            ]
          },
          "metadata": {
            "tags": []
          },
          "execution_count": 41
        }
      ]
    },
    {
      "cell_type": "code",
      "metadata": {
        "id": "jdI4YvpCnAF1"
      },
      "source": [
        "xb = xb.cuda()"
      ],
      "execution_count": 42,
      "outputs": []
    },
    {
      "cell_type": "code",
      "metadata": {
        "id": "byqykYPLnAC4",
        "colab": {
          "base_uri": "https://localhost:8080/"
        },
        "outputId": "52483294-1825-48d3-d19f-536baa041f4c"
      },
      "source": [
        "model(xb).shape"
      ],
      "execution_count": 43,
      "outputs": [
        {
          "output_type": "execute_result",
          "data": {
            "text/plain": [
              "torch.Size([128, 3])"
            ]
          },
          "metadata": {
            "tags": []
          },
          "execution_count": 43
        }
      ]
    },
    {
      "cell_type": "code",
      "metadata": {
        "id": "iBX4q_4nnAAU",
        "colab": {
          "base_uri": "https://localhost:8080/",
          "height": 551
        },
        "outputId": "94e90e46-930d-4708-fe9e-b68f06bc8af2"
      },
      "source": [
        "learn.lr_find(end_lr=2)"
      ],
      "execution_count": 44,
      "outputs": [
        {
          "output_type": "display_data",
          "data": {
            "text/html": [
              "\n",
              "    <div>\n",
              "        <style>\n",
              "            /* Turns off some styling */\n",
              "            progress {\n",
              "                /* gets rid of default border in Firefox and Opera. */\n",
              "                border: none;\n",
              "                /* Needs to be in here for Safari polyfill so background images work as expected. */\n",
              "                background-size: auto;\n",
              "            }\n",
              "            .progress-bar-interrupted, .progress-bar-interrupted::-webkit-progress-bar {\n",
              "                background: #F44336;\n",
              "            }\n",
              "        </style>\n",
              "      <progress value='14' class='' max='15' style='width:300px; height:20px; vertical-align: middle;'></progress>\n",
              "      93.33% [14/15 00:32<00:02]\n",
              "    </div>\n",
              "    \n",
              "<table border=\"1\" class=\"dataframe\">\n",
              "  <thead>\n",
              "    <tr style=\"text-align: left;\">\n",
              "      <th>epoch</th>\n",
              "      <th>train_loss</th>\n",
              "      <th>valid_loss</th>\n",
              "      <th>accuracy</th>\n",
              "      <th>time</th>\n",
              "    </tr>\n",
              "  </thead>\n",
              "  <tbody>\n",
              "    <tr>\n",
              "      <td>0</td>\n",
              "      <td>1.344642</td>\n",
              "      <td>#na#</td>\n",
              "      <td>00:17</td>\n",
              "    </tr>\n",
              "    <tr>\n",
              "      <td>1</td>\n",
              "      <td>1.346930</td>\n",
              "      <td>#na#</td>\n",
              "      <td>00:01</td>\n",
              "    </tr>\n",
              "    <tr>\n",
              "      <td>2</td>\n",
              "      <td>1.347575</td>\n",
              "      <td>#na#</td>\n",
              "      <td>00:01</td>\n",
              "    </tr>\n",
              "    <tr>\n",
              "      <td>3</td>\n",
              "      <td>1.347237</td>\n",
              "      <td>#na#</td>\n",
              "      <td>00:01</td>\n",
              "    </tr>\n",
              "    <tr>\n",
              "      <td>4</td>\n",
              "      <td>1.345684</td>\n",
              "      <td>#na#</td>\n",
              "      <td>00:01</td>\n",
              "    </tr>\n",
              "    <tr>\n",
              "      <td>5</td>\n",
              "      <td>1.340829</td>\n",
              "      <td>#na#</td>\n",
              "      <td>00:01</td>\n",
              "    </tr>\n",
              "    <tr>\n",
              "      <td>6</td>\n",
              "      <td>1.325988</td>\n",
              "      <td>#na#</td>\n",
              "      <td>00:01</td>\n",
              "    </tr>\n",
              "    <tr>\n",
              "      <td>7</td>\n",
              "      <td>1.291309</td>\n",
              "      <td>#na#</td>\n",
              "      <td>00:01</td>\n",
              "    </tr>\n",
              "    <tr>\n",
              "      <td>8</td>\n",
              "      <td>1.245522</td>\n",
              "      <td>#na#</td>\n",
              "      <td>00:01</td>\n",
              "    </tr>\n",
              "    <tr>\n",
              "      <td>9</td>\n",
              "      <td>1.201562</td>\n",
              "      <td>#na#</td>\n",
              "      <td>00:01</td>\n",
              "    </tr>\n",
              "    <tr>\n",
              "      <td>10</td>\n",
              "      <td>1.167073</td>\n",
              "      <td>#na#</td>\n",
              "      <td>00:01</td>\n",
              "    </tr>\n",
              "    <tr>\n",
              "      <td>11</td>\n",
              "      <td>1.148969</td>\n",
              "      <td>#na#</td>\n",
              "      <td>00:01</td>\n",
              "    </tr>\n",
              "    <tr>\n",
              "      <td>12</td>\n",
              "      <td>1.135765</td>\n",
              "      <td>#na#</td>\n",
              "      <td>00:01</td>\n",
              "    </tr>\n",
              "    <tr>\n",
              "      <td>13</td>\n",
              "      <td>1.123805</td>\n",
              "      <td>#na#</td>\n",
              "      <td>00:01</td>\n",
              "    </tr>\n",
              "  </tbody>\n",
              "</table><p>\n",
              "\n",
              "    <div>\n",
              "        <style>\n",
              "            /* Turns off some styling */\n",
              "            progress {\n",
              "                /* gets rid of default border in Firefox and Opera. */\n",
              "                border: none;\n",
              "                /* Needs to be in here for Safari polyfill so background images work as expected. */\n",
              "                background-size: auto;\n",
              "            }\n",
              "            .progress-bar-interrupted, .progress-bar-interrupted::-webkit-progress-bar {\n",
              "                background: #F44336;\n",
              "            }\n",
              "        </style>\n",
              "      <progress value='1' class='' max='7' style='width:300px; height:20px; vertical-align: middle;'></progress>\n",
              "      14.29% [1/7 00:00<00:03 1.1198]\n",
              "    </div>\n",
              "    "
            ],
            "text/plain": [
              "<IPython.core.display.HTML object>"
            ]
          },
          "metadata": {
            "tags": []
          }
        },
        {
          "output_type": "stream",
          "text": [
            "LR Finder is complete, type {learner_name}.recorder.plot() to see the graph.\n"
          ],
          "name": "stdout"
        }
      ]
    },
    {
      "cell_type": "code",
      "metadata": {
        "id": "QacBW55tm_9R",
        "colab": {
          "base_uri": "https://localhost:8080/",
          "height": 279
        },
        "outputId": "4120503a-1193-4917-959a-c589a6139295"
      },
      "source": [
        "learn.recorder.plot()"
      ],
      "execution_count": 45,
      "outputs": [
        {
          "output_type": "display_data",
          "data": {
            "image/png": "[encoded data removed]",
            "text/plain": [
              "<Figure size 432x288 with 1 Axes>"
            ]
          },
          "metadata": {
            "tags": [],
            "needs_background": "light"
          }
        }
      ]
    },
    {
      "cell_type": "code",
      "metadata": {
        "id": "njDeaIh8m_6U",
        "colab": {
          "base_uri": "https://localhost:8080/",
          "height": 143
        },
        "outputId": "2bcd452b-0a17-4fea-b963-b14838a5f407"
      },
      "source": [
        "learn.fit_one_cycle(3, max_lr=0.03)"
      ],
      "execution_count": 46,
      "outputs": [
        {
          "output_type": "display_data",
          "data": {
            "text/html": [
              "<table border=\"1\" class=\"dataframe\">\n",
              "  <thead>\n",
              "    <tr style=\"text-align: left;\">\n",
              "      <th>epoch</th>\n",
              "      <th>train_loss</th>\n",
              "      <th>valid_loss</th>\n",
              "      <th>accuracy</th>\n",
              "      <th>time</th>\n",
              "    </tr>\n",
              "  </thead>\n",
              "  <tbody>\n",
              "    <tr>\n",
              "      <td>0</td>\n",
              "      <td>1.226263</td>\n",
              "      <td>1.107959</td>\n",
              "      <td>0.316964</td>\n",
              "      <td>00:19</td>\n",
              "    </tr>\n",
              "    <tr>\n",
              "      <td>1</td>\n",
              "      <td>1.156873</td>\n",
              "      <td>1.112818</td>\n",
              "      <td>0.343750</td>\n",
              "      <td>00:01</td>\n",
              "    </tr>\n",
              "    <tr>\n",
              "      <td>2</td>\n",
              "      <td>1.125535</td>\n",
              "      <td>1.102613</td>\n",
              "      <td>0.343750</td>\n",
              "      <td>00:01</td>\n",
              "    </tr>\n",
              "  </tbody>\n",
              "</table>"
            ],
            "text/plain": [
              "<IPython.core.display.HTML object>"
            ]
          },
          "metadata": {
            "tags": []
          }
        }
      ]
    },
    {
      "cell_type": "code",
      "metadata": {
        "id": "qsmZWXZVnIgI"
      },
      "source": [
        "def conv2(ni,nf): return conv_layer(ni,nf,stride=2)"
      ],
      "execution_count": 47,
      "outputs": []
    },
    {
      "cell_type": "code",
      "metadata": {
        "id": "-WYDN0NinIdh"
      },
      "source": [
        "model = nn.Sequential(\n",
        "    conv2(3, 8),   # 14\n",
        "    conv2(8, 16),  # 7\n",
        "    conv2(16, 32), # 4\n",
        "    conv2(32, 16), # 2\n",
        "    conv2(16, n_classes), # 1\n",
        "    Flatten()      # remove (1,1) grid\n",
        ")"
      ],
      "execution_count": 48,
      "outputs": []
    },
    {
      "cell_type": "code",
      "metadata": {
        "id": "aHrIoQQunIa7"
      },
      "source": [
        "learn = Learner(data, model, loss_func = nn.CrossEntropyLoss(), metrics=accuracy)"
      ],
      "execution_count": 49,
      "outputs": []
    },
    {
      "cell_type": "code",
      "metadata": {
        "id": "wtw_6mmonIYW",
        "colab": {
          "base_uri": "https://localhost:8080/",
          "height": 363
        },
        "outputId": "7af4f2c7-5bad-4c7e-a614-25334d58feec"
      },
      "source": [
        "learn.fit_one_cycle(10, max_lr=0.03)"
      ],
      "execution_count": 50,
      "outputs": [
        {
          "output_type": "display_data",
          "data": {
            "text/html": [
              "<table border=\"1\" class=\"dataframe\">\n",
              "  <thead>\n",
              "    <tr style=\"text-align: left;\">\n",
              "      <th>epoch</th>\n",
              "      <th>train_loss</th>\n",
              "      <th>valid_loss</th>\n",
              "      <th>accuracy</th>\n",
              "      <th>time</th>\n",
              "    </tr>\n",
              "  </thead>\n",
              "  <tbody>\n",
              "    <tr>\n",
              "      <td>0</td>\n",
              "      <td>1.351334</td>\n",
              "      <td>1.132486</td>\n",
              "      <td>0.290179</td>\n",
              "      <td>00:01</td>\n",
              "    </tr>\n",
              "    <tr>\n",
              "      <td>1</td>\n",
              "      <td>1.176290</td>\n",
              "      <td>1.137299</td>\n",
              "      <td>0.303571</td>\n",
              "      <td>00:01</td>\n",
              "    </tr>\n",
              "    <tr>\n",
              "      <td>2</td>\n",
              "      <td>1.089702</td>\n",
              "      <td>1.257805</td>\n",
              "      <td>0.325893</td>\n",
              "      <td>00:01</td>\n",
              "    </tr>\n",
              "    <tr>\n",
              "      <td>3</td>\n",
              "      <td>1.023933</td>\n",
              "      <td>1.396730</td>\n",
              "      <td>0.316964</td>\n",
              "      <td>00:01</td>\n",
              "    </tr>\n",
              "    <tr>\n",
              "      <td>4</td>\n",
              "      <td>0.965055</td>\n",
              "      <td>1.360323</td>\n",
              "      <td>0.352679</td>\n",
              "      <td>00:01</td>\n",
              "    </tr>\n",
              "    <tr>\n",
              "      <td>5</td>\n",
              "      <td>0.910643</td>\n",
              "      <td>1.485433</td>\n",
              "      <td>0.334821</td>\n",
              "      <td>00:01</td>\n",
              "    </tr>\n",
              "    <tr>\n",
              "      <td>6</td>\n",
              "      <td>0.861270</td>\n",
              "      <td>1.422232</td>\n",
              "      <td>0.325893</td>\n",
              "      <td>00:01</td>\n",
              "    </tr>\n",
              "    <tr>\n",
              "      <td>7</td>\n",
              "      <td>0.800716</td>\n",
              "      <td>1.373414</td>\n",
              "      <td>0.330357</td>\n",
              "      <td>00:01</td>\n",
              "    </tr>\n",
              "    <tr>\n",
              "      <td>8</td>\n",
              "      <td>0.747782</td>\n",
              "      <td>1.369638</td>\n",
              "      <td>0.321429</td>\n",
              "      <td>00:01</td>\n",
              "    </tr>\n",
              "    <tr>\n",
              "      <td>9</td>\n",
              "      <td>0.700987</td>\n",
              "      <td>1.355411</td>\n",
              "      <td>0.316964</td>\n",
              "      <td>00:01</td>\n",
              "    </tr>\n",
              "  </tbody>\n",
              "</table>"
            ],
            "text/plain": [
              "<IPython.core.display.HTML object>"
            ]
          },
          "metadata": {
            "tags": []
          }
        }
      ]
    },
    {
      "cell_type": "code",
      "metadata": {
        "id": "p3tIIgLjnIVe"
      },
      "source": [
        "# ResNet"
      ],
      "execution_count": 52,
      "outputs": []
    },
    {
      "cell_type": "code",
      "metadata": {
        "id": "vYLv0WIwnISo"
      },
      "source": [
        "\n",
        "class ResBlock(nn.Module):\n",
        "    def __init__(self, nf):\n",
        "        super().__init__()\n",
        "        self.conv1 = conv_layer(nf,nf)\n",
        "        self.conv2 = conv_layer(nf,nf)\n",
        "        \n",
        "    def forward(self, x): return x + self.conv2(self.conv1(x))"
      ],
      "execution_count": 53,
      "outputs": []
    },
    {
      "cell_type": "code",
      "metadata": {
        "id": "wR8miHQHnUmU"
      },
      "source": [
        "model = nn.Sequential(\n",
        "    conv2(3, 8),\n",
        "    res_block(8),\n",
        "    conv2(8, 16),\n",
        "    res_block(16),\n",
        "    conv2(16, 32),\n",
        "    res_block(32),\n",
        "    conv2(32, 16),\n",
        "    res_block(16),\n",
        "    conv2(16, n_classes),\n",
        "    Flatten()\n",
        ")"
      ],
      "execution_count": 55,
      "outputs": []
    },
    {
      "cell_type": "code",
      "metadata": {
        "id": "lHXukHWCnUj3"
      },
      "source": [
        "def conv_and_res(ni,nf): return nn.Sequential(conv2(ni, nf), res_block(nf))"
      ],
      "execution_count": 56,
      "outputs": []
    },
    {
      "cell_type": "code",
      "metadata": {
        "id": "BFjnfzi3nUhE"
      },
      "source": [
        "model = nn.Sequential(\n",
        "    conv_and_res(3, 8),\n",
        "    conv_and_res(8, 16),\n",
        "    conv_and_res(16, 32),\n",
        "    conv_and_res(32, 16),\n",
        "    conv2(16, n_classes),\n",
        "    Flatten()\n",
        ")"
      ],
      "execution_count": 57,
      "outputs": []
    },
    {
      "cell_type": "code",
      "metadata": {
        "id": "72-e67xjnUeO"
      },
      "source": [
        "learn = Learner(data, model, loss_func = nn.CrossEntropyLoss(), metrics=accuracy)"
      ],
      "execution_count": 58,
      "outputs": []
    },
    {
      "cell_type": "code",
      "metadata": {
        "id": "BlAWktlenc7f",
        "colab": {
          "base_uri": "https://localhost:8080/",
          "height": 813
        },
        "outputId": "071f85ef-b6c0-483d-ef19-dd76fc5d0af5"
      },
      "source": [
        "learn.lr_find(end_lr=0.2)\n",
        "learn.recorder.plot()"
      ],
      "execution_count": 59,
      "outputs": [
        {
          "output_type": "display_data",
          "data": {
            "text/html": [
              "\n",
              "    <div>\n",
              "        <style>\n",
              "            /* Turns off some styling */\n",
              "            progress {\n",
              "                /* gets rid of default border in Firefox and Opera. */\n",
              "                border: none;\n",
              "                /* Needs to be in here for Safari polyfill so background images work as expected. */\n",
              "                background-size: auto;\n",
              "            }\n",
              "            .progress-bar-interrupted, .progress-bar-interrupted::-webkit-progress-bar {\n",
              "                background: #F44336;\n",
              "            }\n",
              "        </style>\n",
              "      <progress value='14' class='' max='15' style='width:300px; height:20px; vertical-align: middle;'></progress>\n",
              "      93.33% [14/15 00:16<00:01]\n",
              "    </div>\n",
              "    \n",
              "<table border=\"1\" class=\"dataframe\">\n",
              "  <thead>\n",
              "    <tr style=\"text-align: left;\">\n",
              "      <th>epoch</th>\n",
              "      <th>train_loss</th>\n",
              "      <th>valid_loss</th>\n",
              "      <th>accuracy</th>\n",
              "      <th>time</th>\n",
              "    </tr>\n",
              "  </thead>\n",
              "  <tbody>\n",
              "    <tr>\n",
              "      <td>0</td>\n",
              "      <td>1.391514</td>\n",
              "      <td>#na#</td>\n",
              "      <td>00:01</td>\n",
              "    </tr>\n",
              "    <tr>\n",
              "      <td>1</td>\n",
              "      <td>1.392750</td>\n",
              "      <td>#na#</td>\n",
              "      <td>00:01</td>\n",
              "    </tr>\n",
              "    <tr>\n",
              "      <td>2</td>\n",
              "      <td>1.394767</td>\n",
              "      <td>#na#</td>\n",
              "      <td>00:01</td>\n",
              "    </tr>\n",
              "    <tr>\n",
              "      <td>3</td>\n",
              "      <td>1.387067</td>\n",
              "      <td>#na#</td>\n",
              "      <td>00:01</td>\n",
              "    </tr>\n",
              "    <tr>\n",
              "      <td>4</td>\n",
              "      <td>1.389676</td>\n",
              "      <td>#na#</td>\n",
              "      <td>00:01</td>\n",
              "    </tr>\n",
              "    <tr>\n",
              "      <td>5</td>\n",
              "      <td>1.385255</td>\n",
              "      <td>#na#</td>\n",
              "      <td>00:01</td>\n",
              "    </tr>\n",
              "    <tr>\n",
              "      <td>6</td>\n",
              "      <td>1.373347</td>\n",
              "      <td>#na#</td>\n",
              "      <td>00:01</td>\n",
              "    </tr>\n",
              "    <tr>\n",
              "      <td>7</td>\n",
              "      <td>1.353949</td>\n",
              "      <td>#na#</td>\n",
              "      <td>00:01</td>\n",
              "    </tr>\n",
              "    <tr>\n",
              "      <td>8</td>\n",
              "      <td>1.306722</td>\n",
              "      <td>#na#</td>\n",
              "      <td>00:01</td>\n",
              "    </tr>\n",
              "    <tr>\n",
              "      <td>9</td>\n",
              "      <td>1.233922</td>\n",
              "      <td>#na#</td>\n",
              "      <td>00:01</td>\n",
              "    </tr>\n",
              "    <tr>\n",
              "      <td>10</td>\n",
              "      <td>1.153638</td>\n",
              "      <td>#na#</td>\n",
              "      <td>00:01</td>\n",
              "    </tr>\n",
              "    <tr>\n",
              "      <td>11</td>\n",
              "      <td>1.083726</td>\n",
              "      <td>#na#</td>\n",
              "      <td>00:01</td>\n",
              "    </tr>\n",
              "    <tr>\n",
              "      <td>12</td>\n",
              "      <td>1.060036</td>\n",
              "      <td>#na#</td>\n",
              "      <td>00:01</td>\n",
              "    </tr>\n",
              "    <tr>\n",
              "      <td>13</td>\n",
              "      <td>1.080159</td>\n",
              "      <td>#na#</td>\n",
              "      <td>00:01</td>\n",
              "    </tr>\n",
              "  </tbody>\n",
              "</table><p>\n",
              "\n",
              "    <div>\n",
              "        <style>\n",
              "            /* Turns off some styling */\n",
              "            progress {\n",
              "                /* gets rid of default border in Firefox and Opera. */\n",
              "                border: none;\n",
              "                /* Needs to be in here for Safari polyfill so background images work as expected. */\n",
              "                background-size: auto;\n",
              "            }\n",
              "            .progress-bar-interrupted, .progress-bar-interrupted::-webkit-progress-bar {\n",
              "                background: #F44336;\n",
              "            }\n",
              "        </style>\n",
              "      <progress value='1' class='' max='7' style='width:300px; height:20px; vertical-align: middle;'></progress>\n",
              "      14.29% [1/7 00:00<00:04 1.0802]\n",
              "    </div>\n",
              "    "
            ],
            "text/plain": [
              "<IPython.core.display.HTML object>"
            ]
          },
          "metadata": {
            "tags": []
          }
        },
        {
          "output_type": "stream",
          "text": [
            "LR Finder is complete, type {learner_name}.recorder.plot() to see the graph.\n"
          ],
          "name": "stdout"
        },
        {
          "output_type": "display_data",
          "data": {
            "image/png": "[encoded data removed]",
            "text/plain": [
              "<Figure size 432x288 with 1 Axes>"
            ]
          },
          "metadata": {
            "tags": [],
            "needs_background": "light"
          }
        }
      ]
    },
    {
      "cell_type": "code",
      "metadata": {
        "id": "Ewe_iZdtnc4H",
        "colab": {
          "base_uri": "https://localhost:8080/",
          "height": 1000
        },
        "outputId": "260e75af-3ea6-4691-9349-77db65ba0f53"
      },
      "source": [
        "learn.fit_one_cycle(50, max_lr=0.3)"
      ],
      "execution_count": 84,
      "outputs": [
        {
          "output_type": "display_data",
          "data": {
            "text/html": [
              "<table border=\"1\" class=\"dataframe\">\n",
              "  <thead>\n",
              "    <tr style=\"text-align: left;\">\n",
              "      <th>epoch</th>\n",
              "      <th>train_loss</th>\n",
              "      <th>valid_loss</th>\n",
              "      <th>accuracy</th>\n",
              "      <th>time</th>\n",
              "    </tr>\n",
              "  </thead>\n",
              "  <tbody>\n",
              "    <tr>\n",
              "      <td>0</td>\n",
              "      <td>0.233194</td>\n",
              "      <td>1.660783</td>\n",
              "      <td>0.392857</td>\n",
              "      <td>00:01</td>\n",
              "    </tr>\n",
              "    <tr>\n",
              "      <td>1</td>\n",
              "      <td>0.233206</td>\n",
              "      <td>1.710879</td>\n",
              "      <td>0.383929</td>\n",
              "      <td>00:01</td>\n",
              "    </tr>\n",
              "    <tr>\n",
              "      <td>2</td>\n",
              "      <td>0.244195</td>\n",
              "      <td>1.726690</td>\n",
              "      <td>0.388393</td>\n",
              "      <td>00:01</td>\n",
              "    </tr>\n",
              "    <tr>\n",
              "      <td>3</td>\n",
              "      <td>0.453257</td>\n",
              "      <td>5.415388</td>\n",
              "      <td>0.330357</td>\n",
              "      <td>00:01</td>\n",
              "    </tr>\n",
              "    <tr>\n",
              "      <td>4</td>\n",
              "      <td>0.676766</td>\n",
              "      <td>31.885237</td>\n",
              "      <td>0.321429</td>\n",
              "      <td>00:01</td>\n",
              "    </tr>\n",
              "    <tr>\n",
              "      <td>5</td>\n",
              "      <td>0.776515</td>\n",
              "      <td>12.940017</td>\n",
              "      <td>0.343750</td>\n",
              "      <td>00:01</td>\n",
              "    </tr>\n",
              "    <tr>\n",
              "      <td>6</td>\n",
              "      <td>0.845077</td>\n",
              "      <td>8.350775</td>\n",
              "      <td>0.312500</td>\n",
              "      <td>00:01</td>\n",
              "    </tr>\n",
              "    <tr>\n",
              "      <td>7</td>\n",
              "      <td>0.895290</td>\n",
              "      <td>1.646918</td>\n",
              "      <td>0.316964</td>\n",
              "      <td>00:01</td>\n",
              "    </tr>\n",
              "    <tr>\n",
              "      <td>8</td>\n",
              "      <td>0.933809</td>\n",
              "      <td>1.229337</td>\n",
              "      <td>0.321429</td>\n",
              "      <td>00:01</td>\n",
              "    </tr>\n",
              "    <tr>\n",
              "      <td>9</td>\n",
              "      <td>0.961050</td>\n",
              "      <td>1.114318</td>\n",
              "      <td>0.321429</td>\n",
              "      <td>00:01</td>\n",
              "    </tr>\n",
              "    <tr>\n",
              "      <td>10</td>\n",
              "      <td>0.982512</td>\n",
              "      <td>1.104587</td>\n",
              "      <td>0.316964</td>\n",
              "      <td>00:01</td>\n",
              "    </tr>\n",
              "    <tr>\n",
              "      <td>11</td>\n",
              "      <td>0.999761</td>\n",
              "      <td>1.097353</td>\n",
              "      <td>0.330357</td>\n",
              "      <td>00:01</td>\n",
              "    </tr>\n",
              "    <tr>\n",
              "      <td>12</td>\n",
              "      <td>1.017256</td>\n",
              "      <td>1.113153</td>\n",
              "      <td>0.325893</td>\n",
              "      <td>00:01</td>\n",
              "    </tr>\n",
              "    <tr>\n",
              "      <td>13</td>\n",
              "      <td>1.031619</td>\n",
              "      <td>1.104720</td>\n",
              "      <td>0.316964</td>\n",
              "      <td>00:01</td>\n",
              "    </tr>\n",
              "    <tr>\n",
              "      <td>14</td>\n",
              "      <td>1.041724</td>\n",
              "      <td>1.111228</td>\n",
              "      <td>0.325893</td>\n",
              "      <td>00:01</td>\n",
              "    </tr>\n",
              "    <tr>\n",
              "      <td>15</td>\n",
              "      <td>1.052938</td>\n",
              "      <td>1.565783</td>\n",
              "      <td>0.316964</td>\n",
              "      <td>00:01</td>\n",
              "    </tr>\n",
              "    <tr>\n",
              "      <td>16</td>\n",
              "      <td>1.060136</td>\n",
              "      <td>1.214351</td>\n",
              "      <td>0.303571</td>\n",
              "      <td>00:01</td>\n",
              "    </tr>\n",
              "    <tr>\n",
              "      <td>17</td>\n",
              "      <td>1.066413</td>\n",
              "      <td>1.124945</td>\n",
              "      <td>0.321429</td>\n",
              "      <td>00:01</td>\n",
              "    </tr>\n",
              "    <tr>\n",
              "      <td>18</td>\n",
              "      <td>1.071725</td>\n",
              "      <td>1.171834</td>\n",
              "      <td>0.361607</td>\n",
              "      <td>00:01</td>\n",
              "    </tr>\n",
              "    <tr>\n",
              "      <td>19</td>\n",
              "      <td>1.075442</td>\n",
              "      <td>1.116583</td>\n",
              "      <td>0.375000</td>\n",
              "      <td>00:01</td>\n",
              "    </tr>\n",
              "    <tr>\n",
              "      <td>20</td>\n",
              "      <td>1.078459</td>\n",
              "      <td>1.111079</td>\n",
              "      <td>0.325893</td>\n",
              "      <td>00:01</td>\n",
              "    </tr>\n",
              "    <tr>\n",
              "      <td>21</td>\n",
              "      <td>1.081220</td>\n",
              "      <td>1.124459</td>\n",
              "      <td>0.339286</td>\n",
              "      <td>00:01</td>\n",
              "    </tr>\n",
              "    <tr>\n",
              "      <td>22</td>\n",
              "      <td>1.083411</td>\n",
              "      <td>1.209734</td>\n",
              "      <td>0.316964</td>\n",
              "      <td>00:01</td>\n",
              "    </tr>\n",
              "    <tr>\n",
              "      <td>23</td>\n",
              "      <td>1.084887</td>\n",
              "      <td>1.150580</td>\n",
              "      <td>0.330357</td>\n",
              "      <td>00:01</td>\n",
              "    </tr>\n",
              "    <tr>\n",
              "      <td>24</td>\n",
              "      <td>1.088435</td>\n",
              "      <td>1.136781</td>\n",
              "      <td>0.325893</td>\n",
              "      <td>00:01</td>\n",
              "    </tr>\n",
              "    <tr>\n",
              "      <td>25</td>\n",
              "      <td>1.090228</td>\n",
              "      <td>1.099952</td>\n",
              "      <td>0.343750</td>\n",
              "      <td>00:01</td>\n",
              "    </tr>\n",
              "    <tr>\n",
              "      <td>26</td>\n",
              "      <td>1.090524</td>\n",
              "      <td>1.119094</td>\n",
              "      <td>0.366071</td>\n",
              "      <td>00:01</td>\n",
              "    </tr>\n",
              "    <tr>\n",
              "      <td>27</td>\n",
              "      <td>1.090870</td>\n",
              "      <td>1.097510</td>\n",
              "      <td>0.388393</td>\n",
              "      <td>00:01</td>\n",
              "    </tr>\n",
              "    <tr>\n",
              "      <td>28</td>\n",
              "      <td>1.089350</td>\n",
              "      <td>1.189765</td>\n",
              "      <td>0.361607</td>\n",
              "      <td>00:01</td>\n",
              "    </tr>\n",
              "    <tr>\n",
              "      <td>29</td>\n",
              "      <td>1.089586</td>\n",
              "      <td>1.158424</td>\n",
              "      <td>0.366071</td>\n",
              "      <td>00:01</td>\n",
              "    </tr>\n",
              "    <tr>\n",
              "      <td>30</td>\n",
              "      <td>1.089848</td>\n",
              "      <td>1.140456</td>\n",
              "      <td>0.366071</td>\n",
              "      <td>00:01</td>\n",
              "    </tr>\n",
              "    <tr>\n",
              "      <td>31</td>\n",
              "      <td>1.088979</td>\n",
              "      <td>1.140445</td>\n",
              "      <td>0.316964</td>\n",
              "      <td>00:01</td>\n",
              "    </tr>\n",
              "    <tr>\n",
              "      <td>32</td>\n",
              "      <td>1.086642</td>\n",
              "      <td>1.156958</td>\n",
              "      <td>0.361607</td>\n",
              "      <td>00:01</td>\n",
              "    </tr>\n",
              "    <tr>\n",
              "      <td>33</td>\n",
              "      <td>1.084381</td>\n",
              "      <td>1.119597</td>\n",
              "      <td>0.357143</td>\n",
              "      <td>00:01</td>\n",
              "    </tr>\n",
              "    <tr>\n",
              "      <td>34</td>\n",
              "      <td>1.077822</td>\n",
              "      <td>1.157248</td>\n",
              "      <td>0.334821</td>\n",
              "      <td>00:01</td>\n",
              "    </tr>\n",
              "    <tr>\n",
              "      <td>35</td>\n",
              "      <td>1.075062</td>\n",
              "      <td>1.131105</td>\n",
              "      <td>0.325893</td>\n",
              "      <td>00:01</td>\n",
              "    </tr>\n",
              "    <tr>\n",
              "      <td>36</td>\n",
              "      <td>1.071684</td>\n",
              "      <td>1.179122</td>\n",
              "      <td>0.357143</td>\n",
              "      <td>00:01</td>\n",
              "    </tr>\n",
              "    <tr>\n",
              "      <td>37</td>\n",
              "      <td>1.065571</td>\n",
              "      <td>1.134943</td>\n",
              "      <td>0.366071</td>\n",
              "      <td>00:01</td>\n",
              "    </tr>\n",
              "    <tr>\n",
              "      <td>38</td>\n",
              "      <td>1.056112</td>\n",
              "      <td>1.168726</td>\n",
              "      <td>0.379464</td>\n",
              "      <td>00:01</td>\n",
              "    </tr>\n",
              "    <tr>\n",
              "      <td>39</td>\n",
              "      <td>1.044469</td>\n",
              "      <td>1.210579</td>\n",
              "      <td>0.339286</td>\n",
              "      <td>00:01</td>\n",
              "    </tr>\n",
              "    <tr>\n",
              "      <td>40</td>\n",
              "      <td>1.029195</td>\n",
              "      <td>1.263601</td>\n",
              "      <td>0.366071</td>\n",
              "      <td>00:01</td>\n",
              "    </tr>\n",
              "    <tr>\n",
              "      <td>41</td>\n",
              "      <td>1.010834</td>\n",
              "      <td>1.293830</td>\n",
              "      <td>0.348214</td>\n",
              "      <td>00:01</td>\n",
              "    </tr>\n",
              "    <tr>\n",
              "      <td>42</td>\n",
              "      <td>0.987161</td>\n",
              "      <td>1.430013</td>\n",
              "      <td>0.352679</td>\n",
              "      <td>00:01</td>\n",
              "    </tr>\n",
              "    <tr>\n",
              "      <td>43</td>\n",
              "      <td>0.959925</td>\n",
              "      <td>1.436719</td>\n",
              "      <td>0.348214</td>\n",
              "      <td>00:01</td>\n",
              "    </tr>\n",
              "    <tr>\n",
              "      <td>44</td>\n",
              "      <td>0.931289</td>\n",
              "      <td>1.473129</td>\n",
              "      <td>0.325893</td>\n",
              "      <td>00:01</td>\n",
              "    </tr>\n",
              "    <tr>\n",
              "      <td>45</td>\n",
              "      <td>0.897694</td>\n",
              "      <td>1.445410</td>\n",
              "      <td>0.343750</td>\n",
              "      <td>00:01</td>\n",
              "    </tr>\n",
              "    <tr>\n",
              "      <td>46</td>\n",
              "      <td>0.862406</td>\n",
              "      <td>1.488013</td>\n",
              "      <td>0.343750</td>\n",
              "      <td>00:01</td>\n",
              "    </tr>\n",
              "    <tr>\n",
              "      <td>47</td>\n",
              "      <td>0.825012</td>\n",
              "      <td>1.502412</td>\n",
              "      <td>0.348214</td>\n",
              "      <td>00:01</td>\n",
              "    </tr>\n",
              "    <tr>\n",
              "      <td>48</td>\n",
              "      <td>0.792513</td>\n",
              "      <td>1.499873</td>\n",
              "      <td>0.325893</td>\n",
              "      <td>00:01</td>\n",
              "    </tr>\n",
              "    <tr>\n",
              "      <td>49</td>\n",
              "      <td>0.763071</td>\n",
              "      <td>1.502746</td>\n",
              "      <td>0.330357</td>\n",
              "      <td>00:01</td>\n",
              "    </tr>\n",
              "  </tbody>\n",
              "</table>"
            ],
            "text/plain": [
              "<IPython.core.display.HTML object>"
            ]
          },
          "metadata": {
            "tags": []
          }
        }
      ]
    },
    {
      "cell_type": "code",
      "metadata": {
        "id": "Wv1idYFHnc2A",
        "colab": {
          "base_uri": "https://localhost:8080/",
          "height": 1000
        },
        "outputId": "a2af5a08-b168-4cda-dc80-7a806b8d6920"
      },
      "source": [
        "learn.summary()"
      ],
      "execution_count": 74,
      "outputs": [
        {
          "output_type": "execute_result",
          "data": {
            "application/vnd.google.colaboratory.intrinsic+json": {
              "type": "string"
            },
            "text/plain": [
              "Sequential\n",
              "======================================================================\n",
              "Layer (type)         Output Shape         Param #    Trainable \n",
              "======================================================================\n",
              "Conv2d               [8, 14, 14]          216        True      \n",
              "______________________________________________________________________\n",
              "ReLU                 [8, 14, 14]          0          False     \n",
              "______________________________________________________________________\n",
              "BatchNorm2d          [8, 14, 14]          16         True      \n",
              "______________________________________________________________________\n",
              "Conv2d               [8, 14, 14]          576        True      \n",
              "______________________________________________________________________\n",
              "ReLU                 [8, 14, 14]          0          False     \n",
              "______________________________________________________________________\n",
              "BatchNorm2d          [8, 14, 14]          16         True      \n",
              "______________________________________________________________________\n",
              "Conv2d               [8, 14, 14]          576        True      \n",
              "______________________________________________________________________\n",
              "ReLU                 [8, 14, 14]          0          False     \n",
              "______________________________________________________________________\n",
              "BatchNorm2d          [8, 14, 14]          16         True      \n",
              "______________________________________________________________________\n",
              "MergeLayer           [8, 14, 14]          0          False     \n",
              "______________________________________________________________________\n",
              "Conv2d               [16, 7, 7]           1,152      True      \n",
              "______________________________________________________________________\n",
              "ReLU                 [16, 7, 7]           0          False     \n",
              "______________________________________________________________________\n",
              "BatchNorm2d          [16, 7, 7]           32         True      \n",
              "______________________________________________________________________\n",
              "Conv2d               [16, 7, 7]           2,304      True      \n",
              "______________________________________________________________________\n",
              "ReLU                 [16, 7, 7]           0          False     \n",
              "______________________________________________________________________\n",
              "BatchNorm2d          [16, 7, 7]           32         True      \n",
              "______________________________________________________________________\n",
              "Conv2d               [16, 7, 7]           2,304      True      \n",
              "______________________________________________________________________\n",
              "ReLU                 [16, 7, 7]           0          False     \n",
              "______________________________________________________________________\n",
              "BatchNorm2d          [16, 7, 7]           32         True      \n",
              "______________________________________________________________________\n",
              "MergeLayer           [16, 7, 7]           0          False     \n",
              "______________________________________________________________________\n",
              "Conv2d               [32, 4, 4]           4,608      True      \n",
              "______________________________________________________________________\n",
              "ReLU                 [32, 4, 4]           0          False     \n",
              "______________________________________________________________________\n",
              "BatchNorm2d          [32, 4, 4]           64         True      \n",
              "______________________________________________________________________\n",
              "Conv2d               [32, 4, 4]           9,216      True      \n",
              "______________________________________________________________________\n",
              "ReLU                 [32, 4, 4]           0          False     \n",
              "______________________________________________________________________\n",
              "BatchNorm2d          [32, 4, 4]           64         True      \n",
              "______________________________________________________________________\n",
              "Conv2d               [32, 4, 4]           9,216      True      \n",
              "______________________________________________________________________\n",
              "ReLU                 [32, 4, 4]           0          False     \n",
              "______________________________________________________________________\n",
              "BatchNorm2d          [32, 4, 4]           64         True      \n",
              "______________________________________________________________________\n",
              "MergeLayer           [32, 4, 4]           0          False     \n",
              "______________________________________________________________________\n",
              "Conv2d               [16, 2, 2]           4,608      True      \n",
              "______________________________________________________________________\n",
              "ReLU                 [16, 2, 2]           0          False     \n",
              "______________________________________________________________________\n",
              "BatchNorm2d          [16, 2, 2]           32         True      \n",
              "______________________________________________________________________\n",
              "Conv2d               [16, 2, 2]           2,304      True      \n",
              "______________________________________________________________________\n",
              "ReLU                 [16, 2, 2]           0          False     \n",
              "______________________________________________________________________\n",
              "BatchNorm2d          [16, 2, 2]           32         True      \n",
              "______________________________________________________________________\n",
              "Conv2d               [16, 2, 2]           2,304      True      \n",
              "______________________________________________________________________\n",
              "ReLU                 [16, 2, 2]           0          False     \n",
              "______________________________________________________________________\n",
              "BatchNorm2d          [16, 2, 2]           32         True      \n",
              "______________________________________________________________________\n",
              "MergeLayer           [16, 2, 2]           0          False     \n",
              "______________________________________________________________________\n",
              "Conv2d               [3, 1, 1]            432        True      \n",
              "______________________________________________________________________\n",
              "ReLU                 [3, 1, 1]            0          False     \n",
              "______________________________________________________________________\n",
              "BatchNorm2d          [3, 1, 1]            6          True      \n",
              "______________________________________________________________________\n",
              "Flatten              [3]                  0          False     \n",
              "______________________________________________________________________\n",
              "\n",
              "Total params: 40,254\n",
              "Total trainable params: 40,254\n",
              "Total non-trainable params: 0\n",
              "Optimized with 'torch.optim.adam.Adam', betas=(0.9, 0.99)\n",
              "Using true weight decay as discussed in https://www.fast.ai/2018/07/02/adam-weight-decay/ \n",
              "Loss function : CrossEntropyLoss\n",
              "======================================================================\n",
              "Callbacks functions applied "
            ]
          },
          "metadata": {
            "tags": []
          },
          "execution_count": 74
        }
      ]
    },
    {
      "cell_type": "code",
      "metadata": {
        "id": "WZr61fu0WrHw"
      },
      "source": [
        "#predict"
      ],
      "execution_count": null,
      "outputs": []
    },
    {
      "cell_type": "code",
      "metadata": {
        "id": "m0MhV_doncy3"
      },
      "source": [
        "arr = plt.imread('/content/drive/MyDrive/Project 2/data/Bearish/2017-02-23.png')\n",
        "img = pil2tensor(arr,dtype= np.float32)"
      ],
      "execution_count": 85,
      "outputs": []
    },
    {
      "cell_type": "code",
      "metadata": {
        "id": "Hi45uWaYXrMH"
      },
      "source": [
        "arr2= plt.imread('/content/drive/MyDrive/Project 2/data/Neutral/2017-04-20.png')\n",
        "img2 = pil2tensor(arr,dtype= np.float32)"
      ],
      "execution_count": 86,
      "outputs": []
    },
    {
      "cell_type": "code",
      "metadata": {
        "colab": {
          "base_uri": "https://localhost:8080/"
        },
        "id": "cvzp15x8Wqj-",
        "outputId": "b2dd75c2-51df-4eb4-809e-b550998299ce"
      },
      "source": [
        "learn.predict(Image(img))"
      ],
      "execution_count": 87,
      "outputs": [
        {
          "output_type": "execute_result",
          "data": {
            "text/plain": [
              "(Category tensor(0), tensor(0), tensor([0.3714, 0.3526, 0.2760]))"
            ]
          },
          "metadata": {
            "tags": []
          },
          "execution_count": 87
        }
      ]
    },
    {
      "cell_type": "code",
      "metadata": {
        "colab": {
          "base_uri": "https://localhost:8080/"
        },
        "id": "O1175cWDX8WX",
        "outputId": "7f0eb0df-0bad-45f1-d13c-8d05d88bff7e"
      },
      "source": [
        "learn.predict_(Image(img2))"
      ],
      "execution_count": 88,
      "outputs": [
        {
          "output_type": "execute_result",
          "data": {
            "text/plain": [
              "(Category tensor(0), tensor(0), tensor([0.3714, 0.3526, 0.2760]))"
            ]
          },
          "metadata": {
            "tags": []
          },
          "execution_count": 88
        }
      ]
    },
    {
      "cell_type": "code",
      "metadata": {
        "id": "L4LK8Zb5f1UQ"
      },
      "source": [
        "img_arr = data.valid_ds.x #images, whereas y is the label array\n",
        "preds = [learn.predict(i) for i in img_arr]"
      ],
      "execution_count": 91,
      "outputs": []
    },
    {
      "cell_type": "code",
      "metadata": {
        "colab": {
          "base_uri": "https://localhost:8080/"
        },
        "id": "JqpUw_IwgCm2",
        "outputId": "b34aa205-31af-4a23-e10f-ea7591f2ca84"
      },
      "source": [
        "img_arr.items"
      ],
      "execution_count": 95,
      "outputs": [
        {
          "output_type": "execute_result",
          "data": {
            "text/plain": [
              "array([PosixPath('/content/drive/MyDrive/Project 2/data/Bullish/2018-08-29.png'),\n",
              "       PosixPath('/content/drive/MyDrive/Project 2/data/Neutral/2017-11-07.png'),\n",
              "       PosixPath('/content/drive/MyDrive/Project 2/data/Neutral/2021-01-13.png'),\n",
              "       PosixPath('/content/drive/MyDrive/Project 2/data/Bearish/2021-03-05.png'), ...,\n",
              "       PosixPath('/content/drive/MyDrive/Project 2/data/Neutral/2020-01-17.png'),\n",
              "       PosixPath('/content/drive/MyDrive/Project 2/data/Bearish/2018-10-26.png'),\n",
              "       PosixPath('/content/drive/MyDrive/Project 2/data/Neutral/2018-02-20.png'),\n",
              "       PosixPath('/content/drive/MyDrive/Project 2/data/Bullish/2018-04-03.png')], dtype=object)"
            ]
          },
          "metadata": {
            "tags": []
          },
          "execution_count": 95
        }
      ]
    },
    {
      "cell_type": "code",
      "metadata": {
        "colab": {
          "base_uri": "https://localhost:8080/"
        },
        "id": "FtIGiCxQf8Aj",
        "outputId": "9d0e2a1e-b97a-41e1-e131-398717e05739"
      },
      "source": [
        "preds"
      ],
      "execution_count": 92,
      "outputs": [
        {
          "output_type": "execute_result",
          "data": {
            "text/plain": [
              "[(Category tensor(1), tensor(1), tensor([0.2268, 0.6973, 0.0760])),\n",
              " (Category tensor(0), tensor(0), tensor([0.5986, 0.2862, 0.1152])),\n",
              " (Category tensor(2), tensor(2), tensor([0.3972, 0.1946, 0.4082])),\n",
              " (Category tensor(2), tensor(2), tensor([0.4320, 0.0699, 0.4981])),\n",
              " (Category tensor(2), tensor(2), tensor([0.1388, 0.0538, 0.8074])),\n",
              " (Category tensor(1), tensor(1), tensor([0.1316, 0.8122, 0.0562])),\n",
              " (Category tensor(2), tensor(2), tensor([0.2768, 0.1403, 0.5829])),\n",
              " (Category tensor(0), tensor(0), tensor([0.4415, 0.4316, 0.1268])),\n",
              " (Category tensor(2), tensor(2), tensor([0.0739, 0.0139, 0.9122])),\n",
              " (Category tensor(0), tensor(0), tensor([0.7773, 0.0962, 0.1266])),\n",
              " (Category tensor(2), tensor(2), tensor([0.1323, 0.3263, 0.5414])),\n",
              " (Category tensor(0), tensor(0), tensor([0.7465, 0.0870, 0.1665])),\n",
              " (Category tensor(2), tensor(2), tensor([0.0160, 0.0066, 0.9774])),\n",
              " (Category tensor(1), tensor(1), tensor([0.3667, 0.4359, 0.1974])),\n",
              " (Category tensor(2), tensor(2), tensor([0.2871, 0.0733, 0.6396])),\n",
              " (Category tensor(1), tensor(1), tensor([0.1999, 0.7864, 0.0137])),\n",
              " (Category tensor(0), tensor(0), tensor([0.4696, 0.4247, 0.1057])),\n",
              " (Category tensor(1), tensor(1), tensor([0.1534, 0.8278, 0.0188])),\n",
              " (Category tensor(1), tensor(1), tensor([0.3483, 0.5187, 0.1330])),\n",
              " (Category tensor(0), tensor(0), tensor([0.4863, 0.0767, 0.4369])),\n",
              " (Category tensor(0), tensor(0), tensor([0.5835, 0.3525, 0.0640])),\n",
              " (Category tensor(0), tensor(0), tensor([0.6043, 0.2708, 0.1249])),\n",
              " (Category tensor(1), tensor(1), tensor([0.1344, 0.7382, 0.1274])),\n",
              " (Category tensor(1), tensor(1), tensor([0.1805, 0.7498, 0.0696])),\n",
              " (Category tensor(0), tensor(0), tensor([0.4845, 0.0698, 0.4456])),\n",
              " (Category tensor(1), tensor(1), tensor([0.2394, 0.6535, 0.1071])),\n",
              " (Category tensor(1), tensor(1), tensor([0.1358, 0.8448, 0.0194])),\n",
              " (Category tensor(1), tensor(1), tensor([0.2089, 0.6811, 0.1100])),\n",
              " (Category tensor(1), tensor(1), tensor([0.1353, 0.7811, 0.0836])),\n",
              " (Category tensor(0), tensor(0), tensor([0.6776, 0.1467, 0.1757])),\n",
              " (Category tensor(1), tensor(1), tensor([0.2024, 0.6441, 0.1535])),\n",
              " (Category tensor(0), tensor(0), tensor([0.3717, 0.2810, 0.3473])),\n",
              " (Category tensor(1), tensor(1), tensor([0.1304, 0.7592, 0.1104])),\n",
              " (Category tensor(0), tensor(0), tensor([0.4096, 0.1947, 0.3956])),\n",
              " (Category tensor(1), tensor(1), tensor([0.3271, 0.6206, 0.0523])),\n",
              " (Category tensor(2), tensor(2), tensor([0.3381, 0.0577, 0.6043])),\n",
              " (Category tensor(1), tensor(1), tensor([0.0452, 0.6722, 0.2826])),\n",
              " (Category tensor(0), tensor(0), tensor([0.5076, 0.3798, 0.1126])),\n",
              " (Category tensor(2), tensor(2), tensor([0.1976, 0.1058, 0.6967])),\n",
              " (Category tensor(2), tensor(2), tensor([0.4238, 0.0705, 0.5058])),\n",
              " (Category tensor(2), tensor(2), tensor([0.1004, 0.0197, 0.8799])),\n",
              " (Category tensor(0), tensor(0), tensor([0.3997, 0.2796, 0.3207])),\n",
              " (Category tensor(2), tensor(2), tensor([0.1201, 0.0182, 0.8617])),\n",
              " (Category tensor(2), tensor(2), tensor([0.0831, 0.0341, 0.8828])),\n",
              " (Category tensor(1), tensor(1), tensor([0.2089, 0.6999, 0.0912])),\n",
              " (Category tensor(1), tensor(1), tensor([0.0727, 0.8833, 0.0440])),\n",
              " (Category tensor(0), tensor(0), tensor([0.5096, 0.3901, 0.1003])),\n",
              " (Category tensor(1), tensor(1), tensor([0.2620, 0.5228, 0.2152])),\n",
              " (Category tensor(1), tensor(1), tensor([0.2364, 0.4178, 0.3457])),\n",
              " (Category tensor(0), tensor(0), tensor([0.5091, 0.3442, 0.1468])),\n",
              " (Category tensor(0), tensor(0), tensor([0.4849, 0.4203, 0.0948])),\n",
              " (Category tensor(0), tensor(0), tensor([0.4781, 0.1485, 0.3734])),\n",
              " (Category tensor(2), tensor(2), tensor([0.2024, 0.0724, 0.7251])),\n",
              " (Category tensor(2), tensor(2), tensor([0.1603, 0.0320, 0.8076])),\n",
              " (Category tensor(2), tensor(2), tensor([0.3182, 0.3129, 0.3689])),\n",
              " (Category tensor(0), tensor(0), tensor([0.7643, 0.0978, 0.1379])),\n",
              " (Category tensor(2), tensor(2), tensor([0.0637, 0.0114, 0.9249])),\n",
              " (Category tensor(0), tensor(0), tensor([0.6437, 0.0856, 0.2707])),\n",
              " (Category tensor(0), tensor(0), tensor([0.4822, 0.4822, 0.0356])),\n",
              " (Category tensor(2), tensor(2), tensor([0.3605, 0.1794, 0.4601])),\n",
              " (Category tensor(1), tensor(1), tensor([0.1492, 0.8101, 0.0407])),\n",
              " (Category tensor(0), tensor(0), tensor([0.7517, 0.1002, 0.1481])),\n",
              " (Category tensor(0), tensor(0), tensor([0.4726, 0.3475, 0.1799])),\n",
              " (Category tensor(0), tensor(0), tensor([0.5054, 0.1112, 0.3834])),\n",
              " (Category tensor(2), tensor(2), tensor([0.3742, 0.0471, 0.5787])),\n",
              " (Category tensor(0), tensor(0), tensor([0.6258, 0.2210, 0.1531])),\n",
              " (Category tensor(2), tensor(2), tensor([0.0686, 0.0141, 0.9172])),\n",
              " (Category tensor(2), tensor(2), tensor([0.3494, 0.0638, 0.5868])),\n",
              " (Category tensor(2), tensor(2), tensor([0.3182, 0.0471, 0.6347])),\n",
              " (Category tensor(2), tensor(2), tensor([0.0559, 0.0139, 0.9302])),\n",
              " (Category tensor(2), tensor(2), tensor([0.2962, 0.0476, 0.6562])),\n",
              " (Category tensor(0), tensor(0), tensor([0.5797, 0.0826, 0.3377])),\n",
              " (Category tensor(1), tensor(1), tensor([0.0735, 0.9203, 0.0062])),\n",
              " (Category tensor(1), tensor(1), tensor([0.0543, 0.9333, 0.0124])),\n",
              " (Category tensor(0), tensor(0), tensor([0.5030, 0.0869, 0.4101])),\n",
              " (Category tensor(2), tensor(2), tensor([0.3957, 0.0710, 0.5334])),\n",
              " (Category tensor(0), tensor(0), tensor([0.9370, 0.0548, 0.0082])),\n",
              " (Category tensor(0), tensor(0), tensor([0.4808, 0.2422, 0.2770])),\n",
              " (Category tensor(0), tensor(0), tensor([0.6366, 0.2190, 0.1444])),\n",
              " (Category tensor(1), tensor(1), tensor([0.4488, 0.4659, 0.0853])),\n",
              " (Category tensor(2), tensor(2), tensor([0.1477, 0.3141, 0.5382])),\n",
              " (Category tensor(2), tensor(2), tensor([0.3027, 0.0390, 0.6583])),\n",
              " (Category tensor(0), tensor(0), tensor([0.4734, 0.0538, 0.4728])),\n",
              " (Category tensor(2), tensor(2), tensor([0.2254, 0.0339, 0.7407])),\n",
              " (Category tensor(1), tensor(1), tensor([0.4010, 0.4341, 0.1650])),\n",
              " (Category tensor(2), tensor(2), tensor([0.2930, 0.0401, 0.6669])),\n",
              " (Category tensor(0), tensor(0), tensor([0.5558, 0.0742, 0.3700])),\n",
              " (Category tensor(1), tensor(1), tensor([0.2549, 0.6853, 0.0598])),\n",
              " (Category tensor(0), tensor(0), tensor([0.5872, 0.2559, 0.1568])),\n",
              " (Category tensor(2), tensor(2), tensor([0.2539, 0.0501, 0.6961])),\n",
              " (Category tensor(1), tensor(1), tensor([0.2848, 0.6406, 0.0746])),\n",
              " (Category tensor(1), tensor(1), tensor([0.4152, 0.5447, 0.0401])),\n",
              " (Category tensor(2), tensor(2), tensor([0.2995, 0.0404, 0.6602])),\n",
              " (Category tensor(2), tensor(2), tensor([0.4408, 0.1051, 0.4541])),\n",
              " (Category tensor(0), tensor(0), tensor([0.5878, 0.2611, 0.1511])),\n",
              " (Category tensor(0), tensor(0), tensor([0.4949, 0.3965, 0.1086])),\n",
              " (Category tensor(2), tensor(2), tensor([0.2809, 0.2585, 0.4607])),\n",
              " (Category tensor(1), tensor(1), tensor([0.3491, 0.5727, 0.0782])),\n",
              " (Category tensor(0), tensor(0), tensor([0.4393, 0.3725, 0.1882])),\n",
              " (Category tensor(1), tensor(1), tensor([0.2339, 0.7409, 0.0252])),\n",
              " (Category tensor(0), tensor(0), tensor([0.6322, 0.2232, 0.1446])),\n",
              " (Category tensor(1), tensor(1), tensor([0.4016, 0.5254, 0.0729])),\n",
              " (Category tensor(1), tensor(1), tensor([0.2945, 0.5745, 0.1310])),\n",
              " (Category tensor(2), tensor(2), tensor([0.2480, 0.0441, 0.7079])),\n",
              " (Category tensor(2), tensor(2), tensor([0.1177, 0.0254, 0.8570])),\n",
              " (Category tensor(2), tensor(2), tensor([0.4089, 0.1352, 0.4559])),\n",
              " (Category tensor(2), tensor(2), tensor([0.2362, 0.1623, 0.6016])),\n",
              " (Category tensor(1), tensor(1), tensor([0.0875, 0.8574, 0.0551])),\n",
              " (Category tensor(0), tensor(0), tensor([0.7644, 0.1019, 0.1337])),\n",
              " (Category tensor(0), tensor(0), tensor([0.4608, 0.3102, 0.2291])),\n",
              " (Category tensor(1), tensor(1), tensor([0.1912, 0.6659, 0.1429])),\n",
              " (Category tensor(0), tensor(0), tensor([0.5318, 0.1234, 0.3448])),\n",
              " (Category tensor(2), tensor(2), tensor([0.1736, 0.1403, 0.6861])),\n",
              " (Category tensor(1), tensor(1), tensor([0.2974, 0.6011, 0.1015])),\n",
              " (Category tensor(1), tensor(1), tensor([0.1970, 0.7267, 0.0764])),\n",
              " (Category tensor(1), tensor(1), tensor([0.3389, 0.3402, 0.3209])),\n",
              " (Category tensor(1), tensor(1), tensor([0.2813, 0.6676, 0.0511])),\n",
              " (Category tensor(0), tensor(0), tensor([0.5802, 0.0835, 0.3363])),\n",
              " (Category tensor(2), tensor(2), tensor([0.3163, 0.2406, 0.4431])),\n",
              " (Category tensor(0), tensor(0), tensor([0.7004, 0.2607, 0.0389])),\n",
              " (Category tensor(0), tensor(0), tensor([0.5455, 0.3820, 0.0725])),\n",
              " (Category tensor(2), tensor(2), tensor([0.0854, 0.0161, 0.8985])),\n",
              " (Category tensor(1), tensor(1), tensor([0.1721, 0.7769, 0.0510])),\n",
              " (Category tensor(0), tensor(0), tensor([0.6247, 0.2865, 0.0888])),\n",
              " (Category tensor(1), tensor(1), tensor([0.3238, 0.4945, 0.1817])),\n",
              " (Category tensor(1), tensor(1), tensor([0.1364, 0.8219, 0.0417])),\n",
              " (Category tensor(0), tensor(0), tensor([0.5416, 0.0858, 0.3726])),\n",
              " (Category tensor(0), tensor(0), tensor([0.6794, 0.2428, 0.0778])),\n",
              " (Category tensor(2), tensor(2), tensor([0.1989, 0.0582, 0.7429])),\n",
              " (Category tensor(1), tensor(1), tensor([0.1888, 0.7924, 0.0188])),\n",
              " (Category tensor(1), tensor(1), tensor([0.4200, 0.4220, 0.1579])),\n",
              " (Category tensor(2), tensor(2), tensor([0.2302, 0.1997, 0.5700])),\n",
              " (Category tensor(0), tensor(0), tensor([0.6043, 0.1356, 0.2601])),\n",
              " (Category tensor(0), tensor(0), tensor([0.6921, 0.1004, 0.2075])),\n",
              " (Category tensor(1), tensor(1), tensor([0.4545, 0.5042, 0.0413])),\n",
              " (Category tensor(0), tensor(0), tensor([0.4669, 0.3621, 0.1710])),\n",
              " (Category tensor(1), tensor(1), tensor([0.2334, 0.7145, 0.0521])),\n",
              " (Category tensor(2), tensor(2), tensor([0.2157, 0.2308, 0.5536])),\n",
              " (Category tensor(0), tensor(0), tensor([0.4485, 0.4214, 0.1301])),\n",
              " (Category tensor(0), tensor(0), tensor([0.7589, 0.0923, 0.1488])),\n",
              " (Category tensor(0), tensor(0), tensor([0.5763, 0.0981, 0.3256])),\n",
              " (Category tensor(1), tensor(1), tensor([0.3611, 0.5507, 0.0882])),\n",
              " (Category tensor(1), tensor(1), tensor([0.3299, 0.6283, 0.0418])),\n",
              " (Category tensor(0), tensor(0), tensor([0.5184, 0.3746, 0.1070])),\n",
              " (Category tensor(0), tensor(0), tensor([0.4733, 0.1381, 0.3886])),\n",
              " (Category tensor(0), tensor(0), tensor([0.6952, 0.1162, 0.1886])),\n",
              " (Category tensor(1), tensor(1), tensor([0.1604, 0.5294, 0.3102])),\n",
              " (Category tensor(0), tensor(0), tensor([0.6890, 0.1004, 0.2106])),\n",
              " (Category tensor(2), tensor(2), tensor([0.3482, 0.1784, 0.4735])),\n",
              " (Category tensor(1), tensor(1), tensor([0.3299, 0.5253, 0.1447])),\n",
              " (Category tensor(1), tensor(1), tensor([0.1986, 0.7744, 0.0270])),\n",
              " (Category tensor(2), tensor(2), tensor([0.2337, 0.0325, 0.7338])),\n",
              " (Category tensor(2), tensor(2), tensor([0.2311, 0.0469, 0.7220])),\n",
              " (Category tensor(0), tensor(0), tensor([0.6803, 0.0931, 0.2266])),\n",
              " (Category tensor(1), tensor(1), tensor([0.1651, 0.8080, 0.0268])),\n",
              " (Category tensor(0), tensor(0), tensor([0.7012, 0.1268, 0.1720])),\n",
              " (Category tensor(1), tensor(1), tensor([0.3876, 0.5570, 0.0554])),\n",
              " (Category tensor(1), tensor(1), tensor([0.3258, 0.4578, 0.2164])),\n",
              " (Category tensor(0), tensor(0), tensor([0.7130, 0.0862, 0.2008])),\n",
              " (Category tensor(0), tensor(0), tensor([0.5601, 0.0681, 0.3718])),\n",
              " (Category tensor(1), tensor(1), tensor([0.4349, 0.4790, 0.0861])),\n",
              " (Category tensor(2), tensor(2), tensor([0.4464, 0.0750, 0.4786])),\n",
              " (Category tensor(0), tensor(0), tensor([0.6486, 0.2628, 0.0886])),\n",
              " (Category tensor(2), tensor(2), tensor([0.4293, 0.1116, 0.4591])),\n",
              " (Category tensor(1), tensor(1), tensor([0.4201, 0.4817, 0.0982])),\n",
              " (Category tensor(2), tensor(2), tensor([0.2208, 0.1130, 0.6662])),\n",
              " (Category tensor(0), tensor(0), tensor([0.5802, 0.2307, 0.1892])),\n",
              " (Category tensor(0), tensor(0), tensor([0.7695, 0.1237, 0.1068])),\n",
              " (Category tensor(1), tensor(1), tensor([0.3159, 0.6078, 0.0763])),\n",
              " (Category tensor(1), tensor(1), tensor([0.2221, 0.7568, 0.0211])),\n",
              " (Category tensor(0), tensor(0), tensor([0.6663, 0.0721, 0.2616])),\n",
              " (Category tensor(1), tensor(1), tensor([0.3214, 0.4880, 0.1906])),\n",
              " (Category tensor(2), tensor(2), tensor([0.1487, 0.0280, 0.8233])),\n",
              " (Category tensor(0), tensor(0), tensor([0.7114, 0.1737, 0.1148])),\n",
              " (Category tensor(1), tensor(1), tensor([0.3756, 0.4813, 0.1431])),\n",
              " (Category tensor(2), tensor(2), tensor([0.1919, 0.0406, 0.7675])),\n",
              " (Category tensor(1), tensor(1), tensor([0.1682, 0.6129, 0.2189])),\n",
              " (Category tensor(0), tensor(0), tensor([0.6879, 0.2385, 0.0735])),\n",
              " (Category tensor(1), tensor(1), tensor([0.2682, 0.6970, 0.0348])),\n",
              " (Category tensor(1), tensor(1), tensor([0.2762, 0.6915, 0.0324])),\n",
              " (Category tensor(2), tensor(2), tensor([0.1135, 0.0252, 0.8613])),\n",
              " (Category tensor(2), tensor(2), tensor([0.1975, 0.0390, 0.7635])),\n",
              " (Category tensor(0), tensor(0), tensor([0.4654, 0.3008, 0.2337])),\n",
              " (Category tensor(2), tensor(2), tensor([0.4183, 0.0761, 0.5057])),\n",
              " (Category tensor(0), tensor(0), tensor([0.7979, 0.0993, 0.1028])),\n",
              " (Category tensor(0), tensor(0), tensor([0.4831, 0.4815, 0.0354])),\n",
              " (Category tensor(0), tensor(0), tensor([0.5330, 0.2357, 0.2313])),\n",
              " (Category tensor(2), tensor(2), tensor([0.2822, 0.2479, 0.4699])),\n",
              " (Category tensor(2), tensor(2), tensor([0.0280, 0.0157, 0.9563])),\n",
              " (Category tensor(1), tensor(1), tensor([0.2651, 0.6649, 0.0700])),\n",
              " (Category tensor(1), tensor(1), tensor([0.3462, 0.5735, 0.0803])),\n",
              " (Category tensor(2), tensor(2), tensor([0.4119, 0.0658, 0.5223])),\n",
              " (Category tensor(1), tensor(1), tensor([0.3780, 0.4870, 0.1351])),\n",
              " (Category tensor(0), tensor(0), tensor([0.5403, 0.2011, 0.2586])),\n",
              " (Category tensor(0), tensor(0), tensor([0.4849, 0.1176, 0.3975])),\n",
              " (Category tensor(2), tensor(2), tensor([0.3129, 0.0500, 0.6371])),\n",
              " (Category tensor(1), tensor(1), tensor([0.2314, 0.7340, 0.0346])),\n",
              " (Category tensor(2), tensor(2), tensor([0.1928, 0.0278, 0.7793])),\n",
              " (Category tensor(2), tensor(2), tensor([0.1623, 0.1762, 0.6615])),\n",
              " (Category tensor(0), tensor(0), tensor([0.8039, 0.0954, 0.1007])),\n",
              " (Category tensor(1), tensor(1), tensor([0.4337, 0.4738, 0.0924])),\n",
              " (Category tensor(1), tensor(1), tensor([0.1549, 0.8283, 0.0168])),\n",
              " (Category tensor(0), tensor(0), tensor([0.7102, 0.1020, 0.1879])),\n",
              " (Category tensor(0), tensor(0), tensor([0.6921, 0.0799, 0.2280])),\n",
              " (Category tensor(0), tensor(0), tensor([0.5874, 0.2379, 0.1747])),\n",
              " (Category tensor(0), tensor(0), tensor([0.7022, 0.1265, 0.1712])),\n",
              " (Category tensor(1), tensor(1), tensor([0.2498, 0.7288, 0.0214])),\n",
              " (Category tensor(1), tensor(1), tensor([0.3245, 0.4382, 0.2372])),\n",
              " (Category tensor(1), tensor(1), tensor([0.3921, 0.5476, 0.0603])),\n",
              " (Category tensor(1), tensor(1), tensor([0.3338, 0.5569, 0.1093])),\n",
              " (Category tensor(2), tensor(2), tensor([0.3150, 0.1240, 0.5610])),\n",
              " (Category tensor(1), tensor(1), tensor([0.1520, 0.8301, 0.0179])),\n",
              " (Category tensor(2), tensor(2), tensor([0.3630, 0.1579, 0.4791])),\n",
              " (Category tensor(0), tensor(0), tensor([0.4690, 0.4086, 0.1224])),\n",
              " (Category tensor(0), tensor(0), tensor([0.5415, 0.1078, 0.3507])),\n",
              " (Category tensor(1), tensor(1), tensor([0.2053, 0.7731, 0.0216])),\n",
              " (Category tensor(0), tensor(0), tensor([0.5310, 0.3090, 0.1600])),\n",
              " (Category tensor(1), tensor(1), tensor([0.3658, 0.5785, 0.0557])),\n",
              " (Category tensor(1), tensor(1), tensor([0.1032, 0.8865, 0.0103])),\n",
              " (Category tensor(0), tensor(0), tensor([0.5933, 0.0744, 0.3323])),\n",
              " (Category tensor(2), tensor(2), tensor([0.2168, 0.1490, 0.6342])),\n",
              " (Category tensor(2), tensor(2), tensor([0.3084, 0.0914, 0.6002])),\n",
              " (Category tensor(2), tensor(2), tensor([0.2456, 0.0459, 0.7085])),\n",
              " (Category tensor(1), tensor(1), tensor([0.0891, 0.8972, 0.0138]))]"
            ]
          },
          "metadata": {
            "tags": []
          },
          "execution_count": 92
        }
      ]
    },
    {
      "cell_type": "code",
      "metadata": {
        "colab": {
          "base_uri": "https://localhost:8080/"
        },
        "id": "x1BaDmdViDSu",
        "outputId": "bb978783-a3a2-4d56-a901-fbb5a6bafc8b"
      },
      "source": [
        "data.classes"
      ],
      "execution_count": 101,
      "outputs": [
        {
          "output_type": "execute_result",
          "data": {
            "text/plain": [
              "['Bearish', 'Bullish', 'Neutral']"
            ]
          },
          "metadata": {
            "tags": []
          },
          "execution_count": 101
        }
      ]
    },
    {
      "cell_type": "code",
      "metadata": {
        "colab": {
          "base_uri": "https://localhost:8080/"
        },
        "id": "bE-KUizNiP4w",
        "outputId": "1bec8914-e14a-4720-a8bd-37e4b86344d9"
      },
      "source": [
        "preds[:10]"
      ],
      "execution_count": 106,
      "outputs": [
        {
          "output_type": "execute_result",
          "data": {
            "text/plain": [
              "[(Category tensor(1), tensor(1), tensor([0.2268, 0.6973, 0.0760])),\n",
              " (Category tensor(0), tensor(0), tensor([0.5986, 0.2862, 0.1152])),\n",
              " (Category tensor(2), tensor(2), tensor([0.3972, 0.1946, 0.4082])),\n",
              " (Category tensor(2), tensor(2), tensor([0.4320, 0.0699, 0.4981])),\n",
              " (Category tensor(2), tensor(2), tensor([0.1388, 0.0538, 0.8074])),\n",
              " (Category tensor(1), tensor(1), tensor([0.1316, 0.8122, 0.0562])),\n",
              " (Category tensor(2), tensor(2), tensor([0.2768, 0.1403, 0.5829])),\n",
              " (Category tensor(0), tensor(0), tensor([0.4415, 0.4316, 0.1268])),\n",
              " (Category tensor(2), tensor(2), tensor([0.0739, 0.0139, 0.9122])),\n",
              " (Category tensor(0), tensor(0), tensor([0.7773, 0.0962, 0.1266]))]"
            ]
          },
          "metadata": {
            "tags": []
          },
          "execution_count": 106
        }
      ]
    },
    {
      "cell_type": "code",
      "metadata": {
        "colab": {
          "base_uri": "https://localhost:8080/",
          "height": 311
        },
        "id": "0NPMnyoxi-Kt",
        "outputId": "56083f7d-9734-4933-e915-2cae95202b8f"
      },
      "source": [
        "interp = ClassificationInterpretation.from_learner(learn)\n",
        "interp.plot_confusion_matrix()"
      ],
      "execution_count": 108,
      "outputs": [
        {
          "output_type": "display_data",
          "data": {
            "text/html": [
              ""
            ],
            "text/plain": [
              "<IPython.core.display.HTML object>"
            ]
          },
          "metadata": {
            "tags": []
          }
        },
        {
          "output_type": "display_data",
          "data": {
            "image/png": "[encoded data removed]",
            "text/plain": [
              "<Figure size 432x288 with 1 Axes>"
            ]
          },
          "metadata": {
            "tags": [],
            "needs_background": "light"
          }
        }
      ]
    },
    {
      "cell_type": "code",
      "metadata": {
        "colab": {
          "base_uri": "https://localhost:8080/",
          "height": 965
        },
        "id": "0gG_VKKYjyg8",
        "outputId": "7504ad82-ff0a-4821-94da-35f81885bc4e"
      },
      "source": [
        "learn.show_results(row=3)"
      ],
      "execution_count": 111,
      "outputs": [
        {
          "output_type": "display_data",
          "data": {
            "image/png": "[encoded data removed]",
            "text/plain": [
              "<Figure size 1440x1440 with 25 Axes>"
            ]
          },
          "metadata": {
            "tags": [],
            "needs_background": "light"
          }
        }
      ]
    },
    {
      "cell_type": "code",
      "metadata": {
        "colab": {
          "base_uri": "https://localhost:8080/",
          "height": 787
        },
        "id": "5cxW8UVxi-Gk",
        "outputId": "5d3dfc6f-2cee-4795-9b02-bc2754b13bfc"
      },
      "source": [
        "interp.plot_top_losses(5)\n",
        "plt.show()"
      ],
      "execution_count": 116,
      "outputs": [
        {
          "output_type": "display_data",
          "data": {
            "image/png": "[encoded data removed]",
            "text/plain": [
              "<Figure size 864x864 with 6 Axes>"
            ]
          },
          "metadata": {
            "tags": [],
            "needs_background": "light"
          }
        }
      ]
    },
    {
      "cell_type": "code",
      "metadata": {
        "id": "QeJAVv5SncwA"
      },
      "source": [
        "learn.export()"
      ],
      "execution_count": null,
      "outputs": []
    }
  ]
}
