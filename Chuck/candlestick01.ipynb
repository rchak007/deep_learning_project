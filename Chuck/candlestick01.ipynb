{
 "cells": [
  {
   "cell_type": "markdown",
   "metadata": {},
   "source": [
    "#### candlestick01.ipynb - this notebook creates the candlestick plot for 5 days monday - friday of the week. and saves to file. This will be later fed to Convolution Neural Network so it can learn to recognize the patterns based on Candlestick image for a week.\n",
    "#### The idea is we also feed a signal BUY/SELL which is based on next Monday Closing price. If the Monday closing price is higher than the prior friday closing price then its a BUY and if not its a SELL.\n",
    "#### Our attempt here is to see if the Convolution Neural network can learn the image and predict the signal.\n",
    "\n",
    "#### We see later that this Signal is not enough of an true indicator of a Buy/Sell so the Neural network results are not that great. Ideally if there was better correlation between image and signal we would have give the Neural network to learn and predict in better way."
   ]
  },
  {
   "cell_type": "markdown",
   "metadata": {},
   "source": [
    "##### Switch off warnings"
   ]
  },
  {
   "cell_type": "code",
   "execution_count": 1,
   "metadata": {},
   "outputs": [],
   "source": [
    "import warnings\n",
    "warnings.filterwarnings('ignore')"
   ]
  },
  {
   "cell_type": "markdown",
   "metadata": {},
   "source": [
    "##### Import necessary libraries, packages"
   ]
  },
  {
   "cell_type": "code",
   "execution_count": 45,
   "metadata": {},
   "outputs": [],
   "source": [
    "import pandas as pd\n",
    "import yfinance as yf\n",
    "import matplotlib.pyplot as plt\n",
    "import mplfinance as mpf\n",
    "import matplotlib.dates as mpl_dates\n",
    "from datetime import date, timedelta\n",
    "import calendar\n",
    "from datetime import datetime"
   ]
  },
  {
   "cell_type": "markdown",
   "metadata": {},
   "source": [
    "##### Chuck - this library will be used for plotting the candlestick"
   ]
  },
  {
   "cell_type": "code",
   "execution_count": 3,
   "metadata": {},
   "outputs": [],
   "source": [
    "from mplfinance.original_flavor import candlestick_ohlc"
   ]
  },
  {
   "cell_type": "markdown",
   "metadata": {},
   "source": [
    "### Data Loading\n",
    "\n",
    "In this activity, we will use closing prices of Apple stock to make predictions of future closing prices. \n",
    "We will use yfinance - Yahoo! Finance market data downloader to get the historical market data"
   ]
  },
  {
   "cell_type": "code",
   "execution_count": 4,
   "metadata": {},
   "outputs": [],
   "source": [
    "#set ticker\n",
    "appl=yf.Ticker(\"AAPL\")"
   ]
  },
  {
   "cell_type": "code",
   "execution_count": 5,
   "metadata": {},
   "outputs": [],
   "source": [
    "# get stock info\n",
    "appl.info\n",
    "\n",
    "# get historical market data\n",
    "hist = appl.history(period=\"max\")"
   ]
  },
  {
   "cell_type": "markdown",
   "metadata": {},
   "source": [
    "#### Gett AAPL stock for 1 year for now. Also start from Monday. \n",
    "#### We choose 1 year since we will later also get New Sentiment and other trading indicators to combine. But the News Sentiment data we had hard time to get historical data. So we wanted to keep the period consistent so we can add inputs equally for predictions.\n",
    "##### Note- Holiday will NOT trade. So that week the candle will have less candles for the week as holiday day there is no trading"
   ]
  },
  {
   "cell_type": "code",
   "execution_count": 6,
   "metadata": {},
   "outputs": [
    {
     "name": "stdout",
     "output_type": "stream",
     "text": [
      "[*********************100%***********************]  1 of 1 completed\n",
      "[*********************100%***********************]  1 of 1 completed\n"
     ]
    }
   ],
   "source": [
    "#download data\n",
    "data = yf.download(\"AAPL\",\n",
    "                   start=\"2020-07-06\", \n",
    "                   end=\"2021-07-09\",\n",
    "                   period = \"1d\"\n",
    "                  )\n",
    "\n",
    "data_test = yf.download(\"AAPL\",\n",
    "                   start=\"2021-07-12\", \n",
    "                   end=\"2021-07-30\",\n",
    "                   period = \"1d\"\n",
    "                  )"
   ]
  },
  {
   "cell_type": "markdown",
   "metadata": {},
   "source": [
    "##### Print some samples to check the data is correctly retrieved"
   ]
  },
  {
   "cell_type": "code",
   "execution_count": 7,
   "metadata": {},
   "outputs": [
    {
     "data": {
      "text/html": [
       "<div>\n",
       "<style scoped>\n",
       "    .dataframe tbody tr th:only-of-type {\n",
       "        vertical-align: middle;\n",
       "    }\n",
       "\n",
       "    .dataframe tbody tr th {\n",
       "        vertical-align: top;\n",
       "    }\n",
       "\n",
       "    .dataframe thead th {\n",
       "        text-align: right;\n",
       "    }\n",
       "</style>\n",
       "<table border=\"1\" class=\"dataframe\">\n",
       "  <thead>\n",
       "    <tr style=\"text-align: right;\">\n",
       "      <th></th>\n",
       "      <th>Open</th>\n",
       "      <th>High</th>\n",
       "      <th>Low</th>\n",
       "      <th>Close</th>\n",
       "      <th>Adj Close</th>\n",
       "      <th>Volume</th>\n",
       "    </tr>\n",
       "    <tr>\n",
       "      <th>Date</th>\n",
       "      <th></th>\n",
       "      <th></th>\n",
       "      <th></th>\n",
       "      <th></th>\n",
       "      <th></th>\n",
       "      <th></th>\n",
       "    </tr>\n",
       "  </thead>\n",
       "  <tbody>\n",
       "    <tr>\n",
       "      <th>2020-07-06</th>\n",
       "      <td>92.500000</td>\n",
       "      <td>93.945000</td>\n",
       "      <td>92.467499</td>\n",
       "      <td>93.462502</td>\n",
       "      <td>92.698074</td>\n",
       "      <td>118655600</td>\n",
       "    </tr>\n",
       "    <tr>\n",
       "      <th>2020-07-07</th>\n",
       "      <td>93.852501</td>\n",
       "      <td>94.654999</td>\n",
       "      <td>93.057503</td>\n",
       "      <td>93.172501</td>\n",
       "      <td>92.410439</td>\n",
       "      <td>112424400</td>\n",
       "    </tr>\n",
       "    <tr>\n",
       "      <th>2020-07-08</th>\n",
       "      <td>94.180000</td>\n",
       "      <td>95.375000</td>\n",
       "      <td>94.089996</td>\n",
       "      <td>95.342499</td>\n",
       "      <td>94.562691</td>\n",
       "      <td>117092000</td>\n",
       "    </tr>\n",
       "    <tr>\n",
       "      <th>2020-07-09</th>\n",
       "      <td>96.262497</td>\n",
       "      <td>96.317497</td>\n",
       "      <td>94.672501</td>\n",
       "      <td>95.752502</td>\n",
       "      <td>94.969345</td>\n",
       "      <td>125642800</td>\n",
       "    </tr>\n",
       "    <tr>\n",
       "      <th>2020-07-10</th>\n",
       "      <td>95.334999</td>\n",
       "      <td>95.980003</td>\n",
       "      <td>94.705002</td>\n",
       "      <td>95.919998</td>\n",
       "      <td>95.135475</td>\n",
       "      <td>90257200</td>\n",
       "    </tr>\n",
       "    <tr>\n",
       "      <th>2020-07-13</th>\n",
       "      <td>97.264999</td>\n",
       "      <td>99.955002</td>\n",
       "      <td>95.257500</td>\n",
       "      <td>95.477501</td>\n",
       "      <td>94.696594</td>\n",
       "      <td>191649200</td>\n",
       "    </tr>\n",
       "    <tr>\n",
       "      <th>2020-07-14</th>\n",
       "      <td>94.839996</td>\n",
       "      <td>97.254997</td>\n",
       "      <td>93.877502</td>\n",
       "      <td>97.057503</td>\n",
       "      <td>96.263672</td>\n",
       "      <td>170989200</td>\n",
       "    </tr>\n",
       "    <tr>\n",
       "      <th>2020-07-15</th>\n",
       "      <td>98.989998</td>\n",
       "      <td>99.247498</td>\n",
       "      <td>96.489998</td>\n",
       "      <td>97.724998</td>\n",
       "      <td>96.925705</td>\n",
       "      <td>153198000</td>\n",
       "    </tr>\n",
       "    <tr>\n",
       "      <th>2020-07-16</th>\n",
       "      <td>96.562500</td>\n",
       "      <td>97.404999</td>\n",
       "      <td>95.904999</td>\n",
       "      <td>96.522499</td>\n",
       "      <td>95.733040</td>\n",
       "      <td>110577600</td>\n",
       "    </tr>\n",
       "    <tr>\n",
       "      <th>2020-07-17</th>\n",
       "      <td>96.987503</td>\n",
       "      <td>97.147499</td>\n",
       "      <td>95.839996</td>\n",
       "      <td>96.327499</td>\n",
       "      <td>95.539635</td>\n",
       "      <td>92186800</td>\n",
       "    </tr>\n",
       "    <tr>\n",
       "      <th>2020-07-20</th>\n",
       "      <td>96.417503</td>\n",
       "      <td>98.500000</td>\n",
       "      <td>96.062500</td>\n",
       "      <td>98.357498</td>\n",
       "      <td>97.553032</td>\n",
       "      <td>90318000</td>\n",
       "    </tr>\n",
       "    <tr>\n",
       "      <th>2020-07-21</th>\n",
       "      <td>99.172501</td>\n",
       "      <td>99.250000</td>\n",
       "      <td>96.742500</td>\n",
       "      <td>97.000000</td>\n",
       "      <td>96.206642</td>\n",
       "      <td>103433200</td>\n",
       "    </tr>\n",
       "  </tbody>\n",
       "</table>\n",
       "</div>"
      ],
      "text/plain": [
       "                 Open       High        Low      Close  Adj Close     Volume\n",
       "Date                                                                        \n",
       "2020-07-06  92.500000  93.945000  92.467499  93.462502  92.698074  118655600\n",
       "2020-07-07  93.852501  94.654999  93.057503  93.172501  92.410439  112424400\n",
       "2020-07-08  94.180000  95.375000  94.089996  95.342499  94.562691  117092000\n",
       "2020-07-09  96.262497  96.317497  94.672501  95.752502  94.969345  125642800\n",
       "2020-07-10  95.334999  95.980003  94.705002  95.919998  95.135475   90257200\n",
       "2020-07-13  97.264999  99.955002  95.257500  95.477501  94.696594  191649200\n",
       "2020-07-14  94.839996  97.254997  93.877502  97.057503  96.263672  170989200\n",
       "2020-07-15  98.989998  99.247498  96.489998  97.724998  96.925705  153198000\n",
       "2020-07-16  96.562500  97.404999  95.904999  96.522499  95.733040  110577600\n",
       "2020-07-17  96.987503  97.147499  95.839996  96.327499  95.539635   92186800\n",
       "2020-07-20  96.417503  98.500000  96.062500  98.357498  97.553032   90318000\n",
       "2020-07-21  99.172501  99.250000  96.742500  97.000000  96.206642  103433200"
      ]
     },
     "execution_count": 7,
     "metadata": {},
     "output_type": "execute_result"
    }
   ],
   "source": [
    "data.head(12)"
   ]
  },
  {
   "cell_type": "code",
   "execution_count": 8,
   "metadata": {},
   "outputs": [
    {
     "data": {
      "text/html": [
       "<div>\n",
       "<style scoped>\n",
       "    .dataframe tbody tr th:only-of-type {\n",
       "        vertical-align: middle;\n",
       "    }\n",
       "\n",
       "    .dataframe tbody tr th {\n",
       "        vertical-align: top;\n",
       "    }\n",
       "\n",
       "    .dataframe thead th {\n",
       "        text-align: right;\n",
       "    }\n",
       "</style>\n",
       "<table border=\"1\" class=\"dataframe\">\n",
       "  <thead>\n",
       "    <tr style=\"text-align: right;\">\n",
       "      <th></th>\n",
       "      <th>Open</th>\n",
       "      <th>High</th>\n",
       "      <th>Low</th>\n",
       "      <th>Close</th>\n",
       "      <th>Adj Close</th>\n",
       "      <th>Volume</th>\n",
       "    </tr>\n",
       "    <tr>\n",
       "      <th>Date</th>\n",
       "      <th></th>\n",
       "      <th></th>\n",
       "      <th></th>\n",
       "      <th></th>\n",
       "      <th></th>\n",
       "      <th></th>\n",
       "    </tr>\n",
       "  </thead>\n",
       "  <tbody>\n",
       "    <tr>\n",
       "      <th>2021-07-01</th>\n",
       "      <td>136.600006</td>\n",
       "      <td>137.330002</td>\n",
       "      <td>135.759995</td>\n",
       "      <td>137.270004</td>\n",
       "      <td>137.064651</td>\n",
       "      <td>52485800</td>\n",
       "    </tr>\n",
       "    <tr>\n",
       "      <th>2021-07-02</th>\n",
       "      <td>137.899994</td>\n",
       "      <td>140.000000</td>\n",
       "      <td>137.750000</td>\n",
       "      <td>139.960007</td>\n",
       "      <td>139.750626</td>\n",
       "      <td>78852600</td>\n",
       "    </tr>\n",
       "    <tr>\n",
       "      <th>2021-07-06</th>\n",
       "      <td>140.070007</td>\n",
       "      <td>143.149994</td>\n",
       "      <td>140.070007</td>\n",
       "      <td>142.020004</td>\n",
       "      <td>141.807541</td>\n",
       "      <td>108181800</td>\n",
       "    </tr>\n",
       "    <tr>\n",
       "      <th>2021-07-07</th>\n",
       "      <td>143.539993</td>\n",
       "      <td>144.889999</td>\n",
       "      <td>142.660004</td>\n",
       "      <td>144.570007</td>\n",
       "      <td>144.353729</td>\n",
       "      <td>104911600</td>\n",
       "    </tr>\n",
       "    <tr>\n",
       "      <th>2021-07-08</th>\n",
       "      <td>141.580002</td>\n",
       "      <td>144.059998</td>\n",
       "      <td>140.669998</td>\n",
       "      <td>143.240005</td>\n",
       "      <td>143.025711</td>\n",
       "      <td>105575500</td>\n",
       "    </tr>\n",
       "  </tbody>\n",
       "</table>\n",
       "</div>"
      ],
      "text/plain": [
       "                  Open        High         Low       Close   Adj Close  \\\n",
       "Date                                                                     \n",
       "2021-07-01  136.600006  137.330002  135.759995  137.270004  137.064651   \n",
       "2021-07-02  137.899994  140.000000  137.750000  139.960007  139.750626   \n",
       "2021-07-06  140.070007  143.149994  140.070007  142.020004  141.807541   \n",
       "2021-07-07  143.539993  144.889999  142.660004  144.570007  144.353729   \n",
       "2021-07-08  141.580002  144.059998  140.669998  143.240005  143.025711   \n",
       "\n",
       "               Volume  \n",
       "Date                   \n",
       "2021-07-01   52485800  \n",
       "2021-07-02   78852600  \n",
       "2021-07-06  108181800  \n",
       "2021-07-07  104911600  \n",
       "2021-07-08  105575500  "
      ]
     },
     "execution_count": 8,
     "metadata": {},
     "output_type": "execute_result"
    }
   ],
   "source": [
    "data.tail()"
   ]
  },
  {
   "cell_type": "code",
   "execution_count": 9,
   "metadata": {},
   "outputs": [
    {
     "data": {
      "text/html": [
       "<div>\n",
       "<style scoped>\n",
       "    .dataframe tbody tr th:only-of-type {\n",
       "        vertical-align: middle;\n",
       "    }\n",
       "\n",
       "    .dataframe tbody tr th {\n",
       "        vertical-align: top;\n",
       "    }\n",
       "\n",
       "    .dataframe thead th {\n",
       "        text-align: right;\n",
       "    }\n",
       "</style>\n",
       "<table border=\"1\" class=\"dataframe\">\n",
       "  <thead>\n",
       "    <tr style=\"text-align: right;\">\n",
       "      <th></th>\n",
       "      <th>Open</th>\n",
       "      <th>High</th>\n",
       "      <th>Low</th>\n",
       "      <th>Close</th>\n",
       "      <th>Adj Close</th>\n",
       "      <th>Volume</th>\n",
       "    </tr>\n",
       "    <tr>\n",
       "      <th>Date</th>\n",
       "      <th></th>\n",
       "      <th></th>\n",
       "      <th></th>\n",
       "      <th></th>\n",
       "      <th></th>\n",
       "      <th></th>\n",
       "    </tr>\n",
       "  </thead>\n",
       "  <tbody>\n",
       "    <tr>\n",
       "      <th>2021-07-12</th>\n",
       "      <td>146.210007</td>\n",
       "      <td>146.320007</td>\n",
       "      <td>144.000000</td>\n",
       "      <td>144.500000</td>\n",
       "      <td>144.283829</td>\n",
       "      <td>76299700</td>\n",
       "    </tr>\n",
       "    <tr>\n",
       "      <th>2021-07-13</th>\n",
       "      <td>144.029999</td>\n",
       "      <td>147.460007</td>\n",
       "      <td>143.630005</td>\n",
       "      <td>145.639999</td>\n",
       "      <td>145.422119</td>\n",
       "      <td>100827100</td>\n",
       "    </tr>\n",
       "    <tr>\n",
       "      <th>2021-07-14</th>\n",
       "      <td>148.100006</td>\n",
       "      <td>149.570007</td>\n",
       "      <td>147.679993</td>\n",
       "      <td>149.149994</td>\n",
       "      <td>148.926865</td>\n",
       "      <td>127050800</td>\n",
       "    </tr>\n",
       "    <tr>\n",
       "      <th>2021-07-15</th>\n",
       "      <td>149.240005</td>\n",
       "      <td>150.000000</td>\n",
       "      <td>147.089996</td>\n",
       "      <td>148.479996</td>\n",
       "      <td>148.257874</td>\n",
       "      <td>106820300</td>\n",
       "    </tr>\n",
       "    <tr>\n",
       "      <th>2021-07-16</th>\n",
       "      <td>148.460007</td>\n",
       "      <td>149.759995</td>\n",
       "      <td>145.880005</td>\n",
       "      <td>146.389999</td>\n",
       "      <td>146.170990</td>\n",
       "      <td>93251400</td>\n",
       "    </tr>\n",
       "  </tbody>\n",
       "</table>\n",
       "</div>"
      ],
      "text/plain": [
       "                  Open        High         Low       Close   Adj Close  \\\n",
       "Date                                                                     \n",
       "2021-07-12  146.210007  146.320007  144.000000  144.500000  144.283829   \n",
       "2021-07-13  144.029999  147.460007  143.630005  145.639999  145.422119   \n",
       "2021-07-14  148.100006  149.570007  147.679993  149.149994  148.926865   \n",
       "2021-07-15  149.240005  150.000000  147.089996  148.479996  148.257874   \n",
       "2021-07-16  148.460007  149.759995  145.880005  146.389999  146.170990   \n",
       "\n",
       "               Volume  \n",
       "Date                   \n",
       "2021-07-12   76299700  \n",
       "2021-07-13  100827100  \n",
       "2021-07-14  127050800  \n",
       "2021-07-15  106820300  \n",
       "2021-07-16   93251400  "
      ]
     },
     "execution_count": 9,
     "metadata": {},
     "output_type": "execute_result"
    }
   ],
   "source": [
    "data_test.head()"
   ]
  },
  {
   "cell_type": "code",
   "execution_count": 10,
   "metadata": {},
   "outputs": [
    {
     "name": "stdout",
     "output_type": "stream",
     "text": [
      "<class 'pandas.core.frame.DataFrame'>\n",
      "DatetimeIndex: 255 entries, 2020-07-06 to 2021-07-08\n",
      "Data columns (total 6 columns):\n",
      "Open         255 non-null float64\n",
      "High         255 non-null float64\n",
      "Low          255 non-null float64\n",
      "Close        255 non-null float64\n",
      "Adj Close    255 non-null float64\n",
      "Volume       255 non-null int64\n",
      "dtypes: float64(5), int64(1)\n",
      "memory usage: 13.9 KB\n"
     ]
    }
   ],
   "source": [
    "data.info()"
   ]
  },
  {
   "cell_type": "markdown",
   "metadata": {},
   "source": [
    "#### Research some sample plotting images"
   ]
  },
  {
   "cell_type": "code",
   "execution_count": 11,
   "metadata": {},
   "outputs": [
    {
     "data": {
      "image/png": "[encoded data removed]",
      "text/plain": [
       "<Figure size 800x575 with 2 Axes>"
      ]
     },
     "metadata": {},
     "output_type": "display_data"
    }
   ],
   "source": [
    "#mpl finance to read the dataframe\n",
    "mpf.plot(data,type='candle')"
   ]
  },
  {
   "cell_type": "code",
   "execution_count": 12,
   "metadata": {},
   "outputs": [
    {
     "data": {
      "image/png": "[encoded data removed]",
      "text/plain": [
       "<Figure size 800x575 with 2 Axes>"
      ]
     },
     "metadata": {},
     "output_type": "display_data"
    }
   ],
   "source": [
    "#plot slices\n",
    "mpf.plot(data.iloc[0:5],type='candle')"
   ]
  },
  {
   "cell_type": "code",
   "execution_count": 13,
   "metadata": {},
   "outputs": [
    {
     "data": {
      "text/html": [
       "<div>\n",
       "<style scoped>\n",
       "    .dataframe tbody tr th:only-of-type {\n",
       "        vertical-align: middle;\n",
       "    }\n",
       "\n",
       "    .dataframe tbody tr th {\n",
       "        vertical-align: top;\n",
       "    }\n",
       "\n",
       "    .dataframe thead th {\n",
       "        text-align: right;\n",
       "    }\n",
       "</style>\n",
       "<table border=\"1\" class=\"dataframe\">\n",
       "  <thead>\n",
       "    <tr style=\"text-align: right;\">\n",
       "      <th></th>\n",
       "      <th>Open</th>\n",
       "      <th>High</th>\n",
       "      <th>Low</th>\n",
       "      <th>Close</th>\n",
       "      <th>Adj Close</th>\n",
       "      <th>Volume</th>\n",
       "    </tr>\n",
       "    <tr>\n",
       "      <th>Date</th>\n",
       "      <th></th>\n",
       "      <th></th>\n",
       "      <th></th>\n",
       "      <th></th>\n",
       "      <th></th>\n",
       "      <th></th>\n",
       "    </tr>\n",
       "  </thead>\n",
       "  <tbody>\n",
       "    <tr>\n",
       "      <th>2020-07-06</th>\n",
       "      <td>92.500000</td>\n",
       "      <td>93.945000</td>\n",
       "      <td>92.467499</td>\n",
       "      <td>93.462502</td>\n",
       "      <td>92.698074</td>\n",
       "      <td>118655600</td>\n",
       "    </tr>\n",
       "    <tr>\n",
       "      <th>2020-07-07</th>\n",
       "      <td>93.852501</td>\n",
       "      <td>94.654999</td>\n",
       "      <td>93.057503</td>\n",
       "      <td>93.172501</td>\n",
       "      <td>92.410439</td>\n",
       "      <td>112424400</td>\n",
       "    </tr>\n",
       "    <tr>\n",
       "      <th>2020-07-08</th>\n",
       "      <td>94.180000</td>\n",
       "      <td>95.375000</td>\n",
       "      <td>94.089996</td>\n",
       "      <td>95.342499</td>\n",
       "      <td>94.562691</td>\n",
       "      <td>117092000</td>\n",
       "    </tr>\n",
       "    <tr>\n",
       "      <th>2020-07-09</th>\n",
       "      <td>96.262497</td>\n",
       "      <td>96.317497</td>\n",
       "      <td>94.672501</td>\n",
       "      <td>95.752502</td>\n",
       "      <td>94.969345</td>\n",
       "      <td>125642800</td>\n",
       "    </tr>\n",
       "    <tr>\n",
       "      <th>2020-07-10</th>\n",
       "      <td>95.334999</td>\n",
       "      <td>95.980003</td>\n",
       "      <td>94.705002</td>\n",
       "      <td>95.919998</td>\n",
       "      <td>95.135475</td>\n",
       "      <td>90257200</td>\n",
       "    </tr>\n",
       "    <tr>\n",
       "      <th>2020-07-13</th>\n",
       "      <td>97.264999</td>\n",
       "      <td>99.955002</td>\n",
       "      <td>95.257500</td>\n",
       "      <td>95.477501</td>\n",
       "      <td>94.696594</td>\n",
       "      <td>191649200</td>\n",
       "    </tr>\n",
       "    <tr>\n",
       "      <th>2020-07-14</th>\n",
       "      <td>94.839996</td>\n",
       "      <td>97.254997</td>\n",
       "      <td>93.877502</td>\n",
       "      <td>97.057503</td>\n",
       "      <td>96.263672</td>\n",
       "      <td>170989200</td>\n",
       "    </tr>\n",
       "    <tr>\n",
       "      <th>2020-07-15</th>\n",
       "      <td>98.989998</td>\n",
       "      <td>99.247498</td>\n",
       "      <td>96.489998</td>\n",
       "      <td>97.724998</td>\n",
       "      <td>96.925705</td>\n",
       "      <td>153198000</td>\n",
       "    </tr>\n",
       "    <tr>\n",
       "      <th>2020-07-16</th>\n",
       "      <td>96.562500</td>\n",
       "      <td>97.404999</td>\n",
       "      <td>95.904999</td>\n",
       "      <td>96.522499</td>\n",
       "      <td>95.733040</td>\n",
       "      <td>110577600</td>\n",
       "    </tr>\n",
       "    <tr>\n",
       "      <th>2020-07-17</th>\n",
       "      <td>96.987503</td>\n",
       "      <td>97.147499</td>\n",
       "      <td>95.839996</td>\n",
       "      <td>96.327499</td>\n",
       "      <td>95.539635</td>\n",
       "      <td>92186800</td>\n",
       "    </tr>\n",
       "  </tbody>\n",
       "</table>\n",
       "</div>"
      ],
      "text/plain": [
       "                 Open       High        Low      Close  Adj Close     Volume\n",
       "Date                                                                        \n",
       "2020-07-06  92.500000  93.945000  92.467499  93.462502  92.698074  118655600\n",
       "2020-07-07  93.852501  94.654999  93.057503  93.172501  92.410439  112424400\n",
       "2020-07-08  94.180000  95.375000  94.089996  95.342499  94.562691  117092000\n",
       "2020-07-09  96.262497  96.317497  94.672501  95.752502  94.969345  125642800\n",
       "2020-07-10  95.334999  95.980003  94.705002  95.919998  95.135475   90257200\n",
       "2020-07-13  97.264999  99.955002  95.257500  95.477501  94.696594  191649200\n",
       "2020-07-14  94.839996  97.254997  93.877502  97.057503  96.263672  170989200\n",
       "2020-07-15  98.989998  99.247498  96.489998  97.724998  96.925705  153198000\n",
       "2020-07-16  96.562500  97.404999  95.904999  96.522499  95.733040  110577600\n",
       "2020-07-17  96.987503  97.147499  95.839996  96.327499  95.539635   92186800"
      ]
     },
     "execution_count": 13,
     "metadata": {},
     "output_type": "execute_result"
    }
   ],
   "source": [
    "data.iloc[0:10]"
   ]
  },
  {
   "cell_type": "code",
   "execution_count": 14,
   "metadata": {},
   "outputs": [
    {
     "data": {
      "text/plain": [
       "pandas.core.frame.DataFrame"
      ]
     },
     "execution_count": 14,
     "metadata": {},
     "output_type": "execute_result"
    }
   ],
   "source": [
    "type(data.iloc[0:5])"
   ]
  },
  {
   "cell_type": "markdown",
   "metadata": {},
   "source": [
    "#### We realize that we cannot have the X and Y axis values in the candlestick images because even they are small we dont want that to interfere in Neural network learning later"
   ]
  },
  {
   "cell_type": "markdown",
   "metadata": {},
   "source": [
    "#### We need to print the week candles w/o the price and dates. we dont want machine to read that"
   ]
  },
  {
   "cell_type": "code",
   "execution_count": 15,
   "metadata": {},
   "outputs": [],
   "source": [
    "#mpf.plot(data.loc[0:5, ['Date', 'Open', 'High', 'Low', 'Close']],type='candle')\n",
    "ohlc = data.iloc[0:5]"
   ]
  },
  {
   "cell_type": "code",
   "execution_count": 16,
   "metadata": {},
   "outputs": [],
   "source": [
    "ohlc.reset_index(inplace=True)"
   ]
  },
  {
   "cell_type": "code",
   "execution_count": 17,
   "metadata": {},
   "outputs": [],
   "source": [
    "ohlc['Date'] = pd.to_datetime(ohlc['Date'])\n",
    "ohlc['Date'] = ohlc['Date'].apply(mpl_dates.date2num)\n",
    "ohlc = ohlc.astype(float)"
   ]
  },
  {
   "cell_type": "markdown",
   "metadata": {},
   "source": [
    "#### Also test viewing the plot and saving the 5 day Candle stick pattern as a file. We just do a test before generating for a whole year"
   ]
  },
  {
   "cell_type": "code",
   "execution_count": 18,
   "metadata": {},
   "outputs": [
    {
     "data": {
      "image/png": "[encoded data removed]",
      "text/plain": [
       "<Figure size 640x480 with 1 Axes>"
      ]
     },
     "metadata": {},
     "output_type": "display_data"
    }
   ],
   "source": [
    "# Creating Subplots\n",
    "fig, ax = plt.subplots()\n",
    "plt.axis('off')\n",
    "fig.patch.set_facecolor('black')\n",
    "\n",
    "candlestick_ohlc(ax, ohlc.values, width=0.6, colorup='green', colordown='red', alpha=0.8)\n",
    "plt.savefig('red_green.png')\n",
    "plt.show()\n"
   ]
  },
  {
   "cell_type": "markdown",
   "metadata": {},
   "source": [
    "#### We need to use common index across different elements of input fro Deep learnign/ML. So since we are using 1 week data we will just use the Sunday of the ending week as INDEX. So this way other News sentiment, trading indicators like Volume, RSI or SMA20/SMA50 etc can also bring in data for the week and we have it indexed by the Sunday so we can easily concatenate them"
   ]
  },
  {
   "cell_type": "markdown",
   "metadata": {},
   "source": [
    "#### From the Stock data read - build the Sunday Index List for Training data\n",
    "##### Also validate holiday weeks that list is built correctly\n",
    "##### Note - later realized we could just used df.resample but ended up writing code for it."
   ]
  },
  {
   "cell_type": "code",
   "execution_count": 19,
   "metadata": {},
   "outputs": [
    {
     "name": "stdout",
     "output_type": "stream",
     "text": [
      "Monday 2020-07-06 00:00:00\n",
      "Sunday -  2020-07-12 00:00:00\n",
      "Monday 2020-07-13 00:00:00\n",
      "Sunday -  2020-07-19 00:00:00\n",
      "Monday 2020-07-20 00:00:00\n",
      "Sunday -  2020-07-26 00:00:00\n",
      "Monday 2020-07-27 00:00:00\n",
      "Sunday -  2020-08-02 00:00:00\n",
      "Monday 2020-08-03 00:00:00\n",
      "Sunday -  2020-08-09 00:00:00\n",
      "Monday 2020-08-10 00:00:00\n",
      "Sunday -  2020-08-16 00:00:00\n",
      "Monday 2020-08-17 00:00:00\n",
      "Sunday -  2020-08-23 00:00:00\n",
      "Monday 2020-08-24 00:00:00\n",
      "Sunday -  2020-08-30 00:00:00\n",
      "Monday 2020-08-31 00:00:00\n",
      "Sunday -  2020-09-06 00:00:00\n",
      "Tuesday 2020-09-08 00:00:00\n",
      "Sunday -  2020-09-13 00:00:00\n",
      "Monday 2020-09-14 00:00:00\n",
      "Sunday -  2020-09-20 00:00:00\n",
      "Monday 2020-09-21 00:00:00\n",
      "Sunday -  2020-09-27 00:00:00\n",
      "Monday 2020-09-28 00:00:00\n",
      "Sunday -  2020-10-04 00:00:00\n",
      "Monday 2020-10-05 00:00:00\n",
      "Sunday -  2020-10-11 00:00:00\n",
      "Monday 2020-10-12 00:00:00\n",
      "Sunday -  2020-10-18 00:00:00\n",
      "Monday 2020-10-19 00:00:00\n",
      "Sunday -  2020-10-25 00:00:00\n",
      "Monday 2020-10-26 00:00:00\n",
      "Sunday -  2020-11-01 00:00:00\n",
      "Monday 2020-11-02 00:00:00\n",
      "Sunday -  2020-11-08 00:00:00\n",
      "Monday 2020-11-09 00:00:00\n",
      "Sunday -  2020-11-15 00:00:00\n",
      "Monday 2020-11-16 00:00:00\n",
      "Sunday -  2020-11-22 00:00:00\n",
      "Monday 2020-11-23 00:00:00\n",
      "Sunday -  2020-11-29 00:00:00\n",
      "Monday 2020-11-30 00:00:00\n",
      "Sunday -  2020-12-06 00:00:00\n",
      "Monday 2020-12-07 00:00:00\n",
      "Sunday -  2020-12-13 00:00:00\n",
      "Monday 2020-12-14 00:00:00\n",
      "Sunday -  2020-12-20 00:00:00\n",
      "Monday 2020-12-21 00:00:00\n",
      "Sunday -  2020-12-27 00:00:00\n",
      "Monday 2020-12-28 00:00:00\n",
      "Sunday -  2021-01-03 00:00:00\n",
      "Monday 2021-01-04 00:00:00\n",
      "Sunday -  2021-01-10 00:00:00\n",
      "Monday 2021-01-11 00:00:00\n",
      "Sunday -  2021-01-17 00:00:00\n",
      "Tuesday 2021-01-19 00:00:00\n",
      "Sunday -  2021-01-24 00:00:00\n",
      "Monday 2021-01-25 00:00:00\n",
      "Sunday -  2021-01-31 00:00:00\n",
      "Monday 2021-02-01 00:00:00\n",
      "Sunday -  2021-02-07 00:00:00\n",
      "Monday 2021-02-08 00:00:00\n",
      "Sunday -  2021-02-14 00:00:00\n",
      "Tuesday 2021-02-16 00:00:00\n",
      "Sunday -  2021-02-21 00:00:00\n",
      "Monday 2021-02-22 00:00:00\n",
      "Sunday -  2021-02-28 00:00:00\n",
      "Monday 2021-03-01 00:00:00\n",
      "Sunday -  2021-03-07 00:00:00\n",
      "Monday 2021-03-08 00:00:00\n",
      "Sunday -  2021-03-14 00:00:00\n",
      "Monday 2021-03-15 00:00:00\n",
      "Sunday -  2021-03-21 00:00:00\n",
      "Monday 2021-03-22 00:00:00\n",
      "Sunday -  2021-03-28 00:00:00\n",
      "Monday 2021-03-29 00:00:00\n",
      "Sunday -  2021-04-04 00:00:00\n",
      "Monday 2021-04-05 00:00:00\n",
      "Sunday -  2021-04-11 00:00:00\n",
      "Monday 2021-04-12 00:00:00\n",
      "Sunday -  2021-04-18 00:00:00\n",
      "Monday 2021-04-19 00:00:00\n",
      "Sunday -  2021-04-25 00:00:00\n",
      "Monday 2021-04-26 00:00:00\n",
      "Sunday -  2021-05-02 00:00:00\n",
      "Monday 2021-05-03 00:00:00\n",
      "Sunday -  2021-05-09 00:00:00\n",
      "Monday 2021-05-10 00:00:00\n",
      "Sunday -  2021-05-16 00:00:00\n",
      "Monday 2021-05-17 00:00:00\n",
      "Sunday -  2021-05-23 00:00:00\n",
      "Monday 2021-05-24 00:00:00\n",
      "Sunday -  2021-05-30 00:00:00\n",
      "Tuesday 2021-06-01 00:00:00\n",
      "Sunday -  2021-06-06 00:00:00\n",
      "Monday 2021-06-07 00:00:00\n",
      "Sunday -  2021-06-13 00:00:00\n",
      "Monday 2021-06-14 00:00:00\n",
      "Sunday -  2021-06-20 00:00:00\n",
      "Monday 2021-06-21 00:00:00\n",
      "Sunday -  2021-06-27 00:00:00\n",
      "Monday 2021-06-28 00:00:00\n",
      "Sunday -  2021-07-04 00:00:00\n",
      "Tuesday 2021-07-06 00:00:00\n",
      "Sunday -  2021-07-11 00:00:00\n"
     ]
    }
   ],
   "source": [
    "#s = pd.date_range('2016-12-31', '2017-01-08', freq='D').to_series()\n",
    "#s.dt.dayofweek\n",
    "# EndDate = date.today() + timedelta(days=10)\n",
    "cnt=1\n",
    "sunday_list= []\n",
    "week_started = 0\n",
    "for index, row in data.iterrows():\n",
    "#    if index.dt.dayofweek == 1:\n",
    "#        week_started=1\n",
    "        #print(index, ' Monday')\n",
    "    if calendar.day_name[index.weekday()] == 'Monday':\n",
    "        print(calendar.day_name[index.weekday()], index)\n",
    "        week_started=1\n",
    "        # calculate the Sunday\n",
    "        sunday = index + timedelta(days=6)\n",
    "        sunday_list.append(sunday)\n",
    "        print('Sunday - ', sunday)\n",
    "    elif calendar.day_name[index.weekday()] == 'Tuesday':\n",
    "        if week_started==1:\n",
    "            week_started=0\n",
    "        else:\n",
    "            week_start=1\n",
    "            print(calendar.day_name[index.weekday()], index)\n",
    "            sunday = index + timedelta(days=5)\n",
    "            sunday_list.append(sunday)\n",
    "            print('Sunday - ', sunday)\n",
    "#    else:\n",
    "#        if week_started == 1:\n",
    "#            week_started=0\n",
    "#        sunday_list.append(index+2)\n",
    "    "
   ]
  },
  {
   "cell_type": "markdown",
   "metadata": {},
   "source": [
    "#### Build the Sunday index List for Testing data"
   ]
  },
  {
   "cell_type": "code",
   "execution_count": 20,
   "metadata": {},
   "outputs": [],
   "source": [
    "#s = pd.date_range('2016-12-31', '2017-01-08', freq='D').to_series()\n",
    "#s.dt.dayofweek\n",
    "# EndDate = date.today() + timedelta(days=10)\n",
    "cnt=1\n",
    "sunday_test_list= []\n",
    "week_started = 0\n",
    "for index, row in data_test.iterrows():\n",
    "#    if index.dt.dayofweek == 1:\n",
    "#        week_started=1\n",
    "        #print(index, ' Monday')\n",
    "    if calendar.day_name[index.weekday()] == 'Monday':\n",
    "        #print(calendar.day_name[index.weekday()], index)\n",
    "        week_started=1\n",
    "        # calculate the Sunday\n",
    "        sunday = index + timedelta(days=6)\n",
    "        sunday_test_list.append(sunday)\n",
    "        #print('Sunday - ', sunday)\n",
    "    elif calendar.day_name[index.weekday()] == 'Tuesday':\n",
    "        if week_started==1:\n",
    "            week_started=0\n",
    "        else:\n",
    "            week_start=1\n",
    "            print(calendar.day_name[index.weekday()], index)\n",
    "            sunday = index + timedelta(days=5)\n",
    "            sunday_test_list.append(sunday)\n",
    "            #print('Sunday - ', sunday)"
   ]
  },
  {
   "cell_type": "markdown",
   "metadata": {},
   "source": [
    "##### Print the Sunday list to validate"
   ]
  },
  {
   "cell_type": "code",
   "execution_count": 21,
   "metadata": {},
   "outputs": [
    {
     "data": {
      "text/plain": [
       "[Timestamp('2020-07-12 00:00:00'),\n",
       " Timestamp('2020-07-19 00:00:00'),\n",
       " Timestamp('2020-07-26 00:00:00'),\n",
       " Timestamp('2020-08-02 00:00:00'),\n",
       " Timestamp('2020-08-09 00:00:00'),\n",
       " Timestamp('2020-08-16 00:00:00'),\n",
       " Timestamp('2020-08-23 00:00:00'),\n",
       " Timestamp('2020-08-30 00:00:00'),\n",
       " Timestamp('2020-09-06 00:00:00'),\n",
       " Timestamp('2020-09-13 00:00:00'),\n",
       " Timestamp('2020-09-20 00:00:00'),\n",
       " Timestamp('2020-09-27 00:00:00'),\n",
       " Timestamp('2020-10-04 00:00:00'),\n",
       " Timestamp('2020-10-11 00:00:00'),\n",
       " Timestamp('2020-10-18 00:00:00'),\n",
       " Timestamp('2020-10-25 00:00:00'),\n",
       " Timestamp('2020-11-01 00:00:00'),\n",
       " Timestamp('2020-11-08 00:00:00'),\n",
       " Timestamp('2020-11-15 00:00:00'),\n",
       " Timestamp('2020-11-22 00:00:00'),\n",
       " Timestamp('2020-11-29 00:00:00'),\n",
       " Timestamp('2020-12-06 00:00:00'),\n",
       " Timestamp('2020-12-13 00:00:00'),\n",
       " Timestamp('2020-12-20 00:00:00'),\n",
       " Timestamp('2020-12-27 00:00:00'),\n",
       " Timestamp('2021-01-03 00:00:00'),\n",
       " Timestamp('2021-01-10 00:00:00'),\n",
       " Timestamp('2021-01-17 00:00:00'),\n",
       " Timestamp('2021-01-24 00:00:00'),\n",
       " Timestamp('2021-01-31 00:00:00'),\n",
       " Timestamp('2021-02-07 00:00:00'),\n",
       " Timestamp('2021-02-14 00:00:00'),\n",
       " Timestamp('2021-02-21 00:00:00'),\n",
       " Timestamp('2021-02-28 00:00:00'),\n",
       " Timestamp('2021-03-07 00:00:00'),\n",
       " Timestamp('2021-03-14 00:00:00'),\n",
       " Timestamp('2021-03-21 00:00:00'),\n",
       " Timestamp('2021-03-28 00:00:00'),\n",
       " Timestamp('2021-04-04 00:00:00'),\n",
       " Timestamp('2021-04-11 00:00:00'),\n",
       " Timestamp('2021-04-18 00:00:00'),\n",
       " Timestamp('2021-04-25 00:00:00'),\n",
       " Timestamp('2021-05-02 00:00:00'),\n",
       " Timestamp('2021-05-09 00:00:00'),\n",
       " Timestamp('2021-05-16 00:00:00'),\n",
       " Timestamp('2021-05-23 00:00:00'),\n",
       " Timestamp('2021-05-30 00:00:00'),\n",
       " Timestamp('2021-06-06 00:00:00'),\n",
       " Timestamp('2021-06-13 00:00:00'),\n",
       " Timestamp('2021-06-20 00:00:00'),\n",
       " Timestamp('2021-06-27 00:00:00'),\n",
       " Timestamp('2021-07-04 00:00:00'),\n",
       " Timestamp('2021-07-11 00:00:00')]"
      ]
     },
     "execution_count": 21,
     "metadata": {},
     "output_type": "execute_result"
    }
   ],
   "source": [
    "sunday_list"
   ]
  },
  {
   "cell_type": "code",
   "execution_count": 22,
   "metadata": {},
   "outputs": [
    {
     "data": {
      "text/plain": [
       "[Timestamp('2021-07-18 00:00:00'),\n",
       " Timestamp('2021-07-25 00:00:00'),\n",
       " Timestamp('2021-08-01 00:00:00')]"
      ]
     },
     "execution_count": 22,
     "metadata": {},
     "output_type": "execute_result"
    }
   ],
   "source": [
    "sunday_test_list"
   ]
  },
  {
   "cell_type": "markdown",
   "metadata": {},
   "source": [
    "##### Slice the data - part of breaking down code and testing individual parts before building the whole thing together"
   ]
  },
  {
   "cell_type": "code",
   "execution_count": 23,
   "metadata": {},
   "outputs": [
    {
     "data": {
      "text/html": [
       "<div>\n",
       "<style scoped>\n",
       "    .dataframe tbody tr th:only-of-type {\n",
       "        vertical-align: middle;\n",
       "    }\n",
       "\n",
       "    .dataframe tbody tr th {\n",
       "        vertical-align: top;\n",
       "    }\n",
       "\n",
       "    .dataframe thead th {\n",
       "        text-align: right;\n",
       "    }\n",
       "</style>\n",
       "<table border=\"1\" class=\"dataframe\">\n",
       "  <thead>\n",
       "    <tr style=\"text-align: right;\">\n",
       "      <th></th>\n",
       "      <th>Open</th>\n",
       "      <th>High</th>\n",
       "      <th>Low</th>\n",
       "      <th>Close</th>\n",
       "      <th>Adj Close</th>\n",
       "      <th>Volume</th>\n",
       "    </tr>\n",
       "    <tr>\n",
       "      <th>Date</th>\n",
       "      <th></th>\n",
       "      <th></th>\n",
       "      <th></th>\n",
       "      <th></th>\n",
       "      <th></th>\n",
       "      <th></th>\n",
       "    </tr>\n",
       "  </thead>\n",
       "  <tbody>\n",
       "    <tr>\n",
       "      <th>2021-06-28</th>\n",
       "      <td>133.410004</td>\n",
       "      <td>135.250000</td>\n",
       "      <td>133.350006</td>\n",
       "      <td>134.779999</td>\n",
       "      <td>134.578369</td>\n",
       "      <td>62111300</td>\n",
       "    </tr>\n",
       "    <tr>\n",
       "      <th>2021-06-29</th>\n",
       "      <td>134.800003</td>\n",
       "      <td>136.490005</td>\n",
       "      <td>134.350006</td>\n",
       "      <td>136.330002</td>\n",
       "      <td>136.126053</td>\n",
       "      <td>64556100</td>\n",
       "    </tr>\n",
       "    <tr>\n",
       "      <th>2021-06-30</th>\n",
       "      <td>136.169998</td>\n",
       "      <td>137.410004</td>\n",
       "      <td>135.869995</td>\n",
       "      <td>136.960007</td>\n",
       "      <td>136.755112</td>\n",
       "      <td>63261400</td>\n",
       "    </tr>\n",
       "    <tr>\n",
       "      <th>2021-07-01</th>\n",
       "      <td>136.600006</td>\n",
       "      <td>137.330002</td>\n",
       "      <td>135.759995</td>\n",
       "      <td>137.270004</td>\n",
       "      <td>137.064651</td>\n",
       "      <td>52485800</td>\n",
       "    </tr>\n",
       "    <tr>\n",
       "      <th>2021-07-02</th>\n",
       "      <td>137.899994</td>\n",
       "      <td>140.000000</td>\n",
       "      <td>137.750000</td>\n",
       "      <td>139.960007</td>\n",
       "      <td>139.750626</td>\n",
       "      <td>78852600</td>\n",
       "    </tr>\n",
       "  </tbody>\n",
       "</table>\n",
       "</div>"
      ],
      "text/plain": [
       "                  Open        High         Low       Close   Adj Close  \\\n",
       "Date                                                                     \n",
       "2021-06-28  133.410004  135.250000  133.350006  134.779999  134.578369   \n",
       "2021-06-29  134.800003  136.490005  134.350006  136.330002  136.126053   \n",
       "2021-06-30  136.169998  137.410004  135.869995  136.960007  136.755112   \n",
       "2021-07-01  136.600006  137.330002  135.759995  137.270004  137.064651   \n",
       "2021-07-02  137.899994  140.000000  137.750000  139.960007  139.750626   \n",
       "\n",
       "              Volume  \n",
       "Date                  \n",
       "2021-06-28  62111300  \n",
       "2021-06-29  64556100  \n",
       "2021-06-30  63261400  \n",
       "2021-07-01  52485800  \n",
       "2021-07-02  78852600  "
      ]
     },
     "execution_count": 23,
     "metadata": {},
     "output_type": "execute_result"
    }
   ],
   "source": [
    "data['2021-06-28':'2021-07-04']"
   ]
  },
  {
   "cell_type": "code",
   "execution_count": 24,
   "metadata": {},
   "outputs": [
    {
     "data": {
      "text/plain": [
       "pandas.core.frame.DataFrame"
      ]
     },
     "execution_count": 24,
     "metadata": {},
     "output_type": "execute_result"
    }
   ],
   "source": [
    "type(data['2021-06-28':'2021-07-04'])"
   ]
  },
  {
   "cell_type": "code",
   "execution_count": 25,
   "metadata": {},
   "outputs": [
    {
     "data": {
      "text/plain": [
       "53"
      ]
     },
     "execution_count": 25,
     "metadata": {},
     "output_type": "execute_result"
    }
   ],
   "source": [
    "len(sunday_list)"
   ]
  },
  {
   "cell_type": "markdown",
   "metadata": {},
   "source": [
    "#### Loop throught all Sunday in the Stock data and take the weeks slice and create the candlestick pattern for the week w/o any Time (X) and price (Y) values. Also save the plot images with Sunday date as filename into buy and sell folder. So later we use Convolution Neural network Keras tool that will use the directories as target.\n",
    "##### We will create the Buy images in candlesticks/buy folder and Sell images in candlesticks/sell folders. Also the filename will have the Sunday date stamped to know which candlestick week that is.\n",
    "##### We will create a signal list for each week we know whether its BUY = 1 or SELL = 0"
   ]
  },
  {
   "cell_type": "code",
   "execution_count": 26,
   "metadata": {},
   "outputs": [
    {
     "name": "stdout",
     "output_type": "stream",
     "text": [
      "2020-07-05 2020-07-12 00:00:00 2020-07-19\n",
      "2020-07-12 2020-07-19 00:00:00 2020-07-26\n",
      "2020-07-19 2020-07-26 00:00:00 2020-08-02\n",
      "2020-07-26 2020-08-02 00:00:00 2020-08-09\n",
      "2020-08-02 2020-08-09 00:00:00 2020-08-16\n",
      "2020-08-09 2020-08-16 00:00:00 2020-08-23\n",
      "2020-08-16 2020-08-23 00:00:00 2020-08-30\n",
      "2020-08-23 2020-08-30 00:00:00 2020-09-06\n",
      "2020-08-30 2020-09-06 00:00:00 2020-09-13\n",
      "2020-09-06 2020-09-13 00:00:00 2020-09-20\n",
      "2020-09-13 2020-09-20 00:00:00 2020-09-27\n",
      "2020-09-20 2020-09-27 00:00:00 2020-10-04\n",
      "2020-09-27 2020-10-04 00:00:00 2020-10-11\n",
      "2020-10-04 2020-10-11 00:00:00 2020-10-18\n",
      "2020-10-11 2020-10-18 00:00:00 2020-10-25\n",
      "2020-10-18 2020-10-25 00:00:00 2020-11-01\n",
      "2020-10-25 2020-11-01 00:00:00 2020-11-08\n",
      "2020-11-01 2020-11-08 00:00:00 2020-11-15\n",
      "2020-11-08 2020-11-15 00:00:00 2020-11-22\n",
      "2020-11-15 2020-11-22 00:00:00 2020-11-29\n",
      "2020-11-22 2020-11-29 00:00:00 2020-12-06\n",
      "2020-11-29 2020-12-06 00:00:00 2020-12-13\n",
      "2020-12-06 2020-12-13 00:00:00 2020-12-20\n",
      "2020-12-13 2020-12-20 00:00:00 2020-12-27\n",
      "2020-12-20 2020-12-27 00:00:00 2021-01-03\n",
      "2020-12-27 2021-01-03 00:00:00 2021-01-10\n",
      "2021-01-03 2021-01-10 00:00:00 2021-01-17\n",
      "2021-01-10 2021-01-17 00:00:00 2021-01-24\n",
      "2021-01-17 2021-01-24 00:00:00 2021-01-31\n",
      "2021-01-24 2021-01-31 00:00:00 2021-02-07\n",
      "2021-01-31 2021-02-07 00:00:00 2021-02-14\n",
      "2021-02-07 2021-02-14 00:00:00 2021-02-21\n",
      "2021-02-14 2021-02-21 00:00:00 2021-02-28\n",
      "2021-02-21 2021-02-28 00:00:00 2021-03-07\n",
      "2021-02-28 2021-03-07 00:00:00 2021-03-14\n",
      "2021-03-07 2021-03-14 00:00:00 2021-03-21\n",
      "2021-03-14 2021-03-21 00:00:00 2021-03-28\n",
      "2021-03-21 2021-03-28 00:00:00 2021-04-04\n",
      "2021-03-28 2021-04-04 00:00:00 2021-04-11\n",
      "2021-04-04 2021-04-11 00:00:00 2021-04-18\n",
      "2021-04-11 2021-04-18 00:00:00 2021-04-25\n",
      "2021-04-18 2021-04-25 00:00:00 2021-05-02\n",
      "2021-04-25 2021-05-02 00:00:00 2021-05-09\n",
      "2021-05-02 2021-05-09 00:00:00 2021-05-16\n",
      "2021-05-09 2021-05-16 00:00:00 2021-05-23\n",
      "2021-05-16 2021-05-23 00:00:00 2021-05-30\n",
      "2021-05-23 2021-05-30 00:00:00 2021-06-06\n",
      "2021-05-30 2021-06-06 00:00:00 2021-06-13\n",
      "2021-06-06 2021-06-13 00:00:00 2021-06-20\n",
      "2021-06-13 2021-06-20 00:00:00 2021-06-27\n",
      "2021-06-20 2021-06-27 00:00:00 2021-07-04\n",
      "2021-06-27 2021-07-04 00:00:00 2021-07-11\n",
      "2021-07-04 2021-07-11 00:00:00 2021-07-18\n"
     ]
    },
    {
     "data": {
      "image/png": "[encoded data removed]",
      "text/plain": [
       "<Figure size 640x480 with 1 Axes>"
      ]
     },
     "metadata": {},
     "output_type": "display_data"
    },
    {
     "data": {
      "image/png": "[encoded data removed]",
      "text/plain": [
       "<Figure size 640x480 with 1 Axes>"
      ]
     },
     "metadata": {},
     "output_type": "display_data"
    },
    {
     "data": {
      "image/png": "[encoded data removed]",
      "text/plain": [
       "<Figure size 640x480 with 1 Axes>"
      ]
     },
     "metadata": {},
     "output_type": "display_data"
    },
    {
     "data": {
      "image/png": "[encoded data removed]",
      "text/plain": [
       "<Figure size 640x480 with 1 Axes>"
      ]
     },
     "metadata": {},
     "output_type": "display_data"
    },
    {
     "data": {
      "image/png": "[encoded data removed]",
      "text/plain": [
       "<Figure size 640x480 with 1 Axes>"
      ]
     },
     "metadata": {},
     "output_type": "display_data"
    },
    {
     "data": {
      "image/png": "[encoded data removed]",
      "text/plain": [
       "<Figure size 640x480 with 1 Axes>"
      ]
     },
     "metadata": {},
     "output_type": "display_data"
    },
    {
     "data": {
      "image/png": "[encoded data removed]",
      "text/plain": [
       "<Figure size 640x480 with 1 Axes>"
      ]
     },
     "metadata": {},
     "output_type": "display_data"
    },
    {
     "data": {
      "image/png": "[encoded data removed]",
      "text/plain": [
       "<Figure size 640x480 with 1 Axes>"
      ]
     },
     "metadata": {},
     "output_type": "display_data"
    },
    {
     "data": {
      "image/png": "[encoded data removed]",
      "text/plain": [
       "<Figure size 640x480 with 1 Axes>"
      ]
     },
     "metadata": {},
     "output_type": "display_data"
    },
    {
     "data": {
      "image/png": "[encoded data removed]",
      "text/plain": [
       "<Figure size 640x480 with 1 Axes>"
      ]
     },
     "metadata": {},
     "output_type": "display_data"
    },
    {
     "data": {
      "image/png": "[encoded data removed]",
      "text/plain": [
       "<Figure size 640x480 with 1 Axes>"
      ]
     },
     "metadata": {},
     "output_type": "display_data"
    },
    {
     "data": {
      "image/png": "[encoded data removed]",
      "text/plain": [
       "<Figure size 640x480 with 1 Axes>"
      ]
     },
     "metadata": {},
     "output_type": "display_data"
    },
    {
     "data": {
      "image/png": "[encoded data removed]",
      "text/plain": [
       "<Figure size 640x480 with 1 Axes>"
      ]
     },
     "metadata": {},
     "output_type": "display_data"
    },
    {
     "data": {
      "image/png": "[encoded data removed]",
      "text/plain": [
       "<Figure size 640x480 with 1 Axes>"
      ]
     },
     "metadata": {},
     "output_type": "display_data"
    },
    {
     "data": {
      "image/png": "[encoded data removed]",
      "text/plain": [
       "<Figure size 640x480 with 1 Axes>"
      ]
     },
     "metadata": {},
     "output_type": "display_data"
    },
    {
     "data": {
      "image/png": "[encoded data removed]",
      "text/plain": [
       "<Figure size 640x480 with 1 Axes>"
      ]
     },
     "metadata": {},
     "output_type": "display_data"
    },
    {
     "data": {
      "image/png": "[encoded data removed]",
      "text/plain": [
       "<Figure size 640x480 with 1 Axes>"
      ]
     },
     "metadata": {},
     "output_type": "display_data"
    },
    {
     "data": {
      "image/png": "[encoded data removed]",
      "text/plain": [
       "<Figure size 640x480 with 1 Axes>"
      ]
     },
     "metadata": {},
     "output_type": "display_data"
    },
    {
     "data": {
      "image/png": "[encoded data removed]",
      "text/plain": [
       "<Figure size 640x480 with 1 Axes>"
      ]
     },
     "metadata": {},
     "output_type": "display_data"
    },
    {
     "data": {
      "image/png": "[encoded data removed]",
      "text/plain": [
       "<Figure size 640x480 with 1 Axes>"
      ]
     },
     "metadata": {},
     "output_type": "display_data"
    },
    {
     "data": {
      "image/png": "[encoded data removed]",
      "text/plain": [
       "<Figure size 640x480 with 1 Axes>"
      ]
     },
     "metadata": {},
     "output_type": "display_data"
    },
    {
     "data": {
      "image/png": "[encoded data removed]",
      "text/plain": [
       "<Figure size 640x480 with 1 Axes>"
      ]
     },
     "metadata": {},
     "output_type": "display_data"
    },
    {
     "data": {
      "image/png": "[encoded data removed]",
      "text/plain": [
       "<Figure size 640x480 with 1 Axes>"
      ]
     },
     "metadata": {},
     "output_type": "display_data"
    },
    {
     "data": {
      "image/png": "[encoded data removed]",
      "text/plain": [
       "<Figure size 640x480 with 1 Axes>"
      ]
     },
     "metadata": {},
     "output_type": "display_data"
    },
    {
     "data": {
      "image/png": "[encoded data removed]",
      "text/plain": [
       "<Figure size 640x480 with 1 Axes>"
      ]
     },
     "metadata": {},
     "output_type": "display_data"
    },
    {
     "data": {
      "image/png": "[encoded data removed]",
      "text/plain": [
       "<Figure size 640x480 with 1 Axes>"
      ]
     },
     "metadata": {},
     "output_type": "display_data"
    },
    {
     "data": {
      "image/png": "[encoded data removed]",
      "text/plain": [
       "<Figure size 640x480 with 1 Axes>"
      ]
     },
     "metadata": {},
     "output_type": "display_data"
    },
    {
     "data": {
      "image/png": "[encoded data removed]",
      "text/plain": [
       "<Figure size 640x480 with 1 Axes>"
      ]
     },
     "metadata": {},
     "output_type": "display_data"
    },
    {
     "data": {
      "image/png": "[encoded data removed]",
      "text/plain": [
       "<Figure size 640x480 with 1 Axes>"
      ]
     },
     "metadata": {},
     "output_type": "display_data"
    },
    {
     "data": {
      "image/png": "[encoded data removed]",
      "text/plain": [
       "<Figure size 640x480 with 1 Axes>"
      ]
     },
     "metadata": {},
     "output_type": "display_data"
    },
    {
     "data": {
      "image/png": "[encoded data removed]",
      "text/plain": [
       "<Figure size 640x480 with 1 Axes>"
      ]
     },
     "metadata": {},
     "output_type": "display_data"
    },
    {
     "data": {
      "image/png": "[encoded data removed]",
      "text/plain": [
       "<Figure size 640x480 with 1 Axes>"
      ]
     },
     "metadata": {},
     "output_type": "display_data"
    },
    {
     "data": {
      "image/png": "[encoded data removed]",
      "text/plain": [
       "<Figure size 640x480 with 1 Axes>"
      ]
     },
     "metadata": {},
     "output_type": "display_data"
    },
    {
     "data": {
      "image/png": "[encoded data removed]",
      "text/plain": [
       "<Figure size 640x480 with 1 Axes>"
      ]
     },
     "metadata": {},
     "output_type": "display_data"
    },
    {
     "data": {
      "image/png": "[encoded data removed]",
      "text/plain": [
       "<Figure size 640x480 with 1 Axes>"
      ]
     },
     "metadata": {},
     "output_type": "display_data"
    },
    {
     "data": {
      "image/png": "[encoded data removed]",
      "text/plain": [
       "<Figure size 640x480 with 1 Axes>"
      ]
     },
     "metadata": {},
     "output_type": "display_data"
    },
    {
     "data": {
      "image/png": "[encoded data removed]",
      "text/plain": [
       "<Figure size 640x480 with 1 Axes>"
      ]
     },
     "metadata": {},
     "output_type": "display_data"
    },
    {
     "data": {
      "image/png": "[encoded data removed]",
      "text/plain": [
       "<Figure size 640x480 with 1 Axes>"
      ]
     },
     "metadata": {},
     "output_type": "display_data"
    },
    {
     "data": {
      "image/png": "[encoded data removed]",
      "text/plain": [
       "<Figure size 640x480 with 1 Axes>"
      ]
     },
     "metadata": {},
     "output_type": "display_data"
    },
    {
     "data": {
      "image/png": "[encoded data removed]",
      "text/plain": [
       "<Figure size 640x480 with 1 Axes>"
      ]
     },
     "metadata": {},
     "output_type": "display_data"
    },
    {
     "data": {
      "image/png": "[encoded data removed]",
      "text/plain": [
       "<Figure size 640x480 with 1 Axes>"
      ]
     },
     "metadata": {},
     "output_type": "display_data"
    },
    {
     "data": {
      "image/png": "[encoded data removed]",
      "text/plain": [
       "<Figure size 640x480 with 1 Axes>"
      ]
     },
     "metadata": {},
     "output_type": "display_data"
    },
    {
     "data": {
      "image/png": "[encoded data removed]",
      "text/plain": [
       "<Figure size 640x480 with 1 Axes>"
      ]
     },
     "metadata": {},
     "output_type": "display_data"
    },
    {
     "data": {
      "image/png": "[encoded data removed]",
      "text/plain": [
       "<Figure size 640x480 with 1 Axes>"
      ]
     },
     "metadata": {},
     "output_type": "display_data"
    },
    {
     "data": {
      "image/png": "[encoded data removed]",
      "text/plain": [
       "<Figure size 640x480 with 1 Axes>"
      ]
     },
     "metadata": {},
     "output_type": "display_data"
    },
    {
     "data": {
      "image/png": "[encoded data removed]",
      "text/plain": [
       "<Figure size 640x480 with 1 Axes>"
      ]
     },
     "metadata": {},
     "output_type": "display_data"
    },
    {
     "data": {
      "image/png": "[encoded data removed]",
      "text/plain": [
       "<Figure size 640x480 with 1 Axes>"
      ]
     },
     "metadata": {},
     "output_type": "display_data"
    },
    {
     "data": {
      "image/png": "[encoded data removed]",
      "text/plain": [
       "<Figure size 640x480 with 1 Axes>"
      ]
     },
     "metadata": {},
     "output_type": "display_data"
    },
    {
     "data": {
      "image/png": "[encoded data removed]",
      "text/plain": [
       "<Figure size 640x480 with 1 Axes>"
      ]
     },
     "metadata": {},
     "output_type": "display_data"
    },
    {
     "data": {
      "image/png": "[encoded data removed]",
      "text/plain": [
       "<Figure size 640x480 with 1 Axes>"
      ]
     },
     "metadata": {},
     "output_type": "display_data"
    },
    {
     "data": {
      "image/png": "[encoded data removed]",
      "text/plain": [
       "<Figure size 640x480 with 1 Axes>"
      ]
     },
     "metadata": {},
     "output_type": "display_data"
    },
    {
     "data": {
      "image/png": "[encoded data removed]",
      "text/plain": [
       "<Figure size 640x480 with 1 Axes>"
      ]
     },
     "metadata": {},
     "output_type": "display_data"
    }
   ],
   "source": [
    "#name = '2015-'\n",
    "images_created_train = 0\n",
    "signal_list = []\n",
    "for x in sunday_list:\n",
    "    from_date = x - timedelta(days=7)\n",
    "    from_date1 = from_date.date()              # strip the time\n",
    "    next_weekending = x + timedelta(days=7)    # Next sunday\n",
    "    next_weekending1 = next_weekending.date()  # Strip the time\n",
    "    print(from_date1, x, next_weekending1)\n",
    "#    print(from_date,x)\n",
    "#    if x == datetime.strptime('2020-07-12' , '%Y-%m-%d'):\n",
    "#        print(x)\n",
    "#        print(data[from_date1:x].head())\n",
    "#        print('Fri and monday below')\n",
    "\n",
    "##  Create Signal - take prior week last date price and take next week 1st day price and compare\n",
    "    week_close = data[from_date1:x].tail(1)['Close']\n",
    "    #print(type(week_close))\n",
    "    week_close_price = week_close[0]\n",
    "    #print(week_close_price)\n",
    "    nextday_close = data[x:next_weekending1].head(1)['Close']\n",
    "    try:\n",
    "        nextday_close_price = nextday_close[0]\n",
    "    except:\n",
    "        break\n",
    "    #print(nextday_close)\n",
    "    if nextday_close_price > week_close_price:\n",
    "        signal = 1\n",
    "    else:\n",
    "        signal = 0\n",
    "    signal_list.append(signal)\n",
    "    #print('Signal = ', signal)\n",
    "    x1 = x.date()\n",
    "    #print(from_date1, x1)\n",
    "    ohlc = data[from_date1: x1]\n",
    "    ohlc.reset_index(inplace=True)\n",
    "    ohlc['Date'] = pd.to_datetime(ohlc['Date'])\n",
    "    ohlc['Date'] = ohlc['Date'].apply(mpl_dates.date2num)\n",
    "    ohlc = ohlc.astype(float)\n",
    "#    print(ohlc.head())\n",
    "    # Creating Subplots\n",
    "    fig, ax = plt.subplots()\n",
    "    plt.axis('off')\n",
    "    fig.patch.set_facecolor('black')\n",
    "\n",
    "    candlestick_ohlc(ax, ohlc.values, width=0.6, colorup='green', colordown='red', alpha=0.8)\n",
    "    images_created_train = images_created_train + 1\n",
    "    if signal == 1:\n",
    "        plt.savefig(f'candlesticks/buy/{x1}.png')\n",
    "    elif signal == 0:\n",
    "        plt.savefig(f'candlesticks/sell/{x1}.png')\n",
    "#plt.show()\n",
    "#        mpf.plot(data[from_date1:x1],type='candle',savefig=f\"{x1}.png\")\n",
    "\n",
    "        #     y=x*5\n",
    "#     print('iloc range: ', y, ' to ', y+5)\n",
    "#     fname = name + str(x)\n",
    "#     print(fname)\n",
    "#    mpf.axis('off')\n",
    "#    mpf.plot(data[from_date:x,type='candle',savefig=f\"{fname}.png\")"
   ]
  },
  {
   "cell_type": "code",
   "execution_count": 27,
   "metadata": {},
   "outputs": [
    {
     "name": "stdout",
     "output_type": "stream",
     "text": [
      "Train data Images created =  52\n"
     ]
    }
   ],
   "source": [
    "print('Train data Images created = ', images_created_train)"
   ]
  },
  {
   "cell_type": "markdown",
   "metadata": {},
   "source": [
    "### Create test images in its folders: candlesticks_test/buy and candlesticks_test/sell. \n",
    "#### Also the filename will have the Sunday date stamped to know which candlestick week that is.\n",
    "##### We will create a signal_test list for each week we know whether its BUY = 1 or SELL = 0"
   ]
  },
  {
   "cell_type": "code",
   "execution_count": 28,
   "metadata": {},
   "outputs": [
    {
     "data": {
      "image/png": "[encoded data removed]",
      "text/plain": [
       "<Figure size 640x480 with 1 Axes>"
      ]
     },
     "metadata": {},
     "output_type": "display_data"
    },
    {
     "data": {
      "image/png": "[encoded data removed]",
      "text/plain": [
       "<Figure size 640x480 with 1 Axes>"
      ]
     },
     "metadata": {},
     "output_type": "display_data"
    }
   ],
   "source": [
    "#name = '2015-'\n",
    "signal_test_list = []\n",
    "images_created_test = 0\n",
    "for x in sunday_test_list:\n",
    "    from_date = x - timedelta(days=7)\n",
    "    from_date1 = from_date.date()              # strip the time\n",
    "    next_weekending = x + timedelta(days=7)    # Next sunday\n",
    "    next_weekending1 = next_weekending.date()  # Strip the time\n",
    "#    print(from_date1, x, next_weekending1)\n",
    "#    print(from_date,x)\n",
    "#    if x == datetime.strptime('2020-07-12' , '%Y-%m-%d'):\n",
    "#        print(x)\n",
    "#        print(data[from_date1:x].head())\n",
    "#        print('Fri and monday below')\n",
    "\n",
    "##  Create Signal - take prior week last date price and take next week 1st day price and compare\n",
    "    week_close = data_test[from_date1:x].tail(1)['Close']\n",
    "    #print(type(week_close))\n",
    "    week_close_price = week_close[0]\n",
    "    #print(week_close_price)\n",
    "    nextday_close = data_test[x:next_weekending1].head(1)['Close']\n",
    "    try:\n",
    "        nextday_close_price = nextday_close[0]\n",
    "    except:\n",
    "        break\n",
    "    #print(nextday_close)\n",
    "    if nextday_close_price > week_close_price:\n",
    "        signal = 1\n",
    "    else:\n",
    "        signal = 0\n",
    "    signal_test_list.append(signal)\n",
    "    #print('Signal = ', signal)\n",
    "    x1 = x.date()\n",
    "    #print(from_date1, x1)\n",
    "    ohlc = data_test[from_date1: x1]\n",
    "    ohlc.reset_index(inplace=True)\n",
    "    ohlc['Date'] = pd.to_datetime(ohlc['Date'])\n",
    "    ohlc['Date'] = ohlc['Date'].apply(mpl_dates.date2num)\n",
    "    ohlc = ohlc.astype(float)\n",
    "#    print(ohlc.head())\n",
    "    # Creating Subplots\n",
    "    fig, ax = plt.subplots()\n",
    "    plt.axis('off')\n",
    "    fig.patch.set_facecolor('black')\n",
    "\n",
    "    candlestick_ohlc(ax, ohlc.values, width=0.6, colorup='green', colordown='red', alpha=0.8)\n",
    "    images_created_test = images_created_test + 1\n",
    "    if signal == 1:\n",
    "        plt.savefig(f'candlesticks_test/buy/{x1}.png')\n",
    "    elif signal == 0:\n",
    "        plt.savefig(f'candlesticks_test/sell/{x1}.png')"
   ]
  },
  {
   "cell_type": "code",
   "execution_count": 29,
   "metadata": {},
   "outputs": [
    {
     "name": "stdout",
     "output_type": "stream",
     "text": [
      "Test images created =  2\n"
     ]
    }
   ],
   "source": [
    "print('Test images created = ', images_created_test)"
   ]
  },
  {
   "cell_type": "code",
   "execution_count": 30,
   "metadata": {},
   "outputs": [
    {
     "data": {
      "text/html": [
       "<div>\n",
       "<style scoped>\n",
       "    .dataframe tbody tr th:only-of-type {\n",
       "        vertical-align: middle;\n",
       "    }\n",
       "\n",
       "    .dataframe tbody tr th {\n",
       "        vertical-align: top;\n",
       "    }\n",
       "\n",
       "    .dataframe thead th {\n",
       "        text-align: right;\n",
       "    }\n",
       "</style>\n",
       "<table border=\"1\" class=\"dataframe\">\n",
       "  <thead>\n",
       "    <tr style=\"text-align: right;\">\n",
       "      <th></th>\n",
       "      <th>Open</th>\n",
       "      <th>High</th>\n",
       "      <th>Low</th>\n",
       "      <th>Close</th>\n",
       "      <th>Adj Close</th>\n",
       "      <th>Volume</th>\n",
       "    </tr>\n",
       "    <tr>\n",
       "      <th>Date</th>\n",
       "      <th></th>\n",
       "      <th></th>\n",
       "      <th></th>\n",
       "      <th></th>\n",
       "      <th></th>\n",
       "      <th></th>\n",
       "    </tr>\n",
       "  </thead>\n",
       "  <tbody>\n",
       "    <tr>\n",
       "      <th>2021-07-01</th>\n",
       "      <td>136.600006</td>\n",
       "      <td>137.330002</td>\n",
       "      <td>135.759995</td>\n",
       "      <td>137.270004</td>\n",
       "      <td>137.064651</td>\n",
       "      <td>52485800</td>\n",
       "    </tr>\n",
       "    <tr>\n",
       "      <th>2021-07-02</th>\n",
       "      <td>137.899994</td>\n",
       "      <td>140.000000</td>\n",
       "      <td>137.750000</td>\n",
       "      <td>139.960007</td>\n",
       "      <td>139.750626</td>\n",
       "      <td>78852600</td>\n",
       "    </tr>\n",
       "    <tr>\n",
       "      <th>2021-07-06</th>\n",
       "      <td>140.070007</td>\n",
       "      <td>143.149994</td>\n",
       "      <td>140.070007</td>\n",
       "      <td>142.020004</td>\n",
       "      <td>141.807541</td>\n",
       "      <td>108181800</td>\n",
       "    </tr>\n",
       "    <tr>\n",
       "      <th>2021-07-07</th>\n",
       "      <td>143.539993</td>\n",
       "      <td>144.889999</td>\n",
       "      <td>142.660004</td>\n",
       "      <td>144.570007</td>\n",
       "      <td>144.353729</td>\n",
       "      <td>104911600</td>\n",
       "    </tr>\n",
       "    <tr>\n",
       "      <th>2021-07-08</th>\n",
       "      <td>141.580002</td>\n",
       "      <td>144.059998</td>\n",
       "      <td>140.669998</td>\n",
       "      <td>143.240005</td>\n",
       "      <td>143.025711</td>\n",
       "      <td>105575500</td>\n",
       "    </tr>\n",
       "  </tbody>\n",
       "</table>\n",
       "</div>"
      ],
      "text/plain": [
       "                  Open        High         Low       Close   Adj Close  \\\n",
       "Date                                                                     \n",
       "2021-07-01  136.600006  137.330002  135.759995  137.270004  137.064651   \n",
       "2021-07-02  137.899994  140.000000  137.750000  139.960007  139.750626   \n",
       "2021-07-06  140.070007  143.149994  140.070007  142.020004  141.807541   \n",
       "2021-07-07  143.539993  144.889999  142.660004  144.570007  144.353729   \n",
       "2021-07-08  141.580002  144.059998  140.669998  143.240005  143.025711   \n",
       "\n",
       "               Volume  \n",
       "Date                   \n",
       "2021-07-01   52485800  \n",
       "2021-07-02   78852600  \n",
       "2021-07-06  108181800  \n",
       "2021-07-07  104911600  \n",
       "2021-07-08  105575500  "
      ]
     },
     "execution_count": 30,
     "metadata": {},
     "output_type": "execute_result"
    }
   ],
   "source": [
    "data.tail()"
   ]
  },
  {
   "cell_type": "code",
   "execution_count": 31,
   "metadata": {},
   "outputs": [],
   "source": [
    "train_len = len(signal_list)"
   ]
  },
  {
   "cell_type": "code",
   "execution_count": 32,
   "metadata": {},
   "outputs": [
    {
     "data": {
      "text/plain": [
       "52"
      ]
     },
     "execution_count": 32,
     "metadata": {},
     "output_type": "execute_result"
    }
   ],
   "source": [
    "train_len"
   ]
  },
  {
   "cell_type": "code",
   "execution_count": 33,
   "metadata": {},
   "outputs": [
    {
     "data": {
      "text/plain": [
       "53"
      ]
     },
     "execution_count": 33,
     "metadata": {},
     "output_type": "execute_result"
    }
   ],
   "source": [
    "len(sunday_list)"
   ]
  },
  {
   "cell_type": "markdown",
   "metadata": {},
   "source": [
    "##### Create a dataframe for the training signals"
   ]
  },
  {
   "cell_type": "code",
   "execution_count": 34,
   "metadata": {},
   "outputs": [
    {
     "data": {
      "text/html": [
       "<div>\n",
       "<style scoped>\n",
       "    .dataframe tbody tr th:only-of-type {\n",
       "        vertical-align: middle;\n",
       "    }\n",
       "\n",
       "    .dataframe tbody tr th {\n",
       "        vertical-align: top;\n",
       "    }\n",
       "\n",
       "    .dataframe thead th {\n",
       "        text-align: right;\n",
       "    }\n",
       "</style>\n",
       "<table border=\"1\" class=\"dataframe\">\n",
       "  <thead>\n",
       "    <tr style=\"text-align: right;\">\n",
       "      <th></th>\n",
       "      <th>Signal</th>\n",
       "    </tr>\n",
       "    <tr>\n",
       "      <th>Date</th>\n",
       "      <th></th>\n",
       "    </tr>\n",
       "  </thead>\n",
       "  <tbody>\n",
       "    <tr>\n",
       "      <th>2020-07-12</th>\n",
       "      <td>0</td>\n",
       "    </tr>\n",
       "    <tr>\n",
       "      <th>2020-07-19</th>\n",
       "      <td>1</td>\n",
       "    </tr>\n",
       "    <tr>\n",
       "      <th>2020-07-26</th>\n",
       "      <td>1</td>\n",
       "    </tr>\n",
       "    <tr>\n",
       "      <th>2020-08-02</th>\n",
       "      <td>1</td>\n",
       "    </tr>\n",
       "    <tr>\n",
       "      <th>2020-08-09</th>\n",
       "      <td>1</td>\n",
       "    </tr>\n",
       "  </tbody>\n",
       "</table>\n",
       "</div>"
      ],
      "text/plain": [
       "            Signal\n",
       "Date              \n",
       "2020-07-12       0\n",
       "2020-07-19       1\n",
       "2020-07-26       1\n",
       "2020-08-02       1\n",
       "2020-08-09       1"
      ]
     },
     "execution_count": 34,
     "metadata": {},
     "output_type": "execute_result"
    }
   ],
   "source": [
    "signal_df = pd.DataFrame()\n",
    "signal_df['Signal'] = signal_list\n",
    "signal_df['Date'] = sunday_list[0:train_len]\n",
    "signal_df.set_index('Date', inplace=True)\n",
    "signal_df.head()"
   ]
  },
  {
   "cell_type": "code",
   "execution_count": 35,
   "metadata": {},
   "outputs": [],
   "source": [
    "signal_df.to_csv('signal.csv', index=True)"
   ]
  },
  {
   "cell_type": "code",
   "execution_count": 36,
   "metadata": {},
   "outputs": [],
   "source": [
    "test_len = len(signal_test_list)"
   ]
  },
  {
   "cell_type": "code",
   "execution_count": 37,
   "metadata": {},
   "outputs": [
    {
     "data": {
      "text/plain": [
       "2"
      ]
     },
     "execution_count": 37,
     "metadata": {},
     "output_type": "execute_result"
    }
   ],
   "source": [
    "test_len"
   ]
  },
  {
   "cell_type": "code",
   "execution_count": 38,
   "metadata": {},
   "outputs": [
    {
     "data": {
      "text/plain": [
       "[Timestamp('2021-07-18 00:00:00'),\n",
       " Timestamp('2021-07-25 00:00:00'),\n",
       " Timestamp('2021-08-01 00:00:00')]"
      ]
     },
     "execution_count": 38,
     "metadata": {},
     "output_type": "execute_result"
    }
   ],
   "source": [
    "sunday_test_list"
   ]
  },
  {
   "cell_type": "markdown",
   "metadata": {},
   "source": [
    "##### Create a dataframe for the testing signals"
   ]
  },
  {
   "cell_type": "code",
   "execution_count": 39,
   "metadata": {},
   "outputs": [
    {
     "data": {
      "text/html": [
       "<div>\n",
       "<style scoped>\n",
       "    .dataframe tbody tr th:only-of-type {\n",
       "        vertical-align: middle;\n",
       "    }\n",
       "\n",
       "    .dataframe tbody tr th {\n",
       "        vertical-align: top;\n",
       "    }\n",
       "\n",
       "    .dataframe thead th {\n",
       "        text-align: right;\n",
       "    }\n",
       "</style>\n",
       "<table border=\"1\" class=\"dataframe\">\n",
       "  <thead>\n",
       "    <tr style=\"text-align: right;\">\n",
       "      <th></th>\n",
       "      <th>Signal</th>\n",
       "    </tr>\n",
       "    <tr>\n",
       "      <th>Date</th>\n",
       "      <th></th>\n",
       "    </tr>\n",
       "  </thead>\n",
       "  <tbody>\n",
       "    <tr>\n",
       "      <th>2021-07-18</th>\n",
       "      <td>0</td>\n",
       "    </tr>\n",
       "    <tr>\n",
       "      <th>2021-07-25</th>\n",
       "      <td>1</td>\n",
       "    </tr>\n",
       "  </tbody>\n",
       "</table>\n",
       "</div>"
      ],
      "text/plain": [
       "            Signal\n",
       "Date              \n",
       "2021-07-18       0\n",
       "2021-07-25       1"
      ]
     },
     "execution_count": 39,
     "metadata": {},
     "output_type": "execute_result"
    }
   ],
   "source": [
    "signal_test_df = pd.DataFrame()\n",
    "signal_test_df['Signal'] = signal_test_list\n",
    "signal_test_df['Date'] = sunday_test_list[0:test_len]\n",
    "signal_test_df.set_index('Date', inplace=True)\n",
    "signal_test_df.head()"
   ]
  },
  {
   "cell_type": "code",
   "execution_count": 40,
   "metadata": {},
   "outputs": [],
   "source": [
    "signal_test_df.to_csv('signal_test.csv', index=True)"
   ]
  },
  {
   "cell_type": "code",
   "execution_count": 41,
   "metadata": {},
   "outputs": [],
   "source": [
    "# # from mpl_finance import candlestick_ohlc\n",
    "# # fig, ax = plt.subplots()\n",
    "# # plt.axis('off')\n",
    "# # fig.patch.set_facecolor('black')\n",
    "\n",
    "# name = '2015-'\n",
    "# for x in range(10):\n",
    "#     print(x)\n",
    "#     y=x*5\n",
    "#     print('iloc range: ', y, ' to ', y+5)\n",
    "#     fname = name + str(x)\n",
    "#     print(fname)\n",
    "# #    mpf.axis('off')\n",
    "#     mpf.plot(data.iloc[y:y+5],type='candle',savefig=f\"{fname}.png\")\n",
    "    "
   ]
  },
  {
   "cell_type": "code",
   "execution_count": 42,
   "metadata": {},
   "outputs": [
    {
     "data": {
      "image/png": "[encoded data removed]",
      "text/plain": [
       "<Figure size 800x575 with 2 Axes>"
      ]
     },
     "metadata": {},
     "output_type": "display_data"
    }
   ],
   "source": [
    "#slice with moving average\n",
    "mpf.plot(data.iloc[0:50],type='candle',mav=4)"
   ]
  },
  {
   "cell_type": "code",
   "execution_count": 43,
   "metadata": {},
   "outputs": [
    {
     "name": "stdout",
     "output_type": "stream",
     "text": [
      "2020-07-12 00:00:00\n",
      "2020-07-19 00:00:00\n",
      "2020-07-26 00:00:00\n",
      "2020-08-02 00:00:00\n",
      "2020-08-09 00:00:00\n",
      "2020-08-16 00:00:00\n",
      "2020-08-23 00:00:00\n",
      "2020-08-30 00:00:00\n",
      "2020-09-06 00:00:00\n",
      "2020-09-13 00:00:00\n",
      "2020-09-20 00:00:00\n",
      "2020-09-27 00:00:00\n",
      "2020-10-04 00:00:00\n",
      "2020-10-11 00:00:00\n",
      "2020-10-18 00:00:00\n",
      "2020-10-25 00:00:00\n",
      "2020-11-01 00:00:00\n",
      "2020-11-08 00:00:00\n",
      "2020-11-15 00:00:00\n",
      "2020-11-22 00:00:00\n",
      "2020-11-29 00:00:00\n",
      "2020-12-06 00:00:00\n",
      "2020-12-13 00:00:00\n",
      "2020-12-20 00:00:00\n",
      "2020-12-27 00:00:00\n",
      "2021-01-03 00:00:00\n",
      "2021-01-10 00:00:00\n",
      "2021-01-17 00:00:00\n",
      "2021-01-24 00:00:00\n",
      "2021-01-31 00:00:00\n",
      "2021-02-07 00:00:00\n",
      "2021-02-14 00:00:00\n",
      "2021-02-21 00:00:00\n",
      "2021-02-28 00:00:00\n",
      "2021-03-07 00:00:00\n",
      "2021-03-14 00:00:00\n",
      "2021-03-21 00:00:00\n",
      "2021-03-28 00:00:00\n",
      "2021-04-04 00:00:00\n",
      "2021-04-11 00:00:00\n",
      "2021-04-18 00:00:00\n",
      "2021-04-25 00:00:00\n",
      "2021-05-02 00:00:00\n",
      "2021-05-09 00:00:00\n",
      "2021-05-16 00:00:00\n",
      "2021-05-23 00:00:00\n",
      "2021-05-30 00:00:00\n",
      "2021-06-06 00:00:00\n",
      "2021-06-13 00:00:00\n",
      "2021-06-20 00:00:00\n",
      "2021-06-27 00:00:00\n",
      "2021-07-04 00:00:00\n",
      "2021-07-11 00:00:00\n"
     ]
    }
   ],
   "source": [
    "for wk in sunday_list:\n",
    "    wk1 = wk.date()\n",
    "    print(wk)"
   ]
  },
  {
   "cell_type": "code",
   "execution_count": 44,
   "metadata": {},
   "outputs": [],
   "source": [
    "# cnt=1\n",
    "# six_index=0\n",
    "# week_max = 0\n",
    "# for index, row in data.iterrows():\n",
    "#     if index == pd.to_datetime('2015-07-01')  or index == pd.to_datetime('2015-07-02'):\n",
    "#         continue\n",
    "#     print('Date = ', index, ' Close and adj Close: ', row['Close'], ' Row count = ', cnt)\n",
    "#     if week_max == 0:\n",
    "#         week_max = row['Close']\n",
    "#     else: \n",
    "#         if row['Close'] > week_max:\n",
    "#             week_max = row['Close']\n",
    "#     if cnt % 5 == 0:\n",
    "#         print(' % 5 reached count = ', cnt, ' week_max = ', week_max)\n",
    "#         day5_max = week_max\n",
    "#         week_max = 0\n",
    "#         print('day5 max = ', day5_max)\n",
    "#         six_index= cnt+1\n",
    "#     if cnt == six_index:\n",
    "#         print(' % 6th day reached count = ', cnt, ' day5max = ', day5_max)\n",
    "#         if row['Close'] > day5_max:\n",
    "#             print(index, ' day 6 ', 'Signal = Buy , 6th day close = ', row['Close'], ' past 5 days max = ', day5_max)\n",
    "#         else:\n",
    "#             print(index, ' day 6 ', 'Signal = Sell , 6th day close = ', row['Close'], ' past 5 days max = ', day5_max)\n",
    "#         #week_max = row['Close']\n",
    "#     if cnt>12:\n",
    "#         break\n",
    "#     cnt=cnt+1\n",
    "    "
   ]
  },
  {
   "cell_type": "code",
   "execution_count": null,
   "metadata": {},
   "outputs": [],
   "source": []
  },
  {
   "cell_type": "code",
   "execution_count": null,
   "metadata": {},
   "outputs": [],
   "source": []
  }
 ],
 "metadata": {
  "kernelspec": {
   "display_name": "Python [conda env:deepenv] *",
   "language": "python",
   "name": "conda-env-deepenv-py"
  },
  "language_info": {
   "codemirror_mode": {
    "name": "ipython",
    "version": 3
   },
   "file_extension": ".py",
   "mimetype": "text/x-python",
   "name": "python",
   "nbconvert_exporter": "python",
   "pygments_lexer": "ipython3",
   "version": "3.7.9"
  }
 },
 "nbformat": 4,
 "nbformat_minor": 4
}
