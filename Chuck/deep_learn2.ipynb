{
 "cells": [
  {
   "cell_type": "markdown",
   "metadata": {},
   "source": [
    "#### Convolution Neural network CNN for learning images and processing - using high-level Keras preprocessing utilities and layers to read a directory of images on disk.\n"
   ]
  },
  {
   "cell_type": "markdown",
   "metadata": {},
   "source": [
    "#### deep_learn2.ipynb - was run for 1 year images."
   ]
  },
  {
   "cell_type": "code",
   "execution_count": 1,
   "metadata": {},
   "outputs": [],
   "source": [
    "import warnings\n",
    "warnings.filterwarnings('ignore')"
   ]
  },
  {
   "cell_type": "code",
   "execution_count": 2,
   "metadata": {},
   "outputs": [],
   "source": [
    "import numpy as np\n",
    "import pandas as pd\n",
    "import os\n",
    "import os.path\n",
    "import PIL\n",
    "from PIL import Image\n",
    "import PIL.Image\n",
    "import tensorflow as tf\n",
    "#import tensorflow_datasets as tfds\n",
    "from tensorflow import keras\n",
    "from tensorflow.keras import layers\n",
    "from sklearn.model_selection import train_test_split\n",
    "from sklearn.metrics import r2_score\n",
    "import datetime"
   ]
  },
  {
   "cell_type": "code",
   "execution_count": 3,
   "metadata": {},
   "outputs": [
    {
     "name": "stdout",
     "output_type": "stream",
     "text": [
      "2.5.0\n"
     ]
    }
   ],
   "source": [
    "print(tf.__version__)"
   ]
  },
  {
   "cell_type": "markdown",
   "metadata": {},
   "source": [
    "#### Dataset - directory\n",
    "candlesticks_together"
   ]
  },
  {
   "cell_type": "markdown",
   "metadata": {},
   "source": [
    "##### Define path for dataset"
   ]
  },
  {
   "cell_type": "code",
   "execution_count": 4,
   "metadata": {},
   "outputs": [],
   "source": [
    "import pathlib\n",
    "image_dir = pathlib.Path('candlesticks_together/')\n",
    "#data_test_dir = pathlib.Path('candlesticks_test')"
   ]
  },
  {
   "cell_type": "markdown",
   "metadata": {},
   "source": [
    "### Create File DataFrame"
   ]
  },
  {
   "cell_type": "code",
   "execution_count": 5,
   "metadata": {},
   "outputs": [],
   "source": [
    "filepaths = pd.Series(list(image_dir.glob(r'**/*.png')), name='Filepath').astype(str)"
   ]
  },
  {
   "cell_type": "code",
   "execution_count": 6,
   "metadata": {},
   "outputs": [
    {
     "data": {
      "text/plain": [
       "0     candlesticks_together\\2020-07-12.png\n",
       "1     candlesticks_together\\2020-07-19.png\n",
       "2     candlesticks_together\\2020-07-26.png\n",
       "3     candlesticks_together\\2020-08-02.png\n",
       "4     candlesticks_together\\2020-08-09.png\n",
       "5     candlesticks_together\\2020-08-16.png\n",
       "6     candlesticks_together\\2020-08-23.png\n",
       "7     candlesticks_together\\2020-08-30.png\n",
       "8     candlesticks_together\\2020-09-06.png\n",
       "9     candlesticks_together\\2020-09-13.png\n",
       "10    candlesticks_together\\2020-09-20.png\n",
       "11    candlesticks_together\\2020-09-27.png\n",
       "12    candlesticks_together\\2020-10-04.png\n",
       "13    candlesticks_together\\2020-10-11.png\n",
       "14    candlesticks_together\\2020-10-18.png\n",
       "15    candlesticks_together\\2020-10-25.png\n",
       "16    candlesticks_together\\2020-11-01.png\n",
       "17    candlesticks_together\\2020-11-08.png\n",
       "18    candlesticks_together\\2020-11-15.png\n",
       "19    candlesticks_together\\2020-11-22.png\n",
       "20    candlesticks_together\\2020-11-29.png\n",
       "21    candlesticks_together\\2020-12-06.png\n",
       "22    candlesticks_together\\2020-12-13.png\n",
       "23    candlesticks_together\\2020-12-20.png\n",
       "24    candlesticks_together\\2020-12-27.png\n",
       "25    candlesticks_together\\2021-01-03.png\n",
       "26    candlesticks_together\\2021-01-10.png\n",
       "27    candlesticks_together\\2021-01-17.png\n",
       "28    candlesticks_together\\2021-01-24.png\n",
       "29    candlesticks_together\\2021-01-31.png\n",
       "30    candlesticks_together\\2021-02-07.png\n",
       "31    candlesticks_together\\2021-02-14.png\n",
       "32    candlesticks_together\\2021-02-21.png\n",
       "33    candlesticks_together\\2021-02-28.png\n",
       "34    candlesticks_together\\2021-03-07.png\n",
       "35    candlesticks_together\\2021-03-14.png\n",
       "36    candlesticks_together\\2021-03-21.png\n",
       "37    candlesticks_together\\2021-03-28.png\n",
       "38    candlesticks_together\\2021-04-04.png\n",
       "39    candlesticks_together\\2021-04-11.png\n",
       "40    candlesticks_together\\2021-04-18.png\n",
       "41    candlesticks_together\\2021-04-25.png\n",
       "42    candlesticks_together\\2021-05-02.png\n",
       "43    candlesticks_together\\2021-05-09.png\n",
       "44    candlesticks_together\\2021-05-16.png\n",
       "45    candlesticks_together\\2021-05-23.png\n",
       "46    candlesticks_together\\2021-05-30.png\n",
       "47    candlesticks_together\\2021-06-06.png\n",
       "48    candlesticks_together\\2021-06-13.png\n",
       "49    candlesticks_together\\2021-06-20.png\n",
       "50    candlesticks_together\\2021-06-27.png\n",
       "51    candlesticks_together\\2021-07-04.png\n",
       "Name: Filepath, dtype: object"
      ]
     },
     "execution_count": 6,
     "metadata": {},
     "output_type": "execute_result"
    }
   ],
   "source": [
    "filepaths"
   ]
  },
  {
   "cell_type": "code",
   "execution_count": 7,
   "metadata": {},
   "outputs": [],
   "source": [
    "signal_df = pd.read_csv('signal.csv')  "
   ]
  },
  {
   "cell_type": "code",
   "execution_count": 8,
   "metadata": {},
   "outputs": [
    {
     "name": "stdout",
     "output_type": "stream",
     "text": [
      "<class 'pandas.core.frame.DataFrame'>\n",
      "RangeIndex: 52 entries, 0 to 51\n",
      "Data columns (total 2 columns):\n",
      "Date      52 non-null object\n",
      "Signal    52 non-null int64\n",
      "dtypes: int64(1), object(1)\n",
      "memory usage: 912.0+ bytes\n"
     ]
    }
   ],
   "source": [
    "signal_df.info()"
   ]
  },
  {
   "cell_type": "code",
   "execution_count": 9,
   "metadata": {},
   "outputs": [],
   "source": [
    "signal_df['Date']= pd.to_datetime(signal_df['Date'])"
   ]
  },
  {
   "cell_type": "code",
   "execution_count": 10,
   "metadata": {},
   "outputs": [],
   "source": [
    "signal_df.set_index('Date', inplace = True)"
   ]
  },
  {
   "cell_type": "code",
   "execution_count": 11,
   "metadata": {},
   "outputs": [
    {
     "data": {
      "text/html": [
       "<div>\n",
       "<style scoped>\n",
       "    .dataframe tbody tr th:only-of-type {\n",
       "        vertical-align: middle;\n",
       "    }\n",
       "\n",
       "    .dataframe tbody tr th {\n",
       "        vertical-align: top;\n",
       "    }\n",
       "\n",
       "    .dataframe thead th {\n",
       "        text-align: right;\n",
       "    }\n",
       "</style>\n",
       "<table border=\"1\" class=\"dataframe\">\n",
       "  <thead>\n",
       "    <tr style=\"text-align: right;\">\n",
       "      <th></th>\n",
       "      <th>Signal</th>\n",
       "    </tr>\n",
       "    <tr>\n",
       "      <th>Date</th>\n",
       "      <th></th>\n",
       "    </tr>\n",
       "  </thead>\n",
       "  <tbody>\n",
       "    <tr>\n",
       "      <th>2020-07-12</th>\n",
       "      <td>0</td>\n",
       "    </tr>\n",
       "    <tr>\n",
       "      <th>2020-07-19</th>\n",
       "      <td>1</td>\n",
       "    </tr>\n",
       "    <tr>\n",
       "      <th>2020-07-26</th>\n",
       "      <td>1</td>\n",
       "    </tr>\n",
       "    <tr>\n",
       "      <th>2020-08-02</th>\n",
       "      <td>1</td>\n",
       "    </tr>\n",
       "    <tr>\n",
       "      <th>2020-08-09</th>\n",
       "      <td>1</td>\n",
       "    </tr>\n",
       "  </tbody>\n",
       "</table>\n",
       "</div>"
      ],
      "text/plain": [
       "            Signal\n",
       "Date              \n",
       "2020-07-12       0\n",
       "2020-07-19       1\n",
       "2020-07-26       1\n",
       "2020-08-02       1\n",
       "2020-08-09       1"
      ]
     },
     "execution_count": 11,
     "metadata": {},
     "output_type": "execute_result"
    }
   ],
   "source": [
    "signal_df.head()"
   ]
  },
  {
   "cell_type": "code",
   "execution_count": 12,
   "metadata": {},
   "outputs": [
    {
     "name": "stdout",
     "output_type": "stream",
     "text": [
      "<class 'pandas.core.frame.DataFrame'>\n",
      "DatetimeIndex: 52 entries, 2020-07-12 to 2021-07-04\n",
      "Data columns (total 1 columns):\n",
      "Signal    52 non-null int64\n",
      "dtypes: int64(1)\n",
      "memory usage: 832.0 bytes\n"
     ]
    }
   ],
   "source": [
    "signal_df.info()"
   ]
  },
  {
   "cell_type": "code",
   "execution_count": 13,
   "metadata": {},
   "outputs": [
    {
     "data": {
      "text/plain": [
       "'candlesticks_together\\\\2020-07-12.png'"
      ]
     },
     "execution_count": 13,
     "metadata": {},
     "output_type": "execute_result"
    }
   ],
   "source": [
    "filepaths[0]"
   ]
  },
  {
   "cell_type": "code",
   "execution_count": 14,
   "metadata": {},
   "outputs": [],
   "source": [
    "date_list = []\n",
    "for i in filepaths:\n",
    "    #print(i)\n",
    "    dtstr = os.path.split(i)[1].split(\".\")[0]\n",
    "    #print(dtstr)\n",
    "    #print(datetime.datetime.strptime(dtstr, '%Y-%m-%d').date())\n",
    "    date_list.append(datetime.datetime.strptime(dtstr, '%Y-%m-%d').date())\n",
    "    "
   ]
  },
  {
   "cell_type": "code",
   "execution_count": 15,
   "metadata": {},
   "outputs": [
    {
     "data": {
      "text/plain": [
       "[datetime.date(2020, 7, 12),\n",
       " datetime.date(2020, 7, 19),\n",
       " datetime.date(2020, 7, 26),\n",
       " datetime.date(2020, 8, 2),\n",
       " datetime.date(2020, 8, 9),\n",
       " datetime.date(2020, 8, 16),\n",
       " datetime.date(2020, 8, 23),\n",
       " datetime.date(2020, 8, 30),\n",
       " datetime.date(2020, 9, 6),\n",
       " datetime.date(2020, 9, 13),\n",
       " datetime.date(2020, 9, 20),\n",
       " datetime.date(2020, 9, 27),\n",
       " datetime.date(2020, 10, 4),\n",
       " datetime.date(2020, 10, 11),\n",
       " datetime.date(2020, 10, 18),\n",
       " datetime.date(2020, 10, 25),\n",
       " datetime.date(2020, 11, 1),\n",
       " datetime.date(2020, 11, 8),\n",
       " datetime.date(2020, 11, 15),\n",
       " datetime.date(2020, 11, 22),\n",
       " datetime.date(2020, 11, 29),\n",
       " datetime.date(2020, 12, 6),\n",
       " datetime.date(2020, 12, 13),\n",
       " datetime.date(2020, 12, 20),\n",
       " datetime.date(2020, 12, 27),\n",
       " datetime.date(2021, 1, 3),\n",
       " datetime.date(2021, 1, 10),\n",
       " datetime.date(2021, 1, 17),\n",
       " datetime.date(2021, 1, 24),\n",
       " datetime.date(2021, 1, 31),\n",
       " datetime.date(2021, 2, 7),\n",
       " datetime.date(2021, 2, 14),\n",
       " datetime.date(2021, 2, 21),\n",
       " datetime.date(2021, 2, 28),\n",
       " datetime.date(2021, 3, 7),\n",
       " datetime.date(2021, 3, 14),\n",
       " datetime.date(2021, 3, 21),\n",
       " datetime.date(2021, 3, 28),\n",
       " datetime.date(2021, 4, 4),\n",
       " datetime.date(2021, 4, 11),\n",
       " datetime.date(2021, 4, 18),\n",
       " datetime.date(2021, 4, 25),\n",
       " datetime.date(2021, 5, 2),\n",
       " datetime.date(2021, 5, 9),\n",
       " datetime.date(2021, 5, 16),\n",
       " datetime.date(2021, 5, 23),\n",
       " datetime.date(2021, 5, 30),\n",
       " datetime.date(2021, 6, 6),\n",
       " datetime.date(2021, 6, 13),\n",
       " datetime.date(2021, 6, 20),\n",
       " datetime.date(2021, 6, 27),\n",
       " datetime.date(2021, 7, 4)]"
      ]
     },
     "execution_count": 15,
     "metadata": {},
     "output_type": "execute_result"
    }
   ],
   "source": [
    "date_list"
   ]
  },
  {
   "cell_type": "code",
   "execution_count": 16,
   "metadata": {},
   "outputs": [],
   "source": [
    "fn = datetime.datetime.strptime(os.path.split(filepaths[0])[1].split(\".\")[0], '%Y-%m-%d').date()"
   ]
  },
  {
   "cell_type": "code",
   "execution_count": 17,
   "metadata": {},
   "outputs": [
    {
     "data": {
      "text/plain": [
       "datetime.date(2020, 7, 12)"
      ]
     },
     "execution_count": 17,
     "metadata": {},
     "output_type": "execute_result"
    }
   ],
   "source": [
    "fn"
   ]
  },
  {
   "cell_type": "code",
   "execution_count": 18,
   "metadata": {},
   "outputs": [],
   "source": [
    "filename = os.path.split(filepaths[0])[1]"
   ]
  },
  {
   "cell_type": "code",
   "execution_count": 19,
   "metadata": {},
   "outputs": [
    {
     "data": {
      "text/plain": [
       "'2020-07-12.png'"
      ]
     },
     "execution_count": 19,
     "metadata": {},
     "output_type": "execute_result"
    }
   ],
   "source": [
    "filename"
   ]
  },
  {
   "cell_type": "code",
   "execution_count": 20,
   "metadata": {},
   "outputs": [],
   "source": [
    "parts = filename.split(\".\")"
   ]
  },
  {
   "cell_type": "code",
   "execution_count": 21,
   "metadata": {},
   "outputs": [
    {
     "data": {
      "text/plain": [
       "'2020-07-12'"
      ]
     },
     "execution_count": 21,
     "metadata": {},
     "output_type": "execute_result"
    }
   ],
   "source": [
    "parts[0]"
   ]
  },
  {
   "cell_type": "code",
   "execution_count": 22,
   "metadata": {},
   "outputs": [],
   "source": [
    "image_date=datetime.datetime.strptime(parts[0], '%Y-%m-%d').date()"
   ]
  },
  {
   "cell_type": "code",
   "execution_count": 23,
   "metadata": {},
   "outputs": [
    {
     "data": {
      "text/plain": [
       "datetime.date(2020, 7, 12)"
      ]
     },
     "execution_count": 23,
     "metadata": {},
     "output_type": "execute_result"
    }
   ],
   "source": [
    "image_date"
   ]
  },
  {
   "cell_type": "code",
   "execution_count": 24,
   "metadata": {},
   "outputs": [
    {
     "data": {
      "text/plain": [
       "datetime.date"
      ]
     },
     "execution_count": 24,
     "metadata": {},
     "output_type": "execute_result"
    }
   ],
   "source": [
    "type(image_date)"
   ]
  },
  {
   "cell_type": "code",
   "execution_count": 25,
   "metadata": {},
   "outputs": [],
   "source": [
    "images_df = pd.DataFrame()\n",
    "images_df['Date'] = date_list \n",
    "images_df['Filepath'] =  filepaths"
   ]
  },
  {
   "cell_type": "code",
   "execution_count": 26,
   "metadata": {},
   "outputs": [],
   "source": [
    "images_df['Date']= pd.to_datetime(images_df['Date'])"
   ]
  },
  {
   "cell_type": "code",
   "execution_count": 27,
   "metadata": {},
   "outputs": [
    {
     "data": {
      "text/html": [
       "<div>\n",
       "<style scoped>\n",
       "    .dataframe tbody tr th:only-of-type {\n",
       "        vertical-align: middle;\n",
       "    }\n",
       "\n",
       "    .dataframe tbody tr th {\n",
       "        vertical-align: top;\n",
       "    }\n",
       "\n",
       "    .dataframe thead th {\n",
       "        text-align: right;\n",
       "    }\n",
       "</style>\n",
       "<table border=\"1\" class=\"dataframe\">\n",
       "  <thead>\n",
       "    <tr style=\"text-align: right;\">\n",
       "      <th></th>\n",
       "      <th>Date</th>\n",
       "      <th>Filepath</th>\n",
       "    </tr>\n",
       "  </thead>\n",
       "  <tbody>\n",
       "    <tr>\n",
       "      <th>0</th>\n",
       "      <td>2020-07-12</td>\n",
       "      <td>candlesticks_together\\2020-07-12.png</td>\n",
       "    </tr>\n",
       "    <tr>\n",
       "      <th>1</th>\n",
       "      <td>2020-07-19</td>\n",
       "      <td>candlesticks_together\\2020-07-19.png</td>\n",
       "    </tr>\n",
       "    <tr>\n",
       "      <th>2</th>\n",
       "      <td>2020-07-26</td>\n",
       "      <td>candlesticks_together\\2020-07-26.png</td>\n",
       "    </tr>\n",
       "    <tr>\n",
       "      <th>3</th>\n",
       "      <td>2020-08-02</td>\n",
       "      <td>candlesticks_together\\2020-08-02.png</td>\n",
       "    </tr>\n",
       "    <tr>\n",
       "      <th>4</th>\n",
       "      <td>2020-08-09</td>\n",
       "      <td>candlesticks_together\\2020-08-09.png</td>\n",
       "    </tr>\n",
       "  </tbody>\n",
       "</table>\n",
       "</div>"
      ],
      "text/plain": [
       "        Date                              Filepath\n",
       "0 2020-07-12  candlesticks_together\\2020-07-12.png\n",
       "1 2020-07-19  candlesticks_together\\2020-07-19.png\n",
       "2 2020-07-26  candlesticks_together\\2020-07-26.png\n",
       "3 2020-08-02  candlesticks_together\\2020-08-02.png\n",
       "4 2020-08-09  candlesticks_together\\2020-08-09.png"
      ]
     },
     "execution_count": 27,
     "metadata": {},
     "output_type": "execute_result"
    }
   ],
   "source": [
    "images_df.head()"
   ]
  },
  {
   "cell_type": "code",
   "execution_count": 28,
   "metadata": {},
   "outputs": [],
   "source": [
    "images_df.set_index('Date', inplace=True)"
   ]
  },
  {
   "cell_type": "code",
   "execution_count": 29,
   "metadata": {},
   "outputs": [
    {
     "data": {
      "text/html": [
       "<div>\n",
       "<style scoped>\n",
       "    .dataframe tbody tr th:only-of-type {\n",
       "        vertical-align: middle;\n",
       "    }\n",
       "\n",
       "    .dataframe tbody tr th {\n",
       "        vertical-align: top;\n",
       "    }\n",
       "\n",
       "    .dataframe thead th {\n",
       "        text-align: right;\n",
       "    }\n",
       "</style>\n",
       "<table border=\"1\" class=\"dataframe\">\n",
       "  <thead>\n",
       "    <tr style=\"text-align: right;\">\n",
       "      <th></th>\n",
       "      <th>Filepath</th>\n",
       "    </tr>\n",
       "    <tr>\n",
       "      <th>Date</th>\n",
       "      <th></th>\n",
       "    </tr>\n",
       "  </thead>\n",
       "  <tbody>\n",
       "    <tr>\n",
       "      <th>2020-07-12</th>\n",
       "      <td>candlesticks_together\\2020-07-12.png</td>\n",
       "    </tr>\n",
       "    <tr>\n",
       "      <th>2020-07-19</th>\n",
       "      <td>candlesticks_together\\2020-07-19.png</td>\n",
       "    </tr>\n",
       "    <tr>\n",
       "      <th>2020-07-26</th>\n",
       "      <td>candlesticks_together\\2020-07-26.png</td>\n",
       "    </tr>\n",
       "    <tr>\n",
       "      <th>2020-08-02</th>\n",
       "      <td>candlesticks_together\\2020-08-02.png</td>\n",
       "    </tr>\n",
       "    <tr>\n",
       "      <th>2020-08-09</th>\n",
       "      <td>candlesticks_together\\2020-08-09.png</td>\n",
       "    </tr>\n",
       "  </tbody>\n",
       "</table>\n",
       "</div>"
      ],
      "text/plain": [
       "                                        Filepath\n",
       "Date                                            \n",
       "2020-07-12  candlesticks_together\\2020-07-12.png\n",
       "2020-07-19  candlesticks_together\\2020-07-19.png\n",
       "2020-07-26  candlesticks_together\\2020-07-26.png\n",
       "2020-08-02  candlesticks_together\\2020-08-02.png\n",
       "2020-08-09  candlesticks_together\\2020-08-09.png"
      ]
     },
     "execution_count": 29,
     "metadata": {},
     "output_type": "execute_result"
    }
   ],
   "source": [
    "images_df.head()"
   ]
  },
  {
   "cell_type": "code",
   "execution_count": 30,
   "metadata": {},
   "outputs": [
    {
     "data": {
      "text/plain": [
       "DatetimeIndex(['2020-07-12', '2020-07-19', '2020-07-26', '2020-08-02',\n",
       "               '2020-08-09', '2020-08-16', '2020-08-23', '2020-08-30',\n",
       "               '2020-09-06', '2020-09-13', '2020-09-20', '2020-09-27',\n",
       "               '2020-10-04', '2020-10-11', '2020-10-18', '2020-10-25',\n",
       "               '2020-11-01', '2020-11-08', '2020-11-15', '2020-11-22',\n",
       "               '2020-11-29', '2020-12-06', '2020-12-13', '2020-12-20',\n",
       "               '2020-12-27', '2021-01-03', '2021-01-10', '2021-01-17',\n",
       "               '2021-01-24', '2021-01-31', '2021-02-07', '2021-02-14',\n",
       "               '2021-02-21', '2021-02-28', '2021-03-07', '2021-03-14',\n",
       "               '2021-03-21', '2021-03-28', '2021-04-04', '2021-04-11',\n",
       "               '2021-04-18', '2021-04-25', '2021-05-02', '2021-05-09',\n",
       "               '2021-05-16', '2021-05-23', '2021-05-30', '2021-06-06',\n",
       "               '2021-06-13', '2021-06-20', '2021-06-27', '2021-07-04'],\n",
       "              dtype='datetime64[ns]', name='Date', freq=None)"
      ]
     },
     "execution_count": 30,
     "metadata": {},
     "output_type": "execute_result"
    }
   ],
   "source": [
    "images_df.index"
   ]
  },
  {
   "cell_type": "code",
   "execution_count": 31,
   "metadata": {},
   "outputs": [],
   "source": [
    "images = pd.concat([images_df,signal_df], join='inner', axis=1)"
   ]
  },
  {
   "cell_type": "code",
   "execution_count": 32,
   "metadata": {},
   "outputs": [
    {
     "data": {
      "text/html": [
       "<div>\n",
       "<style scoped>\n",
       "    .dataframe tbody tr th:only-of-type {\n",
       "        vertical-align: middle;\n",
       "    }\n",
       "\n",
       "    .dataframe tbody tr th {\n",
       "        vertical-align: top;\n",
       "    }\n",
       "\n",
       "    .dataframe thead th {\n",
       "        text-align: right;\n",
       "    }\n",
       "</style>\n",
       "<table border=\"1\" class=\"dataframe\">\n",
       "  <thead>\n",
       "    <tr style=\"text-align: right;\">\n",
       "      <th></th>\n",
       "      <th>Filepath</th>\n",
       "      <th>Signal</th>\n",
       "    </tr>\n",
       "    <tr>\n",
       "      <th>Date</th>\n",
       "      <th></th>\n",
       "      <th></th>\n",
       "    </tr>\n",
       "  </thead>\n",
       "  <tbody>\n",
       "    <tr>\n",
       "      <th>2020-07-12</th>\n",
       "      <td>candlesticks_together\\2020-07-12.png</td>\n",
       "      <td>0</td>\n",
       "    </tr>\n",
       "    <tr>\n",
       "      <th>2020-07-19</th>\n",
       "      <td>candlesticks_together\\2020-07-19.png</td>\n",
       "      <td>1</td>\n",
       "    </tr>\n",
       "    <tr>\n",
       "      <th>2020-07-26</th>\n",
       "      <td>candlesticks_together\\2020-07-26.png</td>\n",
       "      <td>1</td>\n",
       "    </tr>\n",
       "    <tr>\n",
       "      <th>2020-08-02</th>\n",
       "      <td>candlesticks_together\\2020-08-02.png</td>\n",
       "      <td>1</td>\n",
       "    </tr>\n",
       "    <tr>\n",
       "      <th>2020-08-09</th>\n",
       "      <td>candlesticks_together\\2020-08-09.png</td>\n",
       "      <td>1</td>\n",
       "    </tr>\n",
       "    <tr>\n",
       "      <th>2020-08-16</th>\n",
       "      <td>candlesticks_together\\2020-08-16.png</td>\n",
       "      <td>0</td>\n",
       "    </tr>\n",
       "    <tr>\n",
       "      <th>2020-08-23</th>\n",
       "      <td>candlesticks_together\\2020-08-23.png</td>\n",
       "      <td>1</td>\n",
       "    </tr>\n",
       "    <tr>\n",
       "      <th>2020-08-30</th>\n",
       "      <td>candlesticks_together\\2020-08-30.png</td>\n",
       "      <td>1</td>\n",
       "    </tr>\n",
       "    <tr>\n",
       "      <th>2020-09-06</th>\n",
       "      <td>candlesticks_together\\2020-09-06.png</td>\n",
       "      <td>0</td>\n",
       "    </tr>\n",
       "    <tr>\n",
       "      <th>2020-09-13</th>\n",
       "      <td>candlesticks_together\\2020-09-13.png</td>\n",
       "      <td>1</td>\n",
       "    </tr>\n",
       "  </tbody>\n",
       "</table>\n",
       "</div>"
      ],
      "text/plain": [
       "                                        Filepath  Signal\n",
       "Date                                                    \n",
       "2020-07-12  candlesticks_together\\2020-07-12.png       0\n",
       "2020-07-19  candlesticks_together\\2020-07-19.png       1\n",
       "2020-07-26  candlesticks_together\\2020-07-26.png       1\n",
       "2020-08-02  candlesticks_together\\2020-08-02.png       1\n",
       "2020-08-09  candlesticks_together\\2020-08-09.png       1\n",
       "2020-08-16  candlesticks_together\\2020-08-16.png       0\n",
       "2020-08-23  candlesticks_together\\2020-08-23.png       1\n",
       "2020-08-30  candlesticks_together\\2020-08-30.png       1\n",
       "2020-09-06  candlesticks_together\\2020-09-06.png       0\n",
       "2020-09-13  candlesticks_together\\2020-09-13.png       1"
      ]
     },
     "execution_count": 32,
     "metadata": {},
     "output_type": "execute_result"
    }
   ],
   "source": [
    "images.head(10)"
   ]
  },
  {
   "cell_type": "code",
   "execution_count": 33,
   "metadata": {},
   "outputs": [],
   "source": [
    "# Let's only use 40 images to speed up training time\n",
    "image_df = images.sample(40, random_state=1).reset_index(drop=True)\n",
    "train_df, test_df = train_test_split(image_df, train_size=0.7, shuffle=True, random_state=1)"
   ]
  },
  {
   "cell_type": "code",
   "execution_count": 34,
   "metadata": {},
   "outputs": [
    {
     "data": {
      "text/html": [
       "<div>\n",
       "<style scoped>\n",
       "    .dataframe tbody tr th:only-of-type {\n",
       "        vertical-align: middle;\n",
       "    }\n",
       "\n",
       "    .dataframe tbody tr th {\n",
       "        vertical-align: top;\n",
       "    }\n",
       "\n",
       "    .dataframe thead th {\n",
       "        text-align: right;\n",
       "    }\n",
       "</style>\n",
       "<table border=\"1\" class=\"dataframe\">\n",
       "  <thead>\n",
       "    <tr style=\"text-align: right;\">\n",
       "      <th></th>\n",
       "      <th>Filepath</th>\n",
       "      <th>Signal</th>\n",
       "    </tr>\n",
       "  </thead>\n",
       "  <tbody>\n",
       "    <tr>\n",
       "      <th>30</th>\n",
       "      <td>candlesticks_together\\2020-10-18.png</td>\n",
       "      <td>0</td>\n",
       "    </tr>\n",
       "    <tr>\n",
       "      <th>36</th>\n",
       "      <td>candlesticks_together\\2020-11-29.png</td>\n",
       "      <td>1</td>\n",
       "    </tr>\n",
       "    <tr>\n",
       "      <th>33</th>\n",
       "      <td>candlesticks_together\\2021-05-30.png</td>\n",
       "      <td>0</td>\n",
       "    </tr>\n",
       "    <tr>\n",
       "      <th>28</th>\n",
       "      <td>candlesticks_together\\2020-08-09.png</td>\n",
       "      <td>1</td>\n",
       "    </tr>\n",
       "    <tr>\n",
       "      <th>4</th>\n",
       "      <td>candlesticks_together\\2021-02-07.png</td>\n",
       "      <td>1</td>\n",
       "    </tr>\n",
       "  </tbody>\n",
       "</table>\n",
       "</div>"
      ],
      "text/plain": [
       "                                Filepath  Signal\n",
       "30  candlesticks_together\\2020-10-18.png       0\n",
       "36  candlesticks_together\\2020-11-29.png       1\n",
       "33  candlesticks_together\\2021-05-30.png       0\n",
       "28  candlesticks_together\\2020-08-09.png       1\n",
       "4   candlesticks_together\\2021-02-07.png       1"
      ]
     },
     "execution_count": 34,
     "metadata": {},
     "output_type": "execute_result"
    }
   ],
   "source": [
    "train_df.head()"
   ]
  },
  {
   "cell_type": "code",
   "execution_count": 35,
   "metadata": {},
   "outputs": [
    {
     "data": {
      "text/html": [
       "<div>\n",
       "<style scoped>\n",
       "    .dataframe tbody tr th:only-of-type {\n",
       "        vertical-align: middle;\n",
       "    }\n",
       "\n",
       "    .dataframe tbody tr th {\n",
       "        vertical-align: top;\n",
       "    }\n",
       "\n",
       "    .dataframe thead th {\n",
       "        text-align: right;\n",
       "    }\n",
       "</style>\n",
       "<table border=\"1\" class=\"dataframe\">\n",
       "  <thead>\n",
       "    <tr style=\"text-align: right;\">\n",
       "      <th></th>\n",
       "      <th>Filepath</th>\n",
       "      <th>Signal</th>\n",
       "    </tr>\n",
       "  </thead>\n",
       "  <tbody>\n",
       "    <tr>\n",
       "      <th>2</th>\n",
       "      <td>candlesticks_together\\2021-05-02.png</td>\n",
       "      <td>1</td>\n",
       "    </tr>\n",
       "    <tr>\n",
       "      <th>31</th>\n",
       "      <td>candlesticks_together\\2021-01-31.png</td>\n",
       "      <td>1</td>\n",
       "    </tr>\n",
       "    <tr>\n",
       "      <th>3</th>\n",
       "      <td>candlesticks_together\\2021-02-21.png</td>\n",
       "      <td>0</td>\n",
       "    </tr>\n",
       "    <tr>\n",
       "      <th>21</th>\n",
       "      <td>candlesticks_together\\2020-10-11.png</td>\n",
       "      <td>1</td>\n",
       "    </tr>\n",
       "    <tr>\n",
       "      <th>27</th>\n",
       "      <td>candlesticks_together\\2020-12-20.png</td>\n",
       "      <td>1</td>\n",
       "    </tr>\n",
       "  </tbody>\n",
       "</table>\n",
       "</div>"
      ],
      "text/plain": [
       "                                Filepath  Signal\n",
       "2   candlesticks_together\\2021-05-02.png       1\n",
       "31  candlesticks_together\\2021-01-31.png       1\n",
       "3   candlesticks_together\\2021-02-21.png       0\n",
       "21  candlesticks_together\\2020-10-11.png       1\n",
       "27  candlesticks_together\\2020-12-20.png       1"
      ]
     },
     "execution_count": 35,
     "metadata": {},
     "output_type": "execute_result"
    }
   ],
   "source": [
    "test_df.head()"
   ]
  },
  {
   "cell_type": "markdown",
   "metadata": {},
   "source": [
    "### Loading Images"
   ]
  },
  {
   "cell_type": "code",
   "execution_count": 36,
   "metadata": {},
   "outputs": [],
   "source": [
    "train_generator = tf.keras.preprocessing.image.ImageDataGenerator(\n",
    "    rescale=1./255,\n",
    "    validation_split=0.2\n",
    ")\n",
    "\n",
    "test_generator = tf.keras.preprocessing.image.ImageDataGenerator(\n",
    "    rescale=1./255\n",
    ")"
   ]
  },
  {
   "cell_type": "code",
   "execution_count": 37,
   "metadata": {},
   "outputs": [
    {
     "data": {
      "text/html": [
       "<div>\n",
       "<style scoped>\n",
       "    .dataframe tbody tr th:only-of-type {\n",
       "        vertical-align: middle;\n",
       "    }\n",
       "\n",
       "    .dataframe tbody tr th {\n",
       "        vertical-align: top;\n",
       "    }\n",
       "\n",
       "    .dataframe thead th {\n",
       "        text-align: right;\n",
       "    }\n",
       "</style>\n",
       "<table border=\"1\" class=\"dataframe\">\n",
       "  <thead>\n",
       "    <tr style=\"text-align: right;\">\n",
       "      <th></th>\n",
       "      <th>Filepath</th>\n",
       "      <th>Signal</th>\n",
       "    </tr>\n",
       "  </thead>\n",
       "  <tbody>\n",
       "    <tr>\n",
       "      <th>30</th>\n",
       "      <td>candlesticks_together\\2020-10-18.png</td>\n",
       "      <td>0</td>\n",
       "    </tr>\n",
       "    <tr>\n",
       "      <th>36</th>\n",
       "      <td>candlesticks_together\\2020-11-29.png</td>\n",
       "      <td>1</td>\n",
       "    </tr>\n",
       "    <tr>\n",
       "      <th>33</th>\n",
       "      <td>candlesticks_together\\2021-05-30.png</td>\n",
       "      <td>0</td>\n",
       "    </tr>\n",
       "    <tr>\n",
       "      <th>28</th>\n",
       "      <td>candlesticks_together\\2020-08-09.png</td>\n",
       "      <td>1</td>\n",
       "    </tr>\n",
       "    <tr>\n",
       "      <th>4</th>\n",
       "      <td>candlesticks_together\\2021-02-07.png</td>\n",
       "      <td>1</td>\n",
       "    </tr>\n",
       "    <tr>\n",
       "      <th>14</th>\n",
       "      <td>candlesticks_together\\2020-12-27.png</td>\n",
       "      <td>1</td>\n",
       "    </tr>\n",
       "    <tr>\n",
       "      <th>10</th>\n",
       "      <td>candlesticks_together\\2020-09-20.png</td>\n",
       "      <td>1</td>\n",
       "    </tr>\n",
       "    <tr>\n",
       "      <th>35</th>\n",
       "      <td>candlesticks_together\\2020-11-15.png</td>\n",
       "      <td>1</td>\n",
       "    </tr>\n",
       "    <tr>\n",
       "      <th>23</th>\n",
       "      <td>candlesticks_together\\2021-01-10.png</td>\n",
       "      <td>0</td>\n",
       "    </tr>\n",
       "    <tr>\n",
       "      <th>24</th>\n",
       "      <td>candlesticks_together\\2020-11-08.png</td>\n",
       "      <td>0</td>\n",
       "    </tr>\n",
       "    <tr>\n",
       "      <th>34</th>\n",
       "      <td>candlesticks_together\\2021-03-21.png</td>\n",
       "      <td>1</td>\n",
       "    </tr>\n",
       "    <tr>\n",
       "      <th>20</th>\n",
       "      <td>candlesticks_together\\2021-07-04.png</td>\n",
       "      <td>1</td>\n",
       "    </tr>\n",
       "    <tr>\n",
       "      <th>18</th>\n",
       "      <td>candlesticks_together\\2021-04-11.png</td>\n",
       "      <td>0</td>\n",
       "    </tr>\n",
       "    <tr>\n",
       "      <th>25</th>\n",
       "      <td>candlesticks_together\\2021-06-06.png</td>\n",
       "      <td>1</td>\n",
       "    </tr>\n",
       "    <tr>\n",
       "      <th>6</th>\n",
       "      <td>candlesticks_together\\2021-02-28.png</td>\n",
       "      <td>1</td>\n",
       "    </tr>\n",
       "    <tr>\n",
       "      <th>13</th>\n",
       "      <td>candlesticks_together\\2021-06-13.png</td>\n",
       "      <td>1</td>\n",
       "    </tr>\n",
       "    <tr>\n",
       "      <th>7</th>\n",
       "      <td>candlesticks_together\\2021-04-04.png</td>\n",
       "      <td>1</td>\n",
       "    </tr>\n",
       "    <tr>\n",
       "      <th>38</th>\n",
       "      <td>candlesticks_together\\2020-08-23.png</td>\n",
       "      <td>1</td>\n",
       "    </tr>\n",
       "    <tr>\n",
       "      <th>1</th>\n",
       "      <td>candlesticks_together\\2020-07-26.png</td>\n",
       "      <td>1</td>\n",
       "    </tr>\n",
       "    <tr>\n",
       "      <th>16</th>\n",
       "      <td>candlesticks_together\\2020-12-13.png</td>\n",
       "      <td>0</td>\n",
       "    </tr>\n",
       "    <tr>\n",
       "      <th>0</th>\n",
       "      <td>candlesticks_together\\2021-02-14.png</td>\n",
       "      <td>0</td>\n",
       "    </tr>\n",
       "    <tr>\n",
       "      <th>15</th>\n",
       "      <td>candlesticks_together\\2021-04-18.png</td>\n",
       "      <td>1</td>\n",
       "    </tr>\n",
       "    <tr>\n",
       "      <th>5</th>\n",
       "      <td>candlesticks_together\\2021-05-23.png</td>\n",
       "      <td>1</td>\n",
       "    </tr>\n",
       "    <tr>\n",
       "      <th>11</th>\n",
       "      <td>candlesticks_together\\2020-08-02.png</td>\n",
       "      <td>1</td>\n",
       "    </tr>\n",
       "    <tr>\n",
       "      <th>9</th>\n",
       "      <td>candlesticks_together\\2020-11-22.png</td>\n",
       "      <td>0</td>\n",
       "    </tr>\n",
       "    <tr>\n",
       "      <th>8</th>\n",
       "      <td>candlesticks_together\\2021-05-16.png</td>\n",
       "      <td>0</td>\n",
       "    </tr>\n",
       "    <tr>\n",
       "      <th>12</th>\n",
       "      <td>candlesticks_together\\2020-12-06.png</td>\n",
       "      <td>1</td>\n",
       "    </tr>\n",
       "    <tr>\n",
       "      <th>37</th>\n",
       "      <td>candlesticks_together\\2021-01-03.png</td>\n",
       "      <td>0</td>\n",
       "    </tr>\n",
       "  </tbody>\n",
       "</table>\n",
       "</div>"
      ],
      "text/plain": [
       "                                Filepath  Signal\n",
       "30  candlesticks_together\\2020-10-18.png       0\n",
       "36  candlesticks_together\\2020-11-29.png       1\n",
       "33  candlesticks_together\\2021-05-30.png       0\n",
       "28  candlesticks_together\\2020-08-09.png       1\n",
       "4   candlesticks_together\\2021-02-07.png       1\n",
       "14  candlesticks_together\\2020-12-27.png       1\n",
       "10  candlesticks_together\\2020-09-20.png       1\n",
       "35  candlesticks_together\\2020-11-15.png       1\n",
       "23  candlesticks_together\\2021-01-10.png       0\n",
       "24  candlesticks_together\\2020-11-08.png       0\n",
       "34  candlesticks_together\\2021-03-21.png       1\n",
       "20  candlesticks_together\\2021-07-04.png       1\n",
       "18  candlesticks_together\\2021-04-11.png       0\n",
       "25  candlesticks_together\\2021-06-06.png       1\n",
       "6   candlesticks_together\\2021-02-28.png       1\n",
       "13  candlesticks_together\\2021-06-13.png       1\n",
       "7   candlesticks_together\\2021-04-04.png       1\n",
       "38  candlesticks_together\\2020-08-23.png       1\n",
       "1   candlesticks_together\\2020-07-26.png       1\n",
       "16  candlesticks_together\\2020-12-13.png       0\n",
       "0   candlesticks_together\\2021-02-14.png       0\n",
       "15  candlesticks_together\\2021-04-18.png       1\n",
       "5   candlesticks_together\\2021-05-23.png       1\n",
       "11  candlesticks_together\\2020-08-02.png       1\n",
       "9   candlesticks_together\\2020-11-22.png       0\n",
       "8   candlesticks_together\\2021-05-16.png       0\n",
       "12  candlesticks_together\\2020-12-06.png       1\n",
       "37  candlesticks_together\\2021-01-03.png       0"
      ]
     },
     "execution_count": 37,
     "metadata": {},
     "output_type": "execute_result"
    }
   ],
   "source": [
    "train_df"
   ]
  },
  {
   "cell_type": "markdown",
   "metadata": {},
   "source": [
    "#### Create image generator\n",
    "Keras ImageDataGenerator can work with dataframe of file names. Our train, validation and test dataframes contain file name in id column and ImageDataGenerator can understand id."
   ]
  },
  {
   "cell_type": "code",
   "execution_count": 38,
   "metadata": {},
   "outputs": [
    {
     "name": "stdout",
     "output_type": "stream",
     "text": [
      "Found 23 validated image filenames.\n",
      "Found 5 validated image filenames.\n",
      "Found 12 validated image filenames.\n"
     ]
    }
   ],
   "source": [
    "train_images = train_generator.flow_from_dataframe(\n",
    "    dataframe=train_df,\n",
    "    x_col='Filepath',\n",
    "    y_col='Signal',\n",
    "    target_size=(120, 120),\n",
    "    color_mode='rgb',\n",
    "    class_mode='raw',\n",
    "    batch_size=32,\n",
    "    shuffle=True,\n",
    "    seed=42,\n",
    "    subset='training'\n",
    ")\n",
    "\n",
    "val_images = train_generator.flow_from_dataframe(\n",
    "    dataframe=train_df,\n",
    "    x_col='Filepath',\n",
    "    y_col='Signal',\n",
    "    target_size=(120, 120),\n",
    "    color_mode='rgb',\n",
    "    class_mode='raw',\n",
    "    batch_size=32,\n",
    "    shuffle=True,\n",
    "    seed=42,\n",
    "    subset='validation'\n",
    ")\n",
    "\n",
    "test_images = test_generator.flow_from_dataframe(\n",
    "    dataframe=test_df,\n",
    "    x_col='Filepath',\n",
    "    y_col='Signal',\n",
    "    target_size=(120, 120),\n",
    "    color_mode='rgb',\n",
    "    class_mode='raw',\n",
    "    batch_size=32,\n",
    "    shuffle=False\n",
    ")"
   ]
  },
  {
   "cell_type": "markdown",
   "metadata": {},
   "source": [
    "### Training"
   ]
  },
  {
   "cell_type": "code",
   "execution_count": 39,
   "metadata": {},
   "outputs": [
    {
     "name": "stdout",
     "output_type": "stream",
     "text": [
      "Epoch 1/100\n",
      "1/1 [==============================] - 2s 2s/step - loss: 0.6435 - val_loss: 0.5774\n",
      "Epoch 2/100\n",
      "1/1 [==============================] - 0s 320ms/step - loss: 0.6274 - val_loss: 0.5633\n",
      "Epoch 3/100\n",
      "1/1 [==============================] - 1s 852ms/step - loss: 0.6118 - val_loss: 0.5494\n",
      "Epoch 4/100\n",
      "1/1 [==============================] - 0s 463ms/step - loss: 0.5963 - val_loss: 0.5343\n",
      "Epoch 5/100\n",
      "1/1 [==============================] - 0s 378ms/step - loss: 0.5797 - val_loss: 0.5184\n",
      "Epoch 6/100\n",
      "1/1 [==============================] - 0s 386ms/step - loss: 0.5618 - val_loss: 0.5010\n",
      "Epoch 7/100\n",
      "1/1 [==============================] - 0s 382ms/step - loss: 0.5423 - val_loss: 0.4825\n",
      "Epoch 8/100\n",
      "1/1 [==============================] - 0s 328ms/step - loss: 0.5214 - val_loss: 0.4629\n",
      "Epoch 9/100\n",
      "1/1 [==============================] - 0s 347ms/step - loss: 0.4989 - val_loss: 0.4422\n",
      "Epoch 10/100\n",
      "1/1 [==============================] - 0s 325ms/step - loss: 0.4750 - val_loss: 0.4207\n",
      "Epoch 11/100\n",
      "1/1 [==============================] - 0s 418ms/step - loss: 0.4497 - val_loss: 0.3985\n",
      "Epoch 12/100\n",
      "1/1 [==============================] - 0s 427ms/step - loss: 0.4232 - val_loss: 0.3763\n",
      "Epoch 13/100\n",
      "1/1 [==============================] - 1s 632ms/step - loss: 0.3957 - val_loss: 0.3544\n",
      "Epoch 14/100\n",
      "1/1 [==============================] - 1s 870ms/step - loss: 0.3677 - val_loss: 0.3339\n",
      "Epoch 15/100\n",
      "1/1 [==============================] - 1s 599ms/step - loss: 0.3398 - val_loss: 0.3156\n",
      "Epoch 16/100\n",
      "1/1 [==============================] - 0s 296ms/step - loss: 0.3129 - val_loss: 0.3012\n",
      "Epoch 17/100\n",
      "1/1 [==============================] - 0s 295ms/step - loss: 0.2882 - val_loss: 0.2921\n",
      "Epoch 18/100\n",
      "1/1 [==============================] - 0s 368ms/step - loss: 0.2672 - val_loss: 0.2906\n",
      "Epoch 19/100\n",
      "1/1 [==============================] - 1s 567ms/step - loss: 0.2517 - val_loss: 0.2986\n",
      "Epoch 20/100\n",
      "1/1 [==============================] - 0s 367ms/step - loss: 0.2437 - val_loss: 0.3167\n",
      "Epoch 21/100\n",
      "1/1 [==============================] - 0s 431ms/step - loss: 0.2446 - val_loss: 0.3421\n",
      "Epoch 22/100\n",
      "1/1 [==============================] - 0s 350ms/step - loss: 0.2533 - val_loss: 0.3675\n",
      "Epoch 23/100\n",
      "1/1 [==============================] - 0s 414ms/step - loss: 0.2655 - val_loss: 0.3848\n"
     ]
    }
   ],
   "source": [
    "inputs = tf.keras.Input(shape=(120, 120, 3))\n",
    "x = tf.keras.layers.Conv2D(filters=16, kernel_size=(3, 3), activation='relu')(inputs)\n",
    "x = tf.keras.layers.MaxPool2D()(x)\n",
    "x = tf.keras.layers.Conv2D(filters=32, kernel_size=(3, 3), activation='relu')(x)\n",
    "x = tf.keras.layers.MaxPool2D()(x)\n",
    "x = tf.keras.layers.GlobalAveragePooling2D()(x)\n",
    "x = tf.keras.layers.Dense(64, activation='relu')(x)\n",
    "x = tf.keras.layers.Dense(64, activation='relu')(x)\n",
    "outputs = tf.keras.layers.Dense(1, activation='linear')(x)\n",
    "\n",
    "model = tf.keras.Model(inputs=inputs, outputs=outputs)\n",
    "\n",
    "model.compile(\n",
    "    optimizer='adam',\n",
    "    loss='mse'\n",
    ")\n",
    "\n",
    "history = model.fit(\n",
    "    train_images,\n",
    "    validation_data=val_images,\n",
    "    epochs=100,\n",
    "    callbacks=[\n",
    "        tf.keras.callbacks.EarlyStopping(\n",
    "            monitor='val_loss',\n",
    "            patience=5,\n",
    "            restore_best_weights=True\n",
    "        )\n",
    "    ]\n",
    ")"
   ]
  },
  {
   "cell_type": "markdown",
   "metadata": {},
   "source": [
    "### Results"
   ]
  },
  {
   "cell_type": "code",
   "execution_count": 40,
   "metadata": {},
   "outputs": [
    {
     "name": "stdout",
     "output_type": "stream",
     "text": [
      "     Test RMSE: 0.44792\n",
      "Test R^2 Score: -0.44452\n"
     ]
    }
   ],
   "source": [
    "predicted_signals = np.squeeze(model.predict(test_images))\n",
    "true_signals = test_images.labels\n",
    "\n",
    "rmse = np.sqrt(model.evaluate(test_images, verbose=0))\n",
    "print(\"     Test RMSE: {:.5f}\".format(rmse))\n",
    "\n",
    "r2 = r2_score(true_signals, predicted_signals)\n",
    "print(\"Test R^2 Score: {:.5f}\".format(r2))"
   ]
  },
  {
   "cell_type": "code",
   "execution_count": 41,
   "metadata": {},
   "outputs": [
    {
     "name": "stdout",
     "output_type": "stream",
     "text": [
      "Null/Baseline Model Test RMSE: 0.37268\n"
     ]
    }
   ],
   "source": [
    "null_rmse = np.sqrt(np.sum((true_signals - np.mean(true_signals))**2) / len(true_signals))\n",
    "print(\"Null/Baseline Model Test RMSE: {:.5f}\".format(null_rmse))"
   ]
  },
  {
   "cell_type": "markdown",
   "metadata": {},
   "source": [
    "## We can see that our model is not even better than the null/baseline model (predict mean every time)!"
   ]
  },
  {
   "cell_type": "code",
   "execution_count": 42,
   "metadata": {},
   "outputs": [
    {
     "data": {
      "text/plain": [
       "array([1, 1, 0, 1, 1, 1, 1, 1, 0, 1, 1, 1], dtype=int64)"
      ]
     },
     "execution_count": 42,
     "metadata": {},
     "output_type": "execute_result"
    }
   ],
   "source": [
    "true_signals"
   ]
  },
  {
   "cell_type": "code",
   "execution_count": 43,
   "metadata": {},
   "outputs": [
    {
     "data": {
      "text/plain": [
       "array([0.5935192 , 0.5282484 , 0.5110016 , 0.6564819 , 0.52291375,\n",
       "       0.6510692 , 0.5110799 , 0.65157324, 0.5873675 , 0.62662226,\n",
       "       0.43999246, 0.63557464], dtype=float32)"
      ]
     },
     "execution_count": 43,
     "metadata": {},
     "output_type": "execute_result"
    }
   ],
   "source": [
    "predicted_signals"
   ]
  },
  {
   "cell_type": "code",
   "execution_count": 44,
   "metadata": {},
   "outputs": [
    {
     "data": {
      "text/plain": [
       "12"
      ]
     },
     "execution_count": 44,
     "metadata": {},
     "output_type": "execute_result"
    }
   ],
   "source": [
    "len(true_signals)"
   ]
  },
  {
   "cell_type": "code",
   "execution_count": 45,
   "metadata": {},
   "outputs": [
    {
     "data": {
      "text/plain": [
       "12"
      ]
     },
     "execution_count": 45,
     "metadata": {},
     "output_type": "execute_result"
    }
   ],
   "source": [
    "len(predicted_signals)"
   ]
  },
  {
   "cell_type": "code",
   "execution_count": 46,
   "metadata": {},
   "outputs": [],
   "source": [
    "final_predictions_df = pd.DataFrame()\n",
    "final_predictions_df['Actual'] = true_signals\n",
    "final_predictions_df['Predicted'] =  predicted_signals"
   ]
  },
  {
   "cell_type": "code",
   "execution_count": 47,
   "metadata": {},
   "outputs": [
    {
     "data": {
      "text/html": [
       "<div>\n",
       "<style scoped>\n",
       "    .dataframe tbody tr th:only-of-type {\n",
       "        vertical-align: middle;\n",
       "    }\n",
       "\n",
       "    .dataframe tbody tr th {\n",
       "        vertical-align: top;\n",
       "    }\n",
       "\n",
       "    .dataframe thead th {\n",
       "        text-align: right;\n",
       "    }\n",
       "</style>\n",
       "<table border=\"1\" class=\"dataframe\">\n",
       "  <thead>\n",
       "    <tr style=\"text-align: right;\">\n",
       "      <th></th>\n",
       "      <th>Actual</th>\n",
       "      <th>Predicted</th>\n",
       "    </tr>\n",
       "  </thead>\n",
       "  <tbody>\n",
       "    <tr>\n",
       "      <th>0</th>\n",
       "      <td>1</td>\n",
       "      <td>0.593519</td>\n",
       "    </tr>\n",
       "    <tr>\n",
       "      <th>1</th>\n",
       "      <td>1</td>\n",
       "      <td>0.528248</td>\n",
       "    </tr>\n",
       "    <tr>\n",
       "      <th>2</th>\n",
       "      <td>0</td>\n",
       "      <td>0.511002</td>\n",
       "    </tr>\n",
       "    <tr>\n",
       "      <th>3</th>\n",
       "      <td>1</td>\n",
       "      <td>0.656482</td>\n",
       "    </tr>\n",
       "    <tr>\n",
       "      <th>4</th>\n",
       "      <td>1</td>\n",
       "      <td>0.522914</td>\n",
       "    </tr>\n",
       "    <tr>\n",
       "      <th>5</th>\n",
       "      <td>1</td>\n",
       "      <td>0.651069</td>\n",
       "    </tr>\n",
       "    <tr>\n",
       "      <th>6</th>\n",
       "      <td>1</td>\n",
       "      <td>0.511080</td>\n",
       "    </tr>\n",
       "    <tr>\n",
       "      <th>7</th>\n",
       "      <td>1</td>\n",
       "      <td>0.651573</td>\n",
       "    </tr>\n",
       "    <tr>\n",
       "      <th>8</th>\n",
       "      <td>0</td>\n",
       "      <td>0.587367</td>\n",
       "    </tr>\n",
       "    <tr>\n",
       "      <th>9</th>\n",
       "      <td>1</td>\n",
       "      <td>0.626622</td>\n",
       "    </tr>\n",
       "    <tr>\n",
       "      <th>10</th>\n",
       "      <td>1</td>\n",
       "      <td>0.439992</td>\n",
       "    </tr>\n",
       "    <tr>\n",
       "      <th>11</th>\n",
       "      <td>1</td>\n",
       "      <td>0.635575</td>\n",
       "    </tr>\n",
       "  </tbody>\n",
       "</table>\n",
       "</div>"
      ],
      "text/plain": [
       "    Actual  Predicted\n",
       "0        1   0.593519\n",
       "1        1   0.528248\n",
       "2        0   0.511002\n",
       "3        1   0.656482\n",
       "4        1   0.522914\n",
       "5        1   0.651069\n",
       "6        1   0.511080\n",
       "7        1   0.651573\n",
       "8        0   0.587367\n",
       "9        1   0.626622\n",
       "10       1   0.439992\n",
       "11       1   0.635575"
      ]
     },
     "execution_count": 47,
     "metadata": {},
     "output_type": "execute_result"
    }
   ],
   "source": [
    "final_predictions_df"
   ]
  },
  {
   "cell_type": "code",
   "execution_count": 49,
   "metadata": {},
   "outputs": [
    {
     "data": {
      "image/png": "[encoded data removed]",
      "text/plain": [
       "<Figure size 432x288 with 1 Axes>"
      ]
     },
     "metadata": {
      "needs_background": "light"
     },
     "output_type": "display_data"
    }
   ],
   "source": [
    "final_predictions_df.plot();"
   ]
  },
  {
   "cell_type": "code",
   "execution_count": null,
   "metadata": {},
   "outputs": [],
   "source": []
  }
 ],
 "metadata": {
  "kernelspec": {
   "display_name": "Python [conda env:deepenv] *",
   "language": "python",
   "name": "conda-env-deepenv-py"
  },
  "language_info": {
   "codemirror_mode": {
    "name": "ipython",
    "version": 3
   },
   "file_extension": ".py",
   "mimetype": "text/x-python",
   "name": "python",
   "nbconvert_exporter": "python",
   "pygments_lexer": "ipython3",
   "version": "3.7.9"
  }
 },
 "nbformat": 4,
 "nbformat_minor": 4
}
